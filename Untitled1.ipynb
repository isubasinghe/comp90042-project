{
 "cells": [
  {
   "cell_type": "code",
   "execution_count": 1,
   "metadata": {
    "colab": {
     "base_uri": "https://localhost:8080/"
    },
    "executionInfo": {
     "elapsed": 9641,
     "status": "ok",
     "timestamp": 1618657443773,
     "user": {
      "displayName": "Isitha Subasinghe",
      "photoUrl": "",
      "userId": "08476555080130277821"
     },
     "user_tz": -600
    },
    "id": "FZq0B8BYeia1",
    "outputId": "7757de48-5d62-40e9-98fd-55793eb787b6"
   },
   "outputs": [
    {
     "name": "stdout",
     "output_type": "stream",
     "text": [
      "Collecting transformers\n",
      "\u001b[?25l  Downloading https://files.pythonhosted.org/packages/d8/b2/57495b5309f09fa501866e225c84532d1fd89536ea62406b2181933fb418/transformers-4.5.1-py3-none-any.whl (2.1MB)\n",
      "\u001b[K     |████████████████████████████████| 2.1MB 6.2MB/s \n",
      "\u001b[?25hRequirement already satisfied: filelock in /usr/local/lib/python3.7/dist-packages (from transformers) (3.0.12)\n",
      "Requirement already satisfied: importlib-metadata; python_version < \"3.8\" in /usr/local/lib/python3.7/dist-packages (from transformers) (3.10.1)\n",
      "Collecting sacremoses\n",
      "\u001b[?25l  Downloading https://files.pythonhosted.org/packages/08/cd/342e584ee544d044fb573ae697404ce22ede086c9e87ce5960772084cad0/sacremoses-0.0.44.tar.gz (862kB)\n",
      "\u001b[K     |████████████████████████████████| 870kB 24.9MB/s \n",
      "\u001b[?25hRequirement already satisfied: numpy>=1.17 in /usr/local/lib/python3.7/dist-packages (from transformers) (1.19.5)\n",
      "Requirement already satisfied: requests in /usr/local/lib/python3.7/dist-packages (from transformers) (2.23.0)\n",
      "Collecting tokenizers<0.11,>=0.10.1\n",
      "\u001b[?25l  Downloading https://files.pythonhosted.org/packages/ae/04/5b870f26a858552025a62f1649c20d29d2672c02ff3c3fb4c688ca46467a/tokenizers-0.10.2-cp37-cp37m-manylinux2010_x86_64.whl (3.3MB)\n",
      "\u001b[K     |████████████████████████████████| 3.3MB 37.7MB/s \n",
      "\u001b[?25hRequirement already satisfied: tqdm>=4.27 in /usr/local/lib/python3.7/dist-packages (from transformers) (4.41.1)\n",
      "Requirement already satisfied: packaging in /usr/local/lib/python3.7/dist-packages (from transformers) (20.9)\n",
      "Requirement already satisfied: regex!=2019.12.17 in /usr/local/lib/python3.7/dist-packages (from transformers) (2019.12.20)\n",
      "Requirement already satisfied: zipp>=0.5 in /usr/local/lib/python3.7/dist-packages (from importlib-metadata; python_version < \"3.8\"->transformers) (3.4.1)\n",
      "Requirement already satisfied: typing-extensions>=3.6.4; python_version < \"3.8\" in /usr/local/lib/python3.7/dist-packages (from importlib-metadata; python_version < \"3.8\"->transformers) (3.7.4.3)\n",
      "Requirement already satisfied: six in /usr/local/lib/python3.7/dist-packages (from sacremoses->transformers) (1.15.0)\n",
      "Requirement already satisfied: click in /usr/local/lib/python3.7/dist-packages (from sacremoses->transformers) (7.1.2)\n",
      "Requirement already satisfied: joblib in /usr/local/lib/python3.7/dist-packages (from sacremoses->transformers) (1.0.1)\n",
      "Requirement already satisfied: certifi>=2017.4.17 in /usr/local/lib/python3.7/dist-packages (from requests->transformers) (2020.12.5)\n",
      "Requirement already satisfied: idna<3,>=2.5 in /usr/local/lib/python3.7/dist-packages (from requests->transformers) (2.10)\n",
      "Requirement already satisfied: urllib3!=1.25.0,!=1.25.1,<1.26,>=1.21.1 in /usr/local/lib/python3.7/dist-packages (from requests->transformers) (1.24.3)\n",
      "Requirement already satisfied: chardet<4,>=3.0.2 in /usr/local/lib/python3.7/dist-packages (from requests->transformers) (3.0.4)\n",
      "Requirement already satisfied: pyparsing>=2.0.2 in /usr/local/lib/python3.7/dist-packages (from packaging->transformers) (2.4.7)\n",
      "Building wheels for collected packages: sacremoses\n",
      "  Building wheel for sacremoses (setup.py) ... \u001b[?25l\u001b[?25hdone\n",
      "  Created wheel for sacremoses: filename=sacremoses-0.0.44-cp37-none-any.whl size=886084 sha256=3b2f3fec56376ee396d5a984a4e5114150fe14615e15df15f41e4af20a69f106\n",
      "  Stored in directory: /root/.cache/pip/wheels/3e/fb/c0/13ab4d63d537658f448366744654323077c4d90069b6512f3c\n",
      "Successfully built sacremoses\n",
      "Installing collected packages: sacremoses, tokenizers, transformers\n",
      "Successfully installed sacremoses-0.0.44 tokenizers-0.10.2 transformers-4.5.1\n"
     ]
    }
   ],
   "source": [
    "!pip install transformers"
   ]
  },
  {
   "cell_type": "code",
   "execution_count": 2,
   "metadata": {
    "colab": {
     "base_uri": "https://localhost:8080/"
    },
    "executionInfo": {
     "elapsed": 29011,
     "status": "ok",
     "timestamp": 1618657463150,
     "user": {
      "displayName": "Isitha Subasinghe",
      "photoUrl": "",
      "userId": "08476555080130277821"
     },
     "user_tz": -600
    },
    "id": "UZL50gbrLzp9",
    "outputId": "00e15fb5-6803-4b71-9245-f8e6c6e344c9"
   },
   "outputs": [
    {
     "name": "stdout",
     "output_type": "stream",
     "text": [
      "Collecting cloud-tpu-client==0.10\n",
      "  Downloading https://files.pythonhosted.org/packages/56/9f/7b1958c2886db06feb5de5b2c191096f9e619914b6c31fdf93999fdbbd8b/cloud_tpu_client-0.10-py3-none-any.whl\n",
      "Collecting torch-xla==1.8\n",
      "\u001b[?25l  Downloading https://storage.googleapis.com/tpu-pytorch/wheels/torch_xla-1.8-cp37-cp37m-linux_x86_64.whl (144.6MB)\n",
      "\u001b[K     |████████████████████████████████| 144.6MB 47kB/s \n",
      "\u001b[?25hCollecting google-api-python-client==1.8.0\n",
      "\u001b[?25l  Downloading https://files.pythonhosted.org/packages/9a/b4/a955f393b838bc47cbb6ae4643b9d0f90333d3b4db4dc1e819f36aad18cc/google_api_python_client-1.8.0-py3-none-any.whl (57kB)\n",
      "\u001b[K     |████████████████████████████████| 61kB 3.3MB/s \n",
      "\u001b[?25hRequirement already satisfied: oauth2client in /usr/local/lib/python3.7/dist-packages (from cloud-tpu-client==0.10) (4.1.3)\n",
      "Requirement already satisfied: google-auth-httplib2>=0.0.3 in /usr/local/lib/python3.7/dist-packages (from google-api-python-client==1.8.0->cloud-tpu-client==0.10) (0.0.4)\n",
      "Requirement already satisfied: uritemplate<4dev,>=3.0.0 in /usr/local/lib/python3.7/dist-packages (from google-api-python-client==1.8.0->cloud-tpu-client==0.10) (3.0.1)\n",
      "Requirement already satisfied: six<2dev,>=1.6.1 in /usr/local/lib/python3.7/dist-packages (from google-api-python-client==1.8.0->cloud-tpu-client==0.10) (1.15.0)\n",
      "Requirement already satisfied: google-auth>=1.4.1 in /usr/local/lib/python3.7/dist-packages (from google-api-python-client==1.8.0->cloud-tpu-client==0.10) (1.28.1)\n",
      "Requirement already satisfied: httplib2<1dev,>=0.9.2 in /usr/local/lib/python3.7/dist-packages (from google-api-python-client==1.8.0->cloud-tpu-client==0.10) (0.17.4)\n",
      "Requirement already satisfied: google-api-core<2dev,>=1.13.0 in /usr/local/lib/python3.7/dist-packages (from google-api-python-client==1.8.0->cloud-tpu-client==0.10) (1.26.3)\n",
      "Requirement already satisfied: pyasn1>=0.1.7 in /usr/local/lib/python3.7/dist-packages (from oauth2client->cloud-tpu-client==0.10) (0.4.8)\n",
      "Requirement already satisfied: pyasn1-modules>=0.0.5 in /usr/local/lib/python3.7/dist-packages (from oauth2client->cloud-tpu-client==0.10) (0.2.8)\n",
      "Requirement already satisfied: rsa>=3.1.4 in /usr/local/lib/python3.7/dist-packages (from oauth2client->cloud-tpu-client==0.10) (4.7.2)\n",
      "Requirement already satisfied: cachetools<5.0,>=2.0.0 in /usr/local/lib/python3.7/dist-packages (from google-auth>=1.4.1->google-api-python-client==1.8.0->cloud-tpu-client==0.10) (4.2.1)\n",
      "Requirement already satisfied: setuptools>=40.3.0 in /usr/local/lib/python3.7/dist-packages (from google-auth>=1.4.1->google-api-python-client==1.8.0->cloud-tpu-client==0.10) (54.2.0)\n",
      "Requirement already satisfied: packaging>=14.3 in /usr/local/lib/python3.7/dist-packages (from google-api-core<2dev,>=1.13.0->google-api-python-client==1.8.0->cloud-tpu-client==0.10) (20.9)\n",
      "Requirement already satisfied: protobuf>=3.12.0 in /usr/local/lib/python3.7/dist-packages (from google-api-core<2dev,>=1.13.0->google-api-python-client==1.8.0->cloud-tpu-client==0.10) (3.12.4)\n",
      "Requirement already satisfied: requests<3.0.0dev,>=2.18.0 in /usr/local/lib/python3.7/dist-packages (from google-api-core<2dev,>=1.13.0->google-api-python-client==1.8.0->cloud-tpu-client==0.10) (2.23.0)\n",
      "Requirement already satisfied: pytz in /usr/local/lib/python3.7/dist-packages (from google-api-core<2dev,>=1.13.0->google-api-python-client==1.8.0->cloud-tpu-client==0.10) (2018.9)\n",
      "Requirement already satisfied: googleapis-common-protos<2.0dev,>=1.6.0 in /usr/local/lib/python3.7/dist-packages (from google-api-core<2dev,>=1.13.0->google-api-python-client==1.8.0->cloud-tpu-client==0.10) (1.53.0)\n",
      "Requirement already satisfied: pyparsing>=2.0.2 in /usr/local/lib/python3.7/dist-packages (from packaging>=14.3->google-api-core<2dev,>=1.13.0->google-api-python-client==1.8.0->cloud-tpu-client==0.10) (2.4.7)\n",
      "Requirement already satisfied: idna<3,>=2.5 in /usr/local/lib/python3.7/dist-packages (from requests<3.0.0dev,>=2.18.0->google-api-core<2dev,>=1.13.0->google-api-python-client==1.8.0->cloud-tpu-client==0.10) (2.10)\n",
      "Requirement already satisfied: certifi>=2017.4.17 in /usr/local/lib/python3.7/dist-packages (from requests<3.0.0dev,>=2.18.0->google-api-core<2dev,>=1.13.0->google-api-python-client==1.8.0->cloud-tpu-client==0.10) (2020.12.5)\n",
      "Requirement already satisfied: chardet<4,>=3.0.2 in /usr/local/lib/python3.7/dist-packages (from requests<3.0.0dev,>=2.18.0->google-api-core<2dev,>=1.13.0->google-api-python-client==1.8.0->cloud-tpu-client==0.10) (3.0.4)\n",
      "Requirement already satisfied: urllib3!=1.25.0,!=1.25.1,<1.26,>=1.21.1 in /usr/local/lib/python3.7/dist-packages (from requests<3.0.0dev,>=2.18.0->google-api-core<2dev,>=1.13.0->google-api-python-client==1.8.0->cloud-tpu-client==0.10) (1.24.3)\n",
      "\u001b[31mERROR: earthengine-api 0.1.260 has requirement google-api-python-client<2,>=1.12.1, but you'll have google-api-python-client 1.8.0 which is incompatible.\u001b[0m\n",
      "Installing collected packages: google-api-python-client, cloud-tpu-client, torch-xla\n",
      "  Found existing installation: google-api-python-client 1.12.8\n",
      "    Uninstalling google-api-python-client-1.12.8:\n",
      "      Successfully uninstalled google-api-python-client-1.12.8\n",
      "Successfully installed cloud-tpu-client-0.10 google-api-python-client-1.8.0 torch-xla-1.8\n"
     ]
    }
   ],
   "source": [
    "!pip install cloud-tpu-client==0.10 https://storage.googleapis.com/tpu-pytorch/wheels/torch_xla-1.8-cp37-cp37m-linux_x86_64.whl"
   ]
  },
  {
   "cell_type": "code",
   "execution_count": 2,
   "metadata": {
    "executionInfo": {
     "elapsed": 29009,
     "status": "ok",
     "timestamp": 1618657463151,
     "user": {
      "displayName": "Isitha Subasinghe",
      "photoUrl": "",
      "userId": "08476555080130277821"
     },
     "user_tz": -600
    },
    "id": "lhEmiXL3L1uP"
   },
   "outputs": [],
   "source": []
  },
  {
   "cell_type": "code",
   "execution_count": 1,
   "metadata": {
    "colab": {
     "base_uri": "https://localhost:8080/"
    },
    "executionInfo": {
     "elapsed": 74274,
     "status": "ok",
     "timestamp": 1618657508419,
     "user": {
      "displayName": "Isitha Subasinghe",
      "photoUrl": "",
      "userId": "08476555080130277821"
     },
     "user_tz": -600
    },
    "id": "AG-V5mDdj4kH",
    "outputId": "194e989e-b5eb-4f65-dd5e-53a2d841ee35"
   },
   "outputs": [],
   "source": [
    "import json\n",
    "import matplotlib as mpl\n",
    "import matplotlib.pyplot as plt\n",
    "import pandas as pd \n",
    "import numpy as np\n",
    "import tensorflow as tf\n",
    "import tensorflow.keras as keras\n",
    "from collections import defaultdict\n",
    "from tqdm import tqdm\n",
    "from transformers import BertTokenizer, AutoModel, AutoTokenizer, TFAutoModel, pipeline, AdamW, BertConfig, BertModel, get_linear_schedule_with_warmup\n",
    "import nltk\n",
    "from nltk.corpus import stopwords\n",
    "from sklearn.feature_extraction.text import TfidfVectorizer\n",
    "from nltk.tokenize import TweetTokenizer\n",
    "from nltk.stem import WordNetLemmatizer\n",
    "from torch import nn, optim\n",
    "from torch.utils.data import Dataset, DataLoader\n",
    "import torch.nn.functional as F\n",
    "import torch\n",
    "%matplotlib inline"
   ]
  },
  {
   "cell_type": "code",
   "execution_count": 2,
   "metadata": {
    "colab": {
     "base_uri": "https://localhost:8080/"
    },
    "executionInfo": {
     "elapsed": 84185,
     "status": "ok",
     "timestamp": 1618657518335,
     "user": {
      "displayName": "Isitha Subasinghe",
      "photoUrl": "",
      "userId": "08476555080130277821"
     },
     "user_tz": -600
    },
    "id": "-68J1YASMrC_",
    "outputId": "80af14f0-cfa1-4e1e-aa38-8bad282a2c89"
   },
   "outputs": [
    {
     "data": {
      "text/plain": [
       "device(type='cuda')"
      ]
     },
     "execution_count": 2,
     "metadata": {},
     "output_type": "execute_result"
    }
   ],
   "source": [
    "device = torch.device(\"cuda\" if torch.cuda.is_available() else \"cpu\")\n",
    "device"
   ]
  },
  {
   "cell_type": "code",
   "execution_count": 3,
   "metadata": {
    "executionInfo": {
     "elapsed": 84184,
     "status": "ok",
     "timestamp": 1618657518335,
     "user": {
      "displayName": "Isitha Subasinghe",
      "photoUrl": "",
      "userId": "08476555080130277821"
     },
     "user_tz": -600
    },
    "id": "IQVjDiJatASb"
   },
   "outputs": [
    {
     "ename": "FileNotFoundError",
     "evalue": "[WinError 3] The system cannot find the path specified: 'drive/MyDrive/Colab Notebooks'",
     "output_type": "error",
     "traceback": [
      "\u001b[1;31m---------------------------------------------------------------------------\u001b[0m",
      "\u001b[1;31mFileNotFoundError\u001b[0m                         Traceback (most recent call last)",
      "\u001b[1;32m<ipython-input-3-6709072a983d>\u001b[0m in \u001b[0;36m<module>\u001b[1;34m\u001b[0m\n\u001b[0;32m      1\u001b[0m \u001b[1;32mimport\u001b[0m \u001b[0mos\u001b[0m\u001b[1;33m\u001b[0m\u001b[1;33m\u001b[0m\u001b[0m\n\u001b[1;32m----> 2\u001b[1;33m \u001b[0mos\u001b[0m\u001b[1;33m.\u001b[0m\u001b[0mchdir\u001b[0m\u001b[1;33m(\u001b[0m\u001b[1;34m\"drive/MyDrive/Colab Notebooks\"\u001b[0m\u001b[1;33m)\u001b[0m\u001b[1;33m\u001b[0m\u001b[1;33m\u001b[0m\u001b[0m\n\u001b[0m",
      "\u001b[1;31mFileNotFoundError\u001b[0m: [WinError 3] The system cannot find the path specified: 'drive/MyDrive/Colab Notebooks'"
     ]
    }
   ],
   "source": [
    "import os\n",
    "os.chdir(\"drive/MyDrive/Colab Notebooks\")"
   ]
  },
  {
   "cell_type": "code",
   "execution_count": 9,
   "metadata": {
    "executionInfo": {
     "elapsed": 88408,
     "status": "ok",
     "timestamp": 1618657522561,
     "user": {
      "displayName": "Isitha Subasinghe",
      "photoUrl": "",
      "userId": "08476555080130277821"
     },
     "user_tz": -600
    },
    "id": "Ac7D_BWFjvfD"
   },
   "outputs": [],
   "source": [
    "with open(\"./train.data.jsonl\", \"r\") as f:\n",
    "    raw_lines_train = f.readlines()\n",
    "with open(\"./train.label.json\", \"r\") as f:\n",
    "    raw_labels_train = f.readlines()\n",
    "\n",
    "with open(\"./dev.data.jsonl\", \"r\") as f:\n",
    "    raw_lines_dev = f.readlines()\n",
    "\n",
    "with open(\"./dev.label.json\", \"r\") as f:\n",
    "    raw_labels_dev = f.readlines()"
   ]
  },
  {
   "cell_type": "code",
   "execution_count": null,
   "metadata": {
    "executionInfo": {
     "elapsed": 88408,
     "status": "ok",
     "timestamp": 1618657522562,
     "user": {
      "displayName": "Isitha Subasinghe",
      "photoUrl": "",
      "userId": "08476555080130277821"
     },
     "user_tz": -600
    },
    "id": "4xcvFV_e14z5"
   },
   "outputs": [],
   "source": []
  },
  {
   "cell_type": "code",
   "execution_count": 10,
   "metadata": {
    "executionInfo": {
     "elapsed": 94879,
     "status": "ok",
     "timestamp": 1618657529035,
     "user": {
      "displayName": "Isitha Subasinghe",
      "photoUrl": "",
      "userId": "08476555080130277821"
     },
     "user_tz": -600
    },
    "id": "AB7KwCJvlQRj"
   },
   "outputs": [],
   "source": [
    "\n",
    "json_lines_train = [json.loads(line) for line in raw_lines_train]\n",
    "json_labels_train = [json.loads(line) for line in raw_labels_train][0]\n",
    "\n",
    "json_lines_dev = [json.loads(line) for line in raw_lines_dev]\n",
    "json_labels_dev = [json.loads(line) for line in raw_labels_dev][0]"
   ]
  },
  {
   "cell_type": "code",
   "execution_count": 11,
   "metadata": {
    "colab": {
     "base_uri": "https://localhost:8080/",
     "height": 283
    },
    "executionInfo": {
     "elapsed": 95458,
     "status": "ok",
     "timestamp": 1618657529619,
     "user": {
      "displayName": "Isitha Subasinghe",
      "photoUrl": "",
      "userId": "08476555080130277821"
     },
     "user_tz": -600
    },
    "id": "Q1-OTxuHlRU3",
    "outputId": "56cdda56-0a44-4b25-933d-554675590268"
   },
   "outputs": [
    {
     "data": {
      "text/plain": [
       "<BarContainer object of 60 artists>"
      ]
     },
     "execution_count": 11,
     "metadata": {},
     "output_type": "execute_result"
    },
    {
     "data": {
      "image/png": "[encoded data removed]",
      "text/plain": [
       "<Figure size 432x288 with 1 Axes>"
      ]
     },
     "metadata": {
      "needs_background": "light"
     },
     "output_type": "display_data"
    }
   ],
   "source": [
    "length_counts = defaultdict(int)\n",
    "\n",
    "for json_line in json_lines_train:\n",
    "    length_counts[len(json_line)] += 1\n",
    "\n",
    "(lx, ly) = ([], [])\n",
    "\n",
    "max_size = 0\n",
    "\n",
    "for (replies, num_replies) in length_counts.items():\n",
    "    max_size = max(max_size, replies)\n",
    "    if replies > 60:\n",
    "        continue\n",
    "    lx.append(replies)\n",
    "    ly.append(num_replies)\n",
    "    \n",
    "plt.bar(lx, ly)"
   ]
  },
  {
   "cell_type": "code",
   "execution_count": 12,
   "metadata": {
    "executionInfo": {
     "elapsed": 95458,
     "status": "ok",
     "timestamp": 1618657529620,
     "user": {
      "displayName": "Isitha Subasinghe",
      "photoUrl": "",
      "userId": "08476555080130277821"
     },
     "user_tz": -600
    },
    "id": "eRB8u9vg4IQq"
   },
   "outputs": [],
   "source": [
    "def map_label(status):\n",
    "  mapper = {'rumour': [0, 1], 'non-rumour': [1, 0]}\n",
    "  return mapper[status]"
   ]
  },
  {
   "cell_type": "code",
   "execution_count": 13,
   "metadata": {
    "executionInfo": {
     "elapsed": 94366,
     "status": "ok",
     "timestamp": 1618657529621,
     "user": {
      "displayName": "Isitha Subasinghe",
      "photoUrl": "",
      "userId": "08476555080130277821"
     },
     "user_tz": -600
    },
    "id": "GPhTyq7UtYfS"
   },
   "outputs": [],
   "source": [
    "def getText(json_lines, json_labels):\n",
    "    X = []\n",
    "    Y = np.zeros(len(json_lines))\n",
    "    \n",
    "    for i, lines in enumerate(json_lines):\n",
    "        X.append(list(map(lambda x: x['text'], lines)))\n",
    "        Y[i] = 1 if json_labels[lines[0]['id_str']] == 'rumour' else 0\n",
    "    return X, Y"
   ]
  },
  {
   "cell_type": "code",
   "execution_count": 14,
   "metadata": {
    "executionInfo": {
     "elapsed": 93814,
     "status": "ok",
     "timestamp": 1618657529621,
     "user": {
      "displayName": "Isitha Subasinghe",
      "photoUrl": "",
      "userId": "08476555080130277821"
     },
     "user_tz": -600
    },
    "id": "9K5rmOjftojF"
   },
   "outputs": [],
   "source": [
    "Xtrain, Ytrain = getText(json_lines_train, json_labels_train)"
   ]
  },
  {
   "cell_type": "code",
   "execution_count": 15,
   "metadata": {
    "executionInfo": {
     "elapsed": 93506,
     "status": "ok",
     "timestamp": 1618657529622,
     "user": {
      "displayName": "Isitha Subasinghe",
      "photoUrl": "",
      "userId": "08476555080130277821"
     },
     "user_tz": -600
    },
    "id": "isyM2NNntr-l"
   },
   "outputs": [],
   "source": [
    "Xdev, Ydev = getText(json_lines_dev, json_labels_dev)"
   ]
  },
  {
   "cell_type": "code",
   "execution_count": 16,
   "metadata": {
    "colab": {
     "base_uri": "https://localhost:8080/"
    },
    "executionInfo": {
     "elapsed": 92376,
     "status": "ok",
     "timestamp": 1618657529623,
     "user": {
      "displayName": "Isitha Subasinghe",
      "photoUrl": "",
      "userId": "08476555080130277821"
     },
     "user_tz": -600
    },
    "id": "33R_j9d5txNQ",
    "outputId": "f95f0991-f06e-44b9-e36a-b77ae2566a1f"
   },
   "outputs": [
    {
     "data": {
      "text/plain": [
       "0.0"
      ]
     },
     "execution_count": 16,
     "metadata": {},
     "output_type": "execute_result"
    }
   ],
   "source": [
    "Ytrain[0]\n",
    "\n",
    "\n"
   ]
  },
  {
   "cell_type": "code",
   "execution_count": 17,
   "metadata": {
    "colab": {
     "base_uri": "https://localhost:8080/"
    },
    "executionInfo": {
     "elapsed": 1364,
     "status": "ok",
     "timestamp": 1618657562373,
     "user": {
      "displayName": "Isitha Subasinghe",
      "photoUrl": "",
      "userId": "08476555080130277821"
     },
     "user_tz": -600
    },
    "id": "ldB1zhI68ect",
    "outputId": "295c4594-211b-4b3b-ab19-d3e67af8bf73"
   },
   "outputs": [
    {
     "name": "stderr",
     "output_type": "stream",
     "text": [
      "[nltk_data] Downloading package wordnet to C:\\Users\\Isitha\n",
      "[nltk_data]     Subasinghe\\AppData\\Roaming\\nltk_data...\n",
      "[nltk_data]   Package wordnet is already up-to-date!\n",
      "[nltk_data] Downloading package stopwords to C:\\Users\\Isitha\n",
      "[nltk_data]     Subasinghe\\AppData\\Roaming\\nltk_data...\n",
      "[nltk_data]   Package stopwords is already up-to-date!\n"
     ]
    }
   ],
   "source": [
    "nltk.download('wordnet')\n",
    "nltk.download('stopwords')\n",
    "def build_corpus_and_X(X, vectorizer=None):\n",
    "  corpus = []\n",
    "  newX = []\n",
    "  lem = WordNetLemmatizer()\n",
    "  tokenizer = TweetTokenizer(preserve_case=False, strip_handles=False, reduce_len=True)\n",
    "\n",
    "  for XArray in tqdm(X):\n",
    "    newArray = []\n",
    "    for sent in XArray:\n",
    "      newSent = []\n",
    "      for tok in tokenizer.tokenize(sent.lower()):\n",
    "        if tok not in stopwords.words('english') and tok != '.':\n",
    "          newSent.append(tok)\n",
    "      newSent = ' '.join(newSent)\n",
    "      corpus.append(newSent)\n",
    "      newArray.append(newSent)\n",
    "    newX.append(newArray)\n",
    "  if vectorizer is not None:\n",
    "    vect = vectorizer.transform(corpus)\n",
    "  else:\n",
    "    vectorizer = TfidfVectorizer()\n",
    "    vect = vectorizer.fit_transform(corpus)\n",
    "  return vectorizer, vect, newX"
   ]
  },
  {
   "cell_type": "code",
   "execution_count": 18,
   "metadata": {
    "colab": {
     "base_uri": "https://localhost:8080/"
    },
    "executionInfo": {
     "elapsed": 151832,
     "status": "ok",
     "timestamp": 1618657715678,
     "user": {
      "displayName": "Isitha Subasinghe",
      "photoUrl": "",
      "userId": "08476555080130277821"
     },
     "user_tz": -600
    },
    "id": "Do8Vi4imCbMi",
    "outputId": "24722f63-230f-403a-b6d4-1ca35f82faa4"
   },
   "outputs": [
    {
     "name": "stderr",
     "output_type": "stream",
     "text": [
      "100%|██████████████████████████████████████████████████████████████████████████████| 4641/4641 [03:25<00:00, 22.63it/s]\n"
     ]
    }
   ],
   "source": [
    "vectorizer, vect, newX = build_corpus_and_X(Xtrain)"
   ]
  },
  {
   "cell_type": "code",
   "execution_count": 19,
   "metadata": {
    "colab": {
     "base_uri": "https://localhost:8080/"
    },
    "executionInfo": {
     "elapsed": 151415,
     "status": "ok",
     "timestamp": 1618657715681,
     "user": {
      "displayName": "Isitha Subasinghe",
      "photoUrl": "",
      "userId": "08476555080130277821"
     },
     "user_tz": -600
    },
    "id": "golOOGkuDF7r",
    "outputId": "276626fe-e328-4afe-d89b-4c0e421054be"
   },
   "outputs": [
    {
     "data": {
      "text/plain": [
       "['respond murderous attack charlie hebdo ? every newspaper free world print http://t.co/sc2ot63f6j',\n",
       " '@heresy_corner @krustyallslopp jews label anyone like anti-semite campaign person / company finished',\n",
       " '@heresy_corner @krustyallslopp one',\n",
       " '@heresy_corner #imcharliehebdo',\n",
       " '@krustyallslopp ditto',\n",
       " '@grizzly_stats @tom_wein innocent muslims ought find insulting atrocity committed name , sodding cartoon',\n",
       " '@heresy_corner @krustyallslopp yes , becomes',\n",
       " '@heresy_corner @krustyallslopp insult people nothing ? people genuinely offended drawings',\n",
       " '@krustyallslopp @heresy_corner neither ! think little actual muslims',\n",
       " '@berg_han ah , like jews bye bye @krustyallslopp',\n",
       " '@heresy_corner also kid along benign stuff ... wham like river shite !',\n",
       " '@berg_han @heresy_corner good point',\n",
       " '@heresy_corner @pjfny ? http://t.co/d2qcavkf2h',\n",
       " \"@heresy_corner @krustyallslopp organised jewry , mean , actual people otherwise i'd hating ancestors\",\n",
       " '@theedwardian81 @heresy_corner ... : http://t.co/lmyxpmzw3v',\n",
       " '@heresy_corner @berg_han explored',\n",
       " \"@berg_han @krustyallslopp that's case , problem\",\n",
       " \"@heresy_corner @tom_wein point insulting billions innocent muslims thumb noses bunch lunatics.they ' worth\",\n",
       " '@heresy_corner oh dear ... saw tweets ... blocked',\n",
       " \"@berg_han @krustyallslopp learn offended , that's\",\n",
       " \"@heresy_corner @berg_han token jews , blacks irish people would ' learn ' offended either\",\n",
       " '@heresy_corner @berg_han get ... defend right free speech however much broader context',\n",
       " '@heresy_corner @berg_han record way , shape form defending atrocity',\n",
       " '@krustyallslopp @berg_han yes , remind last time jews bombed guardian',\n",
       " '@heresy_corner know ! gives creeps',\n",
       " \"@heresy_corner there's lot dodgy twitter accounts seem benign see real side :(\",\n",
       " \"@heresy_corner @krustyallslopp people insult something that's important , feel identity attack\",\n",
       " '@krustyallslopp remarkable quickly come woodwork',\n",
       " '@heresy_corner @edzardernst correct response brutality offend lots people * * support brutality ?']"
      ]
     },
     "execution_count": 19,
     "metadata": {},
     "output_type": "execute_result"
    }
   ],
   "source": [
    "newX[0]"
   ]
  },
  {
   "cell_type": "code",
   "execution_count": 20,
   "metadata": {
    "colab": {
     "base_uri": "https://localhost:8080/"
    },
    "executionInfo": {
     "elapsed": 154199,
     "status": "ok",
     "timestamp": 1618657719126,
     "user": {
      "displayName": "Isitha Subasinghe",
      "photoUrl": "",
      "userId": "08476555080130277821"
     },
     "user_tz": -600
    },
    "id": "RTC0-CwOGNzd",
    "outputId": "3314081d-2be9-442f-ebde-71703c5471cf"
   },
   "outputs": [
    {
     "name": "stderr",
     "output_type": "stream",
     "text": [
      "100%|█████████████████████████████████████████████████████████████████████████████| 4641/4641 [00:05<00:00, 789.55it/s]\n"
     ]
    }
   ],
   "source": [
    "tokenizer = TweetTokenizer(preserve_case=False, strip_handles=False, reduce_len=True)\n",
    "\n",
    "count = defaultdict(int)\n",
    "counts = []\n",
    "\n",
    "for item in tqdm(newX):\n",
    "  out = sum([len(tokenizer.tokenize(x)) for x in item])\n",
    "  counts.append(out)\n",
    "  count[out] += 1\n"
   ]
  },
  {
   "cell_type": "code",
   "execution_count": 21,
   "metadata": {
    "executionInfo": {
     "elapsed": 153364,
     "status": "ok",
     "timestamp": 1618657719586,
     "user": {
      "displayName": "Isitha Subasinghe",
      "photoUrl": "",
      "userId": "08476555080130277821"
     },
     "user_tz": -600
    },
    "id": "Pc8k-g5tn-vO"
   },
   "outputs": [],
   "source": [
    "import seaborn as sns"
   ]
  },
  {
   "cell_type": "code",
   "execution_count": 22,
   "metadata": {
    "executionInfo": {
     "elapsed": 153206,
     "status": "ok",
     "timestamp": 1618657719587,
     "user": {
      "displayName": "Isitha Subasinghe",
      "photoUrl": "",
      "userId": "08476555080130277821"
     },
     "user_tz": -600
    },
    "id": "3jB8VHpxpDTk"
   },
   "outputs": [],
   "source": [
    "cx, cy = [], []\n",
    "\n",
    "for key in count.keys():\n",
    "  cx.append(key)\n",
    "  cy.append(count[key])"
   ]
  },
  {
   "cell_type": "code",
   "execution_count": 23,
   "metadata": {
    "colab": {
     "base_uri": "https://localhost:8080/",
     "height": 283
    },
    "executionInfo": {
     "elapsed": 153754,
     "status": "ok",
     "timestamp": 1618657720693,
     "user": {
      "displayName": "Isitha Subasinghe",
      "photoUrl": "",
      "userId": "08476555080130277821"
     },
     "user_tz": -600
    },
    "id": "mz9G_ZnhpFf1",
    "outputId": "3df27d87-0dd9-4713-a005-cce9863d0499"
   },
   "outputs": [
    {
     "data": {
      "text/plain": [
       "<BarContainer object of 660 artists>"
      ]
     },
     "execution_count": 23,
     "metadata": {},
     "output_type": "execute_result"
    },
    {
     "data": {
      "image/png": "[encoded data removed]",
      "text/plain": [
       "<Figure size 432x288 with 1 Axes>"
      ]
     },
     "metadata": {
      "needs_background": "light"
     },
     "output_type": "display_data"
    }
   ],
   "source": [
    "plt.bar(cx, cy)"
   ]
  },
  {
   "cell_type": "code",
   "execution_count": 24,
   "metadata": {
    "colab": {
     "base_uri": "https://localhost:8080/",
     "height": 336
    },
    "executionInfo": {
     "elapsed": 154217,
     "status": "ok",
     "timestamp": 1618657722410,
     "user": {
      "displayName": "Isitha Subasinghe",
      "photoUrl": "",
      "userId": "08476555080130277821"
     },
     "user_tz": -600
    },
    "id": "ERJj6o9H3xdr",
    "outputId": "fead8a09-a834-4bb6-9bf6-332cfe2ef027"
   },
   "outputs": [
    {
     "name": "stderr",
     "output_type": "stream",
     "text": [
      "C:\\ProgramData\\Anaconda3\\lib\\site-packages\\seaborn\\distributions.py:2551: FutureWarning: `distplot` is a deprecated function and will be removed in a future version. Please adapt your code to use either `displot` (a figure-level function with similar flexibility) or `histplot` (an axes-level function for histograms).\n",
      "  warnings.warn(msg, FutureWarning)\n"
     ]
    },
    {
     "data": {
      "image/png": "[encoded data removed]",
      "text/plain": [
       "<Figure size 432x288 with 1 Axes>"
      ]
     },
     "metadata": {
      "needs_background": "light"
     },
     "output_type": "display_data"
    }
   ],
   "source": [
    "plot = sns.distplot(counts)\n",
    "plot.set(xlabel=\"Total Token Count\")\n",
    "fig = plot.get_figure()\n",
    "fig.savefig('./total_length_dist.png')"
   ]
  },
  {
   "cell_type": "code",
   "execution_count": 25,
   "metadata": {
    "colab": {
     "base_uri": "https://localhost:8080/",
     "height": 168,
     "referenced_widgets": [
      "cf99a59d7f9946a38542c8ce91c4bdb6",
      "41e03694a3824a7d80f1e197de1790e8",
      "05dff7b1355a4ffb903aaa3ca6f2cee7",
      "7210e3b9a4d54af7912a7dcfbf719fc0",
      "1e6b463e5b3d43f78eae60b821a1a53e",
      "a435c1490a364aefae0dfaf37c5cfddd",
      "d3cba34757594222947ea7243c0e942f",
      "3617c446d9904b7faf60582dfbf88835",
      "c5590214530d413f840b2c490b4eb08e",
      "0c0878a55d6c476daf75aa0f8b487557",
      "bbc752159bb54b869a8a82e2c7afbecb",
      "8b342ace844d44ba8e5d8f0b6f0a2ec5",
      "ccb2d5216a8d4032af3ce054cafdf2eb",
      "9857d6f70af4443487b2693719e71633",
      "6d58f2f8a2dc4d1fb80a933e4b2c9032",
      "d3118e79d9d24e8683a0ce6e29b58e4b",
      "3e919347c9804da7b3ee633ce0d50495",
      "40d4a6ac6e0644f6a712b5982d2c32b7",
      "c501ae0e02004a2ca885b82edaf9f540",
      "aad14afb29bc4f919ee946bce8e05016",
      "fdbafc176ccc421db1750a515b3c5292",
      "30f4942bd7a54975bee83724559392d5",
      "975a2c756ccd443f829fc4309c368832",
      "9dbc61d50fc6427ea2287aa3045c1eb8"
     ]
    },
    "executionInfo": {
     "elapsed": 1756,
     "status": "ok",
     "timestamp": 1618657734652,
     "user": {
      "displayName": "Isitha Subasinghe",
      "photoUrl": "",
      "userId": "08476555080130277821"
     },
     "user_tz": -600
    },
    "id": "cVxxM-1ypJui",
    "outputId": "ce68f80a-cbd2-4ba7-b127-7f9195865aab"
   },
   "outputs": [],
   "source": [
    "tokenizer = BertTokenizer.from_pretrained(\"bert-base-uncased\")"
   ]
  },
  {
   "cell_type": "code",
   "execution_count": null,
   "metadata": {
    "executionInfo": {
     "elapsed": 824,
     "status": "ok",
     "timestamp": 1618657734653,
     "user": {
      "displayName": "Isitha Subasinghe",
      "photoUrl": "",
      "userId": "08476555080130277821"
     },
     "user_tz": -600
    },
    "id": "HcQkwSfPrZsg"
   },
   "outputs": [],
   "source": []
  },
  {
   "cell_type": "markdown",
   "metadata": {
    "id": "dhN4GzXB2-2q"
   },
   "source": []
  },
  {
   "cell_type": "code",
   "execution_count": 26,
   "metadata": {
    "colab": {
     "base_uri": "https://localhost:8080/"
    },
    "executionInfo": {
     "elapsed": 595,
     "status": "ok",
     "timestamp": 1618657735660,
     "user": {
      "displayName": "Isitha Subasinghe",
      "photoUrl": "",
      "userId": "08476555080130277821"
     },
     "user_tz": -600
    },
    "id": "TAGYDGH2rt-r",
    "outputId": "22dc1500-09bf-4975-eba0-6375fe69d66b"
   },
   "outputs": [
    {
     "name": "stderr",
     "output_type": "stream",
     "text": [
      "Truncation was not explicitly activated but `max_length` is provided a specific value, please use `truncation=True` to explicitly truncate examples to max length. Defaulting to 'longest_first' truncation strategy. If you encode pairs of sequences (GLUE-style) with the tokenizer you can select this strategy more precisely by providing a specific strategy to `truncation`.\n"
     ]
    },
    {
     "name": "stdout",
     "output_type": "stream",
     "text": [
      "torch.Size([512])\n"
     ]
    },
    {
     "name": "stderr",
     "output_type": "stream",
     "text": [
      "C:\\ProgramData\\Anaconda3\\lib\\site-packages\\transformers\\tokenization_utils_base.py:2137: FutureWarning: The `pad_to_max_length` argument is deprecated and will be removed in a future version, use `padding=True` or `padding='longest'` to pad to the longest sequence in the batch, or use `padding='max_length'` to pad to a max length. In this case, you can give a specific length with `max_length` (e.g. `max_length=45`) or leave max_length to None to pad to the maximal input size of the model (e.g. 512 for Bert).\n",
      "  warnings.warn(\n"
     ]
    }
   ],
   "source": [
    "encoding = tokenizer.encode_plus(\n",
    "    \"hello world this is bert tokenizer\",\n",
    "    max_length=512,\n",
    "    add_special_tokens=True,\n",
    "    pad_to_max_length=True,\n",
    "    return_attention_mask=True,\n",
    "    return_token_type_ids=False,\n",
    "    return_tensors='pt'\n",
    ")\n",
    "\n",
    "print(encoding['input_ids'][0].shape)"
   ]
  },
  {
   "cell_type": "code",
   "execution_count": 27,
   "metadata": {
    "executionInfo": {
     "elapsed": 528,
     "status": "ok",
     "timestamp": 1618657737732,
     "user": {
      "displayName": "Isitha Subasinghe",
      "photoUrl": "",
      "userId": "08476555080130277821"
     },
     "user_tz": -600
    },
    "id": "EkRyfHFmsESB"
   },
   "outputs": [],
   "source": [
    "class TweetDataset(Dataset):\n",
    "  def __init__(self, texts, targets, tokenizer, max_len):\n",
    "    self.texts = texts\n",
    "    self.targets = targets\n",
    "    self.tokenzer = tokenizer\n",
    "    self.max_len = max_len\n",
    "    \n",
    "  def __len__(self):\n",
    "    return len(self.texts)\n",
    "  \n",
    "  def __getitem__(self, item):\n",
    "    review = self.texts[item]\n",
    "    encoding = tokenizer.encode_plus(\n",
    "        review,\n",
    "        max_length=self.max_len,\n",
    "        add_special_tokens=True,\n",
    "        pad_to_max_length=True,\n",
    "        return_attention_mask=True,\n",
    "        return_token_type_ids=False,\n",
    "        return_tensors='pt'\n",
    "    )\n",
    "\n",
    "    return {\n",
    "        'input_ids': encoding['input_ids'][0],\n",
    "        'attention_mask': encoding['attention_mask'][0],\n",
    "        'targets': torch.tensor(self.targets[item], dtype=torch.long)\n",
    "    }"
   ]
  },
  {
   "cell_type": "code",
   "execution_count": 28,
   "metadata": {
    "executionInfo": {
     "elapsed": 573,
     "status": "ok",
     "timestamp": 1618657739729,
     "user": {
      "displayName": "Isitha Subasinghe",
      "photoUrl": "",
      "userId": "08476555080130277821"
     },
     "user_tz": -600
    },
    "id": "Xf-0QGgn3F2S"
   },
   "outputs": [],
   "source": [
    "def create_data_loader(X, Y, tokenizer, max_len, batch_size):\n",
    "  ds = TweetDataset(\n",
    "      texts = X,\n",
    "      targets = Y,\n",
    "      tokenizer = tokenizer,\n",
    "      max_len = max_len\n",
    "  )\n",
    "  return DataLoader(ds, batch_size=batch_size, num_workers=0)"
   ]
  },
  {
   "cell_type": "code",
   "execution_count": null,
   "metadata": {
    "executionInfo": {
     "elapsed": 475,
     "status": "ok",
     "timestamp": 1618657740073,
     "user": {
      "displayName": "Isitha Subasinghe",
      "photoUrl": "",
      "userId": "08476555080130277821"
     },
     "user_tz": -600
    },
    "id": "n2b3otbZy0RK"
   },
   "outputs": [],
   "source": []
  },
  {
   "cell_type": "code",
   "execution_count": 29,
   "metadata": {
    "executionInfo": {
     "elapsed": 673,
     "status": "ok",
     "timestamp": 1618657740650,
     "user": {
      "displayName": "Isitha Subasinghe",
      "photoUrl": "",
      "userId": "08476555080130277821"
     },
     "user_tz": -600
    },
    "id": "AOCFS9W4pVcN"
   },
   "outputs": [],
   "source": [
    "newXtrain = [ ' [SEP] '.join(i) for i in newX ]"
   ]
  },
  {
   "cell_type": "code",
   "execution_count": 30,
   "metadata": {
    "colab": {
     "base_uri": "https://localhost:8080/"
    },
    "executionInfo": {
     "elapsed": 20608,
     "status": "ok",
     "timestamp": 1618657761334,
     "user": {
      "displayName": "Isitha Subasinghe",
      "photoUrl": "",
      "userId": "08476555080130277821"
     },
     "user_tz": -600
    },
    "id": "_5Jeahn9pteC",
    "outputId": "a81acec2-baf1-484c-e2b8-c048b5798c25"
   },
   "outputs": [
    {
     "name": "stderr",
     "output_type": "stream",
     "text": [
      "100%|████████████████████████████████████████████████████████████████████████████████| 580/580 [00:27<00:00, 21.34it/s]\n"
     ]
    }
   ],
   "source": [
    "_, vect, newXdev = build_corpus_and_X(Xdev, vectorizer=vectorizer)"
   ]
  },
  {
   "cell_type": "code",
   "execution_count": 31,
   "metadata": {
    "executionInfo": {
     "elapsed": 19995,
     "status": "ok",
     "timestamp": 1618657761335,
     "user": {
      "displayName": "Isitha Subasinghe",
      "photoUrl": "",
      "userId": "08476555080130277821"
     },
     "user_tz": -600
    },
    "id": "NuWgCn5Rpz3u"
   },
   "outputs": [],
   "source": [
    "newXdev = [ ' [SEP] '.join(i) for i in newXdev ]"
   ]
  },
  {
   "cell_type": "code",
   "execution_count": 32,
   "metadata": {
    "colab": {
     "base_uri": "https://localhost:8080/",
     "height": 91
    },
    "executionInfo": {
     "elapsed": 19399,
     "status": "ok",
     "timestamp": 1618657761335,
     "user": {
      "displayName": "Isitha Subasinghe",
      "photoUrl": "",
      "userId": "08476555080130277821"
     },
     "user_tz": -600
    },
    "id": "DOrLhoJxtU-u",
    "outputId": "f04c55ae-b588-4cf5-953b-483d16407e82"
   },
   "outputs": [
    {
     "data": {
      "text/plain": [
       "\"#breaking reports : 2 brothers suspected charlie hebdo attack dead http://t.co/7tgdsv4fr8 [SEP] @usatoday : unfortunate got wanted , die martyrs , i'm glad french people part [SEP] @usatoday @azcentral sucks think bigger picture need know know worked [SEP] “ @usatoday : #breaking reports : 2 brothers suspected charlie hebdo attack dead http://t.co/hdjaus61vn ” gone hell [SEP] @usatoday got kill ones ordered kill journalists right ? guess ... [SEP] @usatoday two less go ... [SEP] “ @usatoday : #breaking reports : 2 brothers suspected charlie hebdo attack dead http://t.co/ue36hqnbpb ” #jesuischarlie [SEP] “ @usatoday : #breaking reports : 2 brothers suspected charlie hebdo attack dead http://t.co/sspkep4eu6 ” good 🇫 🇷 [SEP] “ @usatoday : #breaking reports : 2 brothers suspected charlie hebdo attack dead http://t.co/0ulr0bh3rg ” [SEP] “ @usatoday : #breaking reports : 2 brothers suspected charlie hebdo attack dead http://t.co/r3df0nzlbu ” [SEP] @usatoday gave ... heard favorite radio station dc area ... thank u writing ... <3\""
      ]
     },
     "execution_count": 32,
     "metadata": {},
     "output_type": "execute_result"
    }
   ],
   "source": [
    "newXdev[0]"
   ]
  },
  {
   "cell_type": "code",
   "execution_count": 33,
   "metadata": {
    "executionInfo": {
     "elapsed": 18980,
     "status": "ok",
     "timestamp": 1618657761335,
     "user": {
      "displayName": "Isitha Subasinghe",
      "photoUrl": "",
      "userId": "08476555080130277821"
     },
     "user_tz": -600
    },
    "id": "T-Yd78tJtcSr"
   },
   "outputs": [],
   "source": [
    "train_ds = create_data_loader(newXtrain, Ytrain, tokenizer, 512, 4)"
   ]
  },
  {
   "cell_type": "code",
   "execution_count": 34,
   "metadata": {
    "executionInfo": {
     "elapsed": 17906,
     "status": "ok",
     "timestamp": 1618657761336,
     "user": {
      "displayName": "Isitha Subasinghe",
      "photoUrl": "",
      "userId": "08476555080130277821"
     },
     "user_tz": -600
    },
    "id": "FFIcIbnqtkWu"
   },
   "outputs": [],
   "source": [
    "test_ds = create_data_loader(newXdev, Ydev, tokenizer, 512, 4)"
   ]
  },
  {
   "cell_type": "code",
   "execution_count": 35,
   "metadata": {
    "colab": {
     "base_uri": "https://localhost:8080/",
     "height": 118,
     "referenced_widgets": [
      "26fa9418b96746b991546e1ea831292c",
      "b7f647aa1cb848bdb8b0b5fb20b58588",
      "4ec599c5744242e0ac20615e30ed4ad7",
      "db3a28c13393461f897c40be94398050",
      "5c51c97cb35a4213bfa2847631a98d29",
      "30353454075b44d698b857199c1ef0fe",
      "bd4107e71d684bd29505348a58ead1c2",
      "74ff949cd07d40899e57ea3ecf33d4b0",
      "b58dbe5b56df43c1bd842ba20dd474ed",
      "bc2548cb9a6b4665aae243dd4965a8e4",
      "bc82094848334d10908ec43e853d1673",
      "53befc8fd62147d99898368ba0ed53c3",
      "272980680445426a93f128e0c7b47379",
      "34d4df54097d42edb8981a0f66ea90da",
      "ecaa2ebdc79d461f811bd33cbffc47d2",
      "32964a5e12cb4b36af02662d35ffb2d6"
     ]
    },
    "executionInfo": {
     "elapsed": 31146,
     "status": "ok",
     "timestamp": 1618657775129,
     "user": {
      "displayName": "Isitha Subasinghe",
      "photoUrl": "",
      "userId": "08476555080130277821"
     },
     "user_tz": -600
    },
    "id": "NCuFgs-qtreO",
    "outputId": "5b2db35a-f52a-49f0-b3d1-9912466dbc09"
   },
   "outputs": [],
   "source": [
    "bert = BertModel.from_pretrained('bert-base-uncased')"
   ]
  },
  {
   "cell_type": "code",
   "execution_count": 36,
   "metadata": {
    "executionInfo": {
     "elapsed": 29668,
     "status": "ok",
     "timestamp": 1618657775381,
     "user": {
      "displayName": "Isitha Subasinghe",
      "photoUrl": "",
      "userId": "08476555080130277821"
     },
     "user_tz": -600
    },
    "id": "AVAZeOiVt65C"
   },
   "outputs": [],
   "source": [
    "class RumourClassifier(nn.Module):\n",
    "  def __init__(self, n_classes):\n",
    "    super(RumourClassifier, self).__init__()\n",
    "    self.bert = BertModel.from_pretrained(\"bert-base-uncased\")\n",
    "    self.drop = nn.Dropout(p=0.3)\n",
    "    self.out = nn.Linear(self.bert.config.hidden_size, n_classes)\n",
    "    self.softmax = nn.Softmax(dim=1)\n",
    "  \n",
    "  def forward(self, input_ids, attention_mask):\n",
    "    output = self.bert(\n",
    "        input_ids=input_ids, \n",
    "        attention_mask=attention_mask\n",
    "    ).pooler_output\n",
    "\n",
    "    output = self.drop(output)\n",
    "    output = self.out(output)\n",
    "    return self.softmax(output)\n",
    "  \n",
    "\n",
    "\n"
   ]
  },
  {
   "cell_type": "code",
   "execution_count": 37,
   "metadata": {
    "executionInfo": {
     "elapsed": 37581,
     "status": "ok",
     "timestamp": 1618657783608,
     "user": {
      "displayName": "Isitha Subasinghe",
      "photoUrl": "",
      "userId": "08476555080130277821"
     },
     "user_tz": -600
    },
    "id": "LBh-LPP1wa3z"
   },
   "outputs": [],
   "source": [
    "model = RumourClassifier(2)\n",
    "model = model.to(device)"
   ]
  },
  {
   "cell_type": "code",
   "execution_count": null,
   "metadata": {
    "colab": {
     "base_uri": "https://localhost:8080/"
    },
    "executionInfo": {
     "elapsed": 36545,
     "status": "ok",
     "timestamp": 1618657783609,
     "user": {
      "displayName": "Isitha Subasinghe",
      "photoUrl": "",
      "userId": "08476555080130277821"
     },
     "user_tz": -600
    },
    "id": "Ai22MqnhwjdL",
    "outputId": "cc14b012-671e-428d-f5dc-8b7ba28c313a"
   },
   "outputs": [],
   "source": [
    "data = next(iter(train_ds))"
   ]
  },
  {
   "cell_type": "code",
   "execution_count": null,
   "metadata": {
    "colab": {
     "base_uri": "https://localhost:8080/"
    },
    "executionInfo": {
     "elapsed": 33816,
     "status": "ok",
     "timestamp": 1618657783609,
     "user": {
      "displayName": "Isitha Subasinghe",
      "photoUrl": "",
      "userId": "08476555080130277821"
     },
     "user_tz": -600
    },
    "id": "XF5cGw8awr-N",
    "outputId": "33fcb4cf-6a47-45f0-8039-a71344580d47"
   },
   "outputs": [],
   "source": [
    "input_ids = data['input_ids'].to(device)\n",
    "attention_mask = data['attention_mask'].to(device)\n",
    "targets = data['targets'].to(device)\n",
    "\n",
    "print(input_ids.shape)\n",
    "print(attention_mask.shape)\n",
    "print(targets.shape)"
   ]
  },
  {
   "cell_type": "code",
   "execution_count": 35,
   "metadata": {},
   "outputs": [],
   "source": []
  },
  {
   "cell_type": "code",
   "execution_count": 38,
   "metadata": {
    "colab": {
     "base_uri": "https://localhost:8080/"
    },
    "executionInfo": {
     "elapsed": 54367,
     "status": "ok",
     "timestamp": 1618657804733,
     "user": {
      "displayName": "Isitha Subasinghe",
      "photoUrl": "",
      "userId": "08476555080130277821"
     },
     "user_tz": -600
    },
    "id": "6J4Anpl8wxMu",
    "outputId": "a3ddc034-287c-45c8-85b0-6b2962238777"
   },
   "outputs": [
    {
     "data": {
      "text/plain": [
       "tensor([[0.6041, 0.3959],\n",
       "        [0.5918, 0.4082],\n",
       "        [0.4236, 0.5764],\n",
       "        [0.6071, 0.3929]], device='cuda:0', grad_fn=<SoftmaxBackward>)"
      ]
     },
     "execution_count": 38,
     "metadata": {},
     "output_type": "execute_result"
    }
   ],
   "source": [
    "model(input_ids, attention_mask)"
   ]
  },
  {
   "cell_type": "code",
   "execution_count": 38,
   "metadata": {
    "executionInfo": {
     "elapsed": 51811,
     "status": "ok",
     "timestamp": 1618657804734,
     "user": {
      "displayName": "Isitha Subasinghe",
      "photoUrl": "",
      "userId": "08476555080130277821"
     },
     "user_tz": -600
    },
    "id": "VBmjS54ExR6J"
   },
   "outputs": [],
   "source": [
    "optimizer = AdamW(model.parameters(), lr=2e-5, correct_bias=False)\n",
    "\n",
    "total_steps = len(train_ds) * 150\n",
    "\n",
    "scheduler = get_linear_schedule_with_warmup(optimizer, num_warmup_steps=0, num_training_steps=total_steps)\n",
    "\n",
    "loss_fn = nn.CrossEntropyLoss().to(device)"
   ]
  },
  {
   "cell_type": "code",
   "execution_count": 41,
   "metadata": {
    "executionInfo": {
     "elapsed": 501,
     "status": "ok",
     "timestamp": 1618657820202,
     "user": {
      "displayName": "Isitha Subasinghe",
      "photoUrl": "",
      "userId": "08476555080130277821"
     },
     "user_tz": -600
    },
    "id": "qBgLcvpC1z-M"
   },
   "outputs": [],
   "source": [
    "def train_epoch(\n",
    "    model, \n",
    "    dl, \n",
    "    loss_fn, \n",
    "    optimizer, \n",
    "    scheduler, \n",
    "    n_examples\n",
    "):\n",
    "  model = model.train()\n",
    "  losses = []\n",
    "  correct_preds = 0\n",
    "\n",
    "  for d in dl:\n",
    "    input_ids = d['input_ids'].to(device)\n",
    "    attention_mask = d['attention_mask'].to(device)\n",
    "    targets = d['targets'].to(device)\n",
    "\n",
    "    output = model(input_ids, attention_mask)\n",
    "\n",
    "    _, pred = torch.max(output, dim=1)\n",
    "\n",
    "    loss = loss_fn(output, targets)\n",
    "\n",
    "    correct_preds += torch.sum(pred == targets)\n",
    "\n",
    "    del pred\n",
    "    del targets\n",
    "    del input_ids\n",
    "    del attention_mask\n",
    "    del output\n",
    "\n",
    "    losses.append(loss.item())\n",
    "\n",
    "    loss.backward()\n",
    "\n",
    "    # Gradient clipping hack\n",
    "    nn.utils.clip_grad_norm_(model.parameters(), max_norm=1.0)\n",
    "\n",
    "    optimizer.step()\n",
    "    scheduler.step()\n",
    "    optimizer.zero_grad()\n",
    "  \n",
    "  return correct_preds.double() / n_examples, np.mean(losses)\n",
    "\n",
    "\n"
   ]
  },
  {
   "cell_type": "code",
   "execution_count": 40,
   "metadata": {
    "executionInfo": {
     "elapsed": 567,
     "status": "ok",
     "timestamp": 1618657824196,
     "user": {
      "displayName": "Isitha Subasinghe",
      "photoUrl": "",
      "userId": "08476555080130277821"
     },
     "user_tz": -600
    },
    "id": "AL3AYhcW3_bn"
   },
   "outputs": [],
   "source": [
    "def eval_model(model, data_loader, loss_fn, n_examples):\n",
    "  model = model.eval()\n",
    "  losses = []\n",
    "  correct_preds = 0 \n",
    "\n",
    "  with torch.no_grad():\n",
    "    for d in data_loader:\n",
    "      input_ids = d['input_ids'].to(device)\n",
    "      attention_mask = d['attention_mask'].to(device)\n",
    "      targets = d['targets'].to(device)\n",
    "\n",
    "      output = model(input_ids, attention_mask)\n",
    "\n",
    "      _, pred = torch.max(output, dim=1)\n",
    "\n",
    "      loss = loss_fn(output, targets)\n",
    "\n",
    "      correct_preds += torch.sum(pred == targets)\n",
    "\n",
    "      losses.append(loss.item())\n",
    "\n",
    "      del pred\n",
    "      del targets\n",
    "      del input_ids\n",
    "      del attention_mask\n",
    "      del output\n",
    "\n",
    "  return correct_preds.double() / n_examples, np.mean(losses)\n",
    "\n"
   ]
  },
  {
   "cell_type": "code",
   "execution_count": 42,
   "metadata": {
    "colab": {
     "base_uri": "https://localhost:8080/",
     "height": 1000
    },
    "executionInfo": {
     "elapsed": 2873926,
     "status": "error",
     "timestamp": 1618693349835,
     "user": {
      "displayName": "Isitha Subasinghe",
      "photoUrl": "",
      "userId": "08476555080130277821"
     },
     "user_tz": -600
    },
    "id": "vYzL7Hsca2wZ",
    "outputId": "4006d585-fe27-48c7-b37d-f9a2bf9700e9"
   },
   "outputs": [
    {
     "name": "stderr",
     "output_type": "stream",
     "text": [
      "  0%|                                                                                          | 0/150 [00:00<?, ?it/s]<ipython-input-27-94a524199502>:26: DeprecationWarning: an integer is required (got type numpy.float64).  Implicit conversion to integers using __int__ is deprecated, and may be removed in a future version of Python.\n",
      "  'targets': torch.tensor(self.targets[item], dtype=torch.long)\n"
     ]
    },
    {
     "name": "stdout",
     "output_type": "stream",
     "text": [
      "Epoch 1/150\n",
      "----------\n",
      "Train loss 0.5797589502901378 accuracy 0.7173023055375997\n",
      "Val   loss 0.5082919328377165 accuracy 0.7931034482758621\n",
      "\n"
     ]
    },
    {
     "name": "stderr",
     "output_type": "stream",
     "text": [
      "\r",
      "  1%|▌                                                                             | 1/150 [05:00<12:27:05, 300.84s/it]"
     ]
    },
    {
     "name": "stdout",
     "output_type": "stream",
     "text": [
      "Epoch 2/150\n",
      "----------\n",
      "Train loss 0.4831100758758729 accuracy 0.826115061409179\n",
      "Val   loss 0.4461193471119322 accuracy 0.8672413793103448\n",
      "\n"
     ]
    },
    {
     "name": "stderr",
     "output_type": "stream",
     "text": [
      "\r",
      "  1%|█                                                                             | 2/150 [10:00<12:20:56, 300.38s/it]"
     ]
    },
    {
     "name": "stdout",
     "output_type": "stream",
     "text": [
      "Epoch 3/150\n",
      "----------\n",
      "Train loss 0.4667055584252856 accuracy 0.845722904546434\n"
     ]
    },
    {
     "name": "stderr",
     "output_type": "stream",
     "text": [
      "\r",
      "  2%|█▌                                                                            | 3/150 [14:58<12:14:21, 299.74s/it]"
     ]
    },
    {
     "name": "stdout",
     "output_type": "stream",
     "text": [
      "Val   loss 0.4665744571850218 accuracy 0.846551724137931\n",
      "\n",
      "Epoch 4/150\n",
      "----------\n",
      "Train loss 0.465387924697048 accuracy 0.8474466709760827\n"
     ]
    },
    {
     "name": "stderr",
     "output_type": "stream",
     "text": [
      "\r",
      "  3%|██                                                                            | 4/150 [19:56<12:08:30, 299.39s/it]"
     ]
    },
    {
     "name": "stdout",
     "output_type": "stream",
     "text": [
      "Val   loss 0.48051482973427606 accuracy 0.8327586206896551\n",
      "\n",
      "Epoch 5/150\n",
      "----------\n",
      "Train loss 0.45580645304728334 accuracy 0.8552036199095022\n"
     ]
    },
    {
     "name": "stderr",
     "output_type": "stream",
     "text": [
      "\r",
      "  3%|██▌                                                                           | 5/150 [24:53<12:01:19, 298.48s/it]"
     ]
    },
    {
     "name": "stdout",
     "output_type": "stream",
     "text": [
      "Val   loss 0.5622806789546178 accuracy 0.75\n",
      "\n",
      "Epoch 6/150\n",
      "----------\n",
      "Train loss 0.4547041435112325 accuracy 0.8584356819650937\n"
     ]
    },
    {
     "name": "stderr",
     "output_type": "stream",
     "text": [
      "\r",
      "  4%|███                                                                           | 6/150 [29:47<11:53:04, 297.12s/it]"
     ]
    },
    {
     "name": "stdout",
     "output_type": "stream",
     "text": [
      "Val   loss 0.5547727356696951 accuracy 0.7586206896551724\n",
      "\n",
      "Epoch 7/150\n",
      "----------\n",
      "Train loss 0.46225305174980363 accuracy 0.8506787330316742\n"
     ]
    },
    {
     "name": "stderr",
     "output_type": "stream",
     "text": [
      "\r",
      "  5%|███▋                                                                          | 7/150 [34:41<11:45:45, 296.12s/it]"
     ]
    },
    {
     "name": "stdout",
     "output_type": "stream",
     "text": [
      "Val   loss 0.44588863130273493 accuracy 0.8672413793103448\n",
      "\n",
      "Epoch 8/150\n",
      "----------\n",
      "Train loss 0.43581339298498006 accuracy 0.8771816418875242\n"
     ]
    },
    {
     "name": "stderr",
     "output_type": "stream",
     "text": [
      "\r",
      "  5%|████▏                                                                         | 8/150 [39:34<11:39:08, 295.41s/it]"
     ]
    },
    {
     "name": "stdout",
     "output_type": "stream",
     "text": [
      "Val   loss 0.45981400177396575 accuracy 0.853448275862069\n",
      "\n",
      "Epoch 9/150\n",
      "----------\n",
      "Train loss 0.46251805179289557 accuracy 0.8506787330316742\n"
     ]
    },
    {
     "name": "stderr",
     "output_type": "stream",
     "text": [
      "\r",
      "  6%|████▋                                                                         | 9/150 [44:28<11:33:10, 294.97s/it]"
     ]
    },
    {
     "name": "stdout",
     "output_type": "stream",
     "text": [
      "Val   loss 0.47013995380237183 accuracy 0.843103448275862\n",
      "\n",
      "Epoch 10/150\n",
      "----------\n",
      "Train loss 0.4431443098390236 accuracy 0.870071105365223\n",
      "Val   loss 0.43739097858297415 accuracy 0.8758620689655172\n",
      "\n"
     ]
    },
    {
     "name": "stderr",
     "output_type": "stream",
     "text": [
      "\r",
      "  7%|█████▏                                                                       | 10/150 [49:23<11:28:09, 294.92s/it]"
     ]
    },
    {
     "name": "stdout",
     "output_type": "stream",
     "text": [
      "Epoch 11/150\n",
      "----------\n",
      "Train loss 0.4754367330585647 accuracy 0.8377504848093084\n"
     ]
    },
    {
     "name": "stderr",
     "output_type": "stream",
     "text": [
      "\r",
      "  7%|█████▋                                                                       | 11/150 [54:17<11:22:35, 294.65s/it]"
     ]
    },
    {
     "name": "stdout",
     "output_type": "stream",
     "text": [
      "Val   loss 0.48394651289643914 accuracy 0.8293103448275861\n",
      "\n",
      "Epoch 12/150\n",
      "----------\n",
      "Train loss 0.4736271270845185 accuracy 0.8390433096315449\n"
     ]
    },
    {
     "name": "stderr",
     "output_type": "stream",
     "text": [
      "\r",
      "  8%|██████▏                                                                      | 12/150 [59:09<11:15:53, 293.87s/it]"
     ]
    },
    {
     "name": "stdout",
     "output_type": "stream",
     "text": [
      "Val   loss 0.4436370863996703 accuracy 0.8706896551724138\n",
      "\n",
      "Epoch 13/150\n",
      "----------\n",
      "Train loss 0.4547083334456632 accuracy 0.8584356819650937\n"
     ]
    },
    {
     "name": "stderr",
     "output_type": "stream",
     "text": [
      "\r",
      "  9%|██████▌                                                                    | 13/150 [1:04:01<11:09:29, 293.21s/it]"
     ]
    },
    {
     "name": "stdout",
     "output_type": "stream",
     "text": [
      "Val   loss 0.5132526895095562 accuracy 0.7965517241379311\n",
      "\n",
      "Epoch 14/150\n",
      "----------\n",
      "Train loss 0.45445325921877616 accuracy 0.8582202111613876\n"
     ]
    },
    {
     "name": "stderr",
     "output_type": "stream",
     "text": [
      "\r",
      "  9%|███████                                                                    | 14/150 [1:08:52<11:03:34, 292.75s/it]"
     ]
    },
    {
     "name": "stdout",
     "output_type": "stream",
     "text": [
      "Val   loss 0.441870766055995 accuracy 0.8706896551724138\n",
      "\n",
      "Epoch 15/150\n",
      "----------\n",
      "Train loss 0.44043229552407803 accuracy 0.8728722258134023\n"
     ]
    },
    {
     "name": "stderr",
     "output_type": "stream",
     "text": [
      "\r",
      " 10%|███████▌                                                                   | 15/150 [1:13:44<10:57:56, 292.42s/it]"
     ]
    },
    {
     "name": "stdout",
     "output_type": "stream",
     "text": [
      "Val   loss 0.44723699380611553 accuracy 0.8655172413793103\n",
      "\n",
      "Epoch 16/150\n",
      "----------\n",
      "Train loss 0.44392976395843564 accuracy 0.8692092221503986\n",
      "Val   loss 0.43567649865972585 accuracy 0.8775862068965518\n",
      "\n"
     ]
    },
    {
     "name": "stderr",
     "output_type": "stream",
     "text": [
      "\r",
      " 11%|████████                                                                   | 16/150 [1:18:37<10:53:05, 292.43s/it]"
     ]
    },
    {
     "name": "stdout",
     "output_type": "stream",
     "text": [
      "Epoch 17/150\n",
      "----------\n",
      "Train loss 0.4629182913609356 accuracy 0.850247791424262\n",
      "Val   loss 0.42877961520490976 accuracy 0.8844827586206896\n",
      "\n"
     ]
    },
    {
     "name": "stderr",
     "output_type": "stream",
     "text": [
      "\r",
      " 11%|████████▌                                                                  | 17/150 [1:23:29<10:48:15, 292.45s/it]"
     ]
    },
    {
     "name": "stdout",
     "output_type": "stream",
     "text": [
      "Epoch 18/150\n",
      "----------\n",
      "Train loss 0.4411971647096645 accuracy 0.8720103425985779\n"
     ]
    },
    {
     "name": "stderr",
     "output_type": "stream",
     "text": [
      "\r",
      " 12%|█████████                                                                  | 18/150 [1:28:21<10:42:51, 292.21s/it]"
     ]
    },
    {
     "name": "stdout",
     "output_type": "stream",
     "text": [
      "Val   loss 0.43912420786660294 accuracy 0.8741379310344828\n",
      "\n",
      "Epoch 19/150\n",
      "----------\n",
      "Train loss 0.4422724655637651 accuracy 0.8709329885800474\n",
      "Val   loss 0.4253310419362167 accuracy 0.8879310344827586\n",
      "\n"
     ]
    },
    {
     "name": "stderr",
     "output_type": "stream",
     "text": [
      "\r",
      " 13%|█████████▌                                                                 | 19/150 [1:33:13<10:38:13, 292.31s/it]"
     ]
    },
    {
     "name": "stdout",
     "output_type": "stream",
     "text": [
      "Epoch 20/150\n",
      "----------\n",
      "Train loss 0.44722926347138653 accuracy 0.8659771600948071\n"
     ]
    },
    {
     "name": "stderr",
     "output_type": "stream",
     "text": [
      "\r",
      " 13%|██████████                                                                 | 20/150 [1:38:05<10:32:50, 292.08s/it]"
     ]
    },
    {
     "name": "stdout",
     "output_type": "stream",
     "text": [
      "Val   loss 0.43395353925639185 accuracy 0.8793103448275862\n",
      "\n",
      "Epoch 21/150\n",
      "----------\n",
      "Train loss 0.43126508324029217 accuracy 0.8819219995690584\n"
     ]
    },
    {
     "name": "stderr",
     "output_type": "stream",
     "text": [
      "\r",
      " 14%|██████████▌                                                                | 21/150 [1:42:56<10:27:39, 291.93s/it]"
     ]
    },
    {
     "name": "stdout",
     "output_type": "stream",
     "text": [
      "Val   loss 0.45118119038384535 accuracy 0.8620689655172413\n",
      "\n",
      "Epoch 22/150\n",
      "----------\n",
      "Train loss 0.45759391384223325 accuracy 0.8556345615169144\n"
     ]
    },
    {
     "name": "stderr",
     "output_type": "stream",
     "text": [
      "\r",
      " 15%|███████████                                                                | 22/150 [1:47:48<10:22:36, 291.85s/it]"
     ]
    },
    {
     "name": "stdout",
     "output_type": "stream",
     "text": [
      "Val   loss 0.47015837102100766 accuracy 0.843103448275862\n",
      "\n",
      "Epoch 23/150\n",
      "----------\n",
      "Train loss 0.4659729053705135 accuracy 0.8472312001723766\n"
     ]
    },
    {
     "name": "stderr",
     "output_type": "stream",
     "text": [
      "\r",
      " 15%|███████████▌                                                               | 23/150 [1:52:39<10:17:29, 291.73s/it]"
     ]
    },
    {
     "name": "stdout",
     "output_type": "stream",
     "text": [
      "Val   loss 0.5274284159315044 accuracy 0.7862068965517242\n",
      "\n",
      "Epoch 24/150\n",
      "----------\n",
      "Train loss 0.4858353020403531 accuracy 0.8271924154277095\n"
     ]
    },
    {
     "name": "stderr",
     "output_type": "stream",
     "text": [
      "\r",
      " 16%|████████████                                                               | 24/150 [1:57:31<10:12:35, 291.71s/it]"
     ]
    },
    {
     "name": "stdout",
     "output_type": "stream",
     "text": [
      "Val   loss 0.5218824446201324 accuracy 0.7913793103448276\n",
      "\n",
      "Epoch 25/150\n",
      "----------\n",
      "Train loss 0.45726110530146025 accuracy 0.8558500323206205\n"
     ]
    },
    {
     "name": "stderr",
     "output_type": "stream",
     "text": [
      "\r",
      " 17%|████████████▌                                                              | 25/150 [2:02:23<10:08:01, 291.85s/it]"
     ]
    },
    {
     "name": "stdout",
     "output_type": "stream",
     "text": [
      "Val   loss 0.5046415357754148 accuracy 0.8086206896551724\n",
      "\n",
      "Epoch 26/150\n",
      "----------\n",
      "Train loss 0.4713074162692268 accuracy 0.8418444300797242\n"
     ]
    },
    {
     "name": "stderr",
     "output_type": "stream",
     "text": [
      "\r",
      " 17%|█████████████                                                              | 26/150 [2:07:15<10:03:07, 291.83s/it]"
     ]
    },
    {
     "name": "stdout",
     "output_type": "stream",
     "text": [
      "Val   loss 0.4736358617914134 accuracy 0.8396551724137931\n",
      "\n",
      "Epoch 27/150\n",
      "----------\n",
      "Train loss 0.4663890382013477 accuracy 0.8468002585649644\n"
     ]
    },
    {
     "name": "stderr",
     "output_type": "stream",
     "text": [
      "\r",
      " 18%|█████████████▋                                                              | 27/150 [2:12:07<9:58:02, 291.73s/it]"
     ]
    },
    {
     "name": "stdout",
     "output_type": "stream",
     "text": [
      "Val   loss 0.45464109942830844 accuracy 0.8586206896551724\n",
      "\n",
      "Epoch 28/150\n",
      "----------\n",
      "Train loss 0.4427972287324664 accuracy 0.8702865761689291\n"
     ]
    },
    {
     "name": "stderr",
     "output_type": "stream",
     "text": [
      "\r",
      " 19%|██████████████▏                                                             | 28/150 [2:16:58<9:53:03, 291.67s/it]"
     ]
    },
    {
     "name": "stdout",
     "output_type": "stream",
     "text": [
      "Val   loss 0.4494686841964722 accuracy 0.8637931034482759\n",
      "\n",
      "Epoch 29/150\n",
      "----------\n",
      "Train loss 0.45900171047957367 accuracy 0.8541262658909717\n"
     ]
    },
    {
     "name": "stderr",
     "output_type": "stream",
     "text": [
      "\r",
      " 19%|██████████████▋                                                             | 29/150 [2:21:50<9:48:07, 291.63s/it]"
     ]
    },
    {
     "name": "stdout",
     "output_type": "stream",
     "text": [
      "Val   loss 0.444296271431035 accuracy 0.8689655172413793\n",
      "\n",
      "Epoch 30/150\n",
      "----------\n",
      "Train loss 0.4431051656051918 accuracy 0.870071105365223\n"
     ]
    },
    {
     "name": "stderr",
     "output_type": "stream",
     "text": [
      "\r",
      " 20%|███████████████▏                                                            | 30/150 [2:26:42<9:43:33, 291.78s/it]"
     ]
    },
    {
     "name": "stdout",
     "output_type": "stream",
     "text": [
      "Val   loss 0.45981351774314355 accuracy 0.853448275862069\n",
      "\n",
      "Epoch 31/150\n",
      "----------\n",
      "Train loss 0.4581800145285588 accuracy 0.8549881491057961\n"
     ]
    },
    {
     "name": "stderr",
     "output_type": "stream",
     "text": [
      "\r",
      " 21%|███████████████▋                                                            | 31/150 [2:31:34<9:39:10, 292.02s/it]"
     ]
    },
    {
     "name": "stdout",
     "output_type": "stream",
     "text": [
      "Val   loss 0.4736066026934262 accuracy 0.8396551724137931\n",
      "\n",
      "Epoch 32/150\n",
      "----------\n",
      "Train loss 0.4555969085804252 accuracy 0.8575737987502693\n"
     ]
    },
    {
     "name": "stderr",
     "output_type": "stream",
     "text": [
      "\r",
      " 21%|████████████████▏                                                           | 32/150 [2:36:26<9:34:15, 292.00s/it]"
     ]
    },
    {
     "name": "stdout",
     "output_type": "stream",
     "text": [
      "Val   loss 0.4598135183597433 accuracy 0.853448275862069\n",
      "\n",
      "Epoch 33/150\n",
      "----------\n",
      "Train loss 0.4788473584239181 accuracy 0.8343029519500107\n"
     ]
    },
    {
     "name": "stderr",
     "output_type": "stream",
     "text": [
      "\r",
      " 22%|████████████████▋                                                           | 33/150 [2:41:20<9:30:10, 292.40s/it]"
     ]
    },
    {
     "name": "stdout",
     "output_type": "stream",
     "text": [
      "Val   loss 0.4667100727558136 accuracy 0.846551724137931\n",
      "\n",
      "Epoch 34/150\n",
      "----------\n",
      "Train loss 0.4825140759926434 accuracy 0.830639948287007\n"
     ]
    },
    {
     "name": "stderr",
     "output_type": "stream",
     "text": [
      "\r",
      " 23%|█████████████████▏                                                          | 34/150 [2:46:16<9:27:45, 293.67s/it]"
     ]
    },
    {
     "name": "stdout",
     "output_type": "stream",
     "text": [
      "Val   loss 0.5339501559734344 accuracy 0.7793103448275862\n",
      "\n",
      "Epoch 35/150\n",
      "----------\n",
      "Train loss 0.5346226617758075 accuracy 0.7784960137901314\n"
     ]
    },
    {
     "name": "stderr",
     "output_type": "stream",
     "text": [
      "\r",
      " 23%|█████████████████▋                                                          | 35/150 [2:51:11<9:23:41, 294.10s/it]"
     ]
    },
    {
     "name": "stdout",
     "output_type": "stream",
     "text": [
      "Val   loss 0.5649858357577489 accuracy 0.7482758620689655\n",
      "\n",
      "Epoch 36/150\n",
      "----------\n",
      "Train loss 0.4738992061417848 accuracy 0.839258780435251\n"
     ]
    },
    {
     "name": "stderr",
     "output_type": "stream",
     "text": [
      "\r",
      " 24%|██████████████████▏                                                         | 36/150 [2:56:06<9:19:18, 294.37s/it]"
     ]
    },
    {
     "name": "stdout",
     "output_type": "stream",
     "text": [
      "Val   loss 0.46498588200273183 accuracy 0.8482758620689655\n",
      "\n",
      "Epoch 37/150\n",
      "----------\n",
      "Train loss 0.4741150443149373 accuracy 0.8390433096315449\n"
     ]
    },
    {
     "name": "stderr",
     "output_type": "stream",
     "text": [
      "\r",
      " 25%|██████████████████▋                                                         | 37/150 [3:01:01<9:14:31, 294.44s/it]"
     ]
    },
    {
     "name": "stdout",
     "output_type": "stream",
     "text": [
      "Val   loss 0.46153778187159833 accuracy 0.8517241379310345\n",
      "\n",
      "Epoch 38/150\n",
      "----------\n",
      "Train loss 0.4489206858588949 accuracy 0.8642533936651583\n"
     ]
    },
    {
     "name": "stderr",
     "output_type": "stream",
     "text": [
      "\r",
      " 25%|███████████████████▎                                                        | 38/150 [3:05:54<9:09:00, 294.11s/it]"
     ]
    },
    {
     "name": "stdout",
     "output_type": "stream",
     "text": [
      "Val   loss 0.4580893522706525 accuracy 0.8551724137931034\n",
      "\n",
      "Epoch 39/150\n",
      "----------\n",
      "Train loss 0.4497896488579463 accuracy 0.8633915104503339\n"
     ]
    },
    {
     "name": "stderr",
     "output_type": "stream",
     "text": [
      "\r",
      " 26%|███████████████████▊                                                        | 39/150 [3:10:48<9:03:38, 293.86s/it]"
     ]
    },
    {
     "name": "stdout",
     "output_type": "stream",
     "text": [
      "Val   loss 0.4649858801529325 accuracy 0.8482758620689655\n",
      "\n",
      "Epoch 40/150\n",
      "----------\n",
      "Train loss 0.47196114461140626 accuracy 0.8411980176686059\n"
     ]
    },
    {
     "name": "stderr",
     "output_type": "stream",
     "text": [
      "\r",
      " 27%|████████████████████▎                                                       | 40/150 [3:15:42<8:59:05, 294.05s/it]"
     ]
    },
    {
     "name": "stdout",
     "output_type": "stream",
     "text": [
      "Val   loss 0.4856755375862122 accuracy 0.8275862068965517\n",
      "\n",
      "Epoch 41/150\n",
      "----------\n",
      "Train loss 0.499738933170386 accuracy 0.8134022839905193\n"
     ]
    },
    {
     "name": "stderr",
     "output_type": "stream",
     "text": [
      "\r",
      " 27%|████████████████████▊                                                       | 41/150 [3:20:37<8:54:32, 294.25s/it]"
     ]
    },
    {
     "name": "stdout",
     "output_type": "stream",
     "text": [
      "Val   loss 0.48739967839471227 accuracy 0.8258620689655173\n",
      "\n",
      "Epoch 42/150\n",
      "----------\n",
      "Train loss 0.454088686998295 accuracy 0.859082094376212\n"
     ]
    },
    {
     "name": "stderr",
     "output_type": "stream",
     "text": [
      "\r",
      " 28%|█████████████████████▎                                                      | 42/150 [3:25:32<8:50:02, 294.47s/it]"
     ]
    },
    {
     "name": "stdout",
     "output_type": "stream",
     "text": [
      "Val   loss 0.45808933356712606 accuracy 0.8551724137931034\n",
      "\n",
      "Epoch 43/150\n",
      "----------\n",
      "Train loss 0.43919923259819715 accuracy 0.8739495798319328\n"
     ]
    },
    {
     "name": "stderr",
     "output_type": "stream",
     "text": [
      "\r",
      " 29%|█████████████████████▊                                                      | 43/150 [3:30:29<8:46:32, 295.26s/it]"
     ]
    },
    {
     "name": "stdout",
     "output_type": "stream",
     "text": [
      "Val   loss 0.4408479546678477 accuracy 0.8724137931034482\n",
      "\n",
      "Epoch 44/150\n",
      "----------\n"
     ]
    },
    {
     "name": "stderr",
     "output_type": "stream",
     "text": [
      " 29%|█████████████████████▊                                                      | 43/150 [3:30:43<8:44:21, 294.03s/it]\n"
     ]
    },
    {
     "ename": "KeyboardInterrupt",
     "evalue": "",
     "output_type": "error",
     "traceback": [
      "\u001b[1;31m---------------------------------------------------------------------------\u001b[0m",
      "\u001b[1;31mKeyboardInterrupt\u001b[0m                         Traceback (most recent call last)",
      "\u001b[1;32m<timed exec>\u001b[0m in \u001b[0;36m<module>\u001b[1;34m\u001b[0m\n",
      "\u001b[1;32m<ipython-input-41-bd128509c297>\u001b[0m in \u001b[0;36mtrain_epoch\u001b[1;34m(model, dl, loss_fn, optimizer, scheduler, n_examples)\u001b[0m\n\u001b[0;32m     32\u001b[0m     \u001b[0mlosses\u001b[0m\u001b[1;33m.\u001b[0m\u001b[0mappend\u001b[0m\u001b[1;33m(\u001b[0m\u001b[0mloss\u001b[0m\u001b[1;33m.\u001b[0m\u001b[0mitem\u001b[0m\u001b[1;33m(\u001b[0m\u001b[1;33m)\u001b[0m\u001b[1;33m)\u001b[0m\u001b[1;33m\u001b[0m\u001b[1;33m\u001b[0m\u001b[0m\n\u001b[0;32m     33\u001b[0m \u001b[1;33m\u001b[0m\u001b[0m\n\u001b[1;32m---> 34\u001b[1;33m     \u001b[0mloss\u001b[0m\u001b[1;33m.\u001b[0m\u001b[0mbackward\u001b[0m\u001b[1;33m(\u001b[0m\u001b[1;33m)\u001b[0m\u001b[1;33m\u001b[0m\u001b[1;33m\u001b[0m\u001b[0m\n\u001b[0m\u001b[0;32m     35\u001b[0m \u001b[1;33m\u001b[0m\u001b[0m\n\u001b[0;32m     36\u001b[0m     \u001b[1;31m# Gradient clipping hack\u001b[0m\u001b[1;33m\u001b[0m\u001b[1;33m\u001b[0m\u001b[1;33m\u001b[0m\u001b[0m\n",
      "\u001b[1;32mC:\\ProgramData\\Anaconda3\\lib\\site-packages\\torch\\tensor.py\u001b[0m in \u001b[0;36mbackward\u001b[1;34m(self, gradient, retain_graph, create_graph)\u001b[0m\n\u001b[0;32m    219\u001b[0m                 \u001b[0mretain_graph\u001b[0m\u001b[1;33m=\u001b[0m\u001b[0mretain_graph\u001b[0m\u001b[1;33m,\u001b[0m\u001b[1;33m\u001b[0m\u001b[1;33m\u001b[0m\u001b[0m\n\u001b[0;32m    220\u001b[0m                 create_graph=create_graph)\n\u001b[1;32m--> 221\u001b[1;33m         \u001b[0mtorch\u001b[0m\u001b[1;33m.\u001b[0m\u001b[0mautograd\u001b[0m\u001b[1;33m.\u001b[0m\u001b[0mbackward\u001b[0m\u001b[1;33m(\u001b[0m\u001b[0mself\u001b[0m\u001b[1;33m,\u001b[0m \u001b[0mgradient\u001b[0m\u001b[1;33m,\u001b[0m \u001b[0mretain_graph\u001b[0m\u001b[1;33m,\u001b[0m \u001b[0mcreate_graph\u001b[0m\u001b[1;33m)\u001b[0m\u001b[1;33m\u001b[0m\u001b[1;33m\u001b[0m\u001b[0m\n\u001b[0m\u001b[0;32m    222\u001b[0m \u001b[1;33m\u001b[0m\u001b[0m\n\u001b[0;32m    223\u001b[0m     \u001b[1;32mdef\u001b[0m \u001b[0mregister_hook\u001b[0m\u001b[1;33m(\u001b[0m\u001b[0mself\u001b[0m\u001b[1;33m,\u001b[0m \u001b[0mhook\u001b[0m\u001b[1;33m)\u001b[0m\u001b[1;33m:\u001b[0m\u001b[1;33m\u001b[0m\u001b[1;33m\u001b[0m\u001b[0m\n",
      "\u001b[1;32mC:\\ProgramData\\Anaconda3\\lib\\site-packages\\torch\\autograd\\__init__.py\u001b[0m in \u001b[0;36mbackward\u001b[1;34m(tensors, grad_tensors, retain_graph, create_graph, grad_variables)\u001b[0m\n\u001b[0;32m    128\u001b[0m         \u001b[0mretain_graph\u001b[0m \u001b[1;33m=\u001b[0m \u001b[0mcreate_graph\u001b[0m\u001b[1;33m\u001b[0m\u001b[1;33m\u001b[0m\u001b[0m\n\u001b[0;32m    129\u001b[0m \u001b[1;33m\u001b[0m\u001b[0m\n\u001b[1;32m--> 130\u001b[1;33m     Variable._execution_engine.run_backward(\n\u001b[0m\u001b[0;32m    131\u001b[0m         \u001b[0mtensors\u001b[0m\u001b[1;33m,\u001b[0m \u001b[0mgrad_tensors_\u001b[0m\u001b[1;33m,\u001b[0m \u001b[0mretain_graph\u001b[0m\u001b[1;33m,\u001b[0m \u001b[0mcreate_graph\u001b[0m\u001b[1;33m,\u001b[0m\u001b[1;33m\u001b[0m\u001b[1;33m\u001b[0m\u001b[0m\n\u001b[0;32m    132\u001b[0m         allow_unreachable=True)  # allow_unreachable flag\n",
      "\u001b[1;31mKeyboardInterrupt\u001b[0m: "
     ]
    }
   ],
   "source": [
    "%%time\n",
    "\n",
    "history = defaultdict(list)\n",
    "best_accuracy = 0\n",
    "\n",
    "for epoch in tqdm(range(150)):\n",
    "\n",
    "  print(f'Epoch {epoch + 1}/{150}')\n",
    "  print('-' * 10)\n",
    "\n",
    "  train_acc, train_loss = train_epoch(\n",
    "    model,\n",
    "    train_ds,    \n",
    "    loss_fn, \n",
    "    optimizer, \n",
    "    scheduler,\n",
    "    len(Ytrain) \n",
    "  )\n",
    "\n",
    "  print(f'Train loss {train_loss} accuracy {train_acc}')\n",
    "\n",
    "  val_acc, val_loss = eval_model(\n",
    "    model,\n",
    "    test_ds,\n",
    "    loss_fn,\n",
    "    len(Ydev) \n",
    "  )\n",
    "\n",
    "  print(f'Val   loss {val_loss} accuracy {val_acc}')\n",
    "  print()\n",
    "\n",
    "  history['train_acc'].append(train_acc)\n",
    "  history['train_loss'].append(train_loss)\n",
    "  history['val_acc'].append(val_acc)\n",
    "  history['val_loss'].append(val_loss)\n",
    "\n",
    "  if val_acc > best_accuracy:\n",
    "    torch.save(model.state_dict(), 'best_model_state.bin')\n",
    "    best_accuracy = val_acc"
   ]
  },
  {
   "cell_type": "code",
   "execution_count": 43,
   "metadata": {
    "colab": {
     "base_uri": "https://localhost:8080/"
    },
    "executionInfo": {
     "elapsed": 1992,
     "status": "ok",
     "timestamp": 1618569564739,
     "user": {
      "displayName": "Isitha Subasinghe",
      "photoUrl": "",
      "userId": "08476555080130277821"
     },
     "user_tz": -600
    },
    "id": "snU8jKEQDQGW",
    "outputId": "a013e017-0d92-42ab-8368-9fafa95ec051"
   },
   "outputs": [
    {
     "data": {
      "text/plain": [
       "749"
      ]
     },
     "execution_count": 43,
     "metadata": {},
     "output_type": "execute_result"
    }
   ],
   "source": [
    "import gc\n",
    "gc.collect()"
   ]
  },
  {
   "cell_type": "code",
   "execution_count": 45,
   "metadata": {
    "colab": {
     "base_uri": "https://localhost:8080/"
    },
    "executionInfo": {
     "elapsed": 759,
     "status": "ok",
     "timestamp": 1618569431548,
     "user": {
      "displayName": "Isitha Subasinghe",
      "photoUrl": "",
      "userId": "08476555080130277821"
     },
     "user_tz": -600
    },
    "id": "qMTYu8VsGnwY",
    "outputId": "051ccde8-71d7-4295-ebe4-c3a1856c37e4"
   },
   "outputs": [],
   "source": []
  },
  {
   "cell_type": "code",
   "execution_count": 56,
   "metadata": {
    "id": "bKDjdqhuQYZg"
   },
   "outputs": [],
   "source": []
  },
  {
   "cell_type": "code",
   "execution_count": null,
   "metadata": {},
   "outputs": [],
   "source": []
  },
  {
   "cell_type": "code",
   "execution_count": null,
   "metadata": {},
   "outputs": [],
   "source": []
  }
 ],
 "metadata": {
  "accelerator": "TPU",
  "colab": {
   "authorship_tag": "ABX9TyP1r2IrcSEnj4IE/XuqL9/1",
   "collapsed_sections": [],
   "machine_shape": "hm",
   "mount_file_id": "1iTbFcDIId-eS4SC_U1R1PfRKsp1JeIil",
   "name": "Untitled1.ipynb",
   "provenance": []
  },
  "kernelspec": {
   "display_name": "Python 3",
   "language": "python",
   "name": "python3"
  },
  "language_info": {
   "codemirror_mode": {
    "name": "ipython",
    "version": 3
   },
   "file_extension": ".py",
   "mimetype": "text/x-python",
   "name": "python",
   "nbconvert_exporter": "python",
   "pygments_lexer": "ipython3",
   "version": "3.8.5"
  },
  "widgets": {
   "application/vnd.jupyter.widget-state+json": {
    "05dff7b1355a4ffb903aaa3ca6f2cee7": {
     "model_module": "@jupyter-widgets/controls",
     "model_name": "FloatProgressModel",
     "state": {
      "_dom_classes": [],
      "_model_module": "@jupyter-widgets/controls",
      "_model_module_version": "1.5.0",
      "_model_name": "FloatProgressModel",
      "_view_count": null,
      "_view_module": "@jupyter-widgets/controls",
      "_view_module_version": "1.5.0",
      "_view_name": "ProgressView",
      "bar_style": "success",
      "description": "Downloading: 100%",
      "description_tooltip": null,
      "layout": "IPY_MODEL_a435c1490a364aefae0dfaf37c5cfddd",
      "max": 231508,
      "min": 0,
      "orientation": "horizontal",
      "style": "IPY_MODEL_1e6b463e5b3d43f78eae60b821a1a53e",
      "value": 231508
     }
    },
    "0c0878a55d6c476daf75aa0f8b487557": {
     "model_module": "@jupyter-widgets/base",
     "model_name": "LayoutModel",
     "state": {
      "_model_module": "@jupyter-widgets/base",
      "_model_module_version": "1.2.0",
      "_model_name": "LayoutModel",
      "_view_count": null,
      "_view_module": "@jupyter-widgets/base",
      "_view_module_version": "1.2.0",
      "_view_name": "LayoutView",
      "align_content": null,
      "align_items": null,
      "align_self": null,
      "border": null,
      "bottom": null,
      "display": null,
      "flex": null,
      "flex_flow": null,
      "grid_area": null,
      "grid_auto_columns": null,
      "grid_auto_flow": null,
      "grid_auto_rows": null,
      "grid_column": null,
      "grid_gap": null,
      "grid_row": null,
      "grid_template_areas": null,
      "grid_template_columns": null,
      "grid_template_rows": null,
      "height": null,
      "justify_content": null,
      "justify_items": null,
      "left": null,
      "margin": null,
      "max_height": null,
      "max_width": null,
      "min_height": null,
      "min_width": null,
      "object_fit": null,
      "object_position": null,
      "order": null,
      "overflow": null,
      "overflow_x": null,
      "overflow_y": null,
      "padding": null,
      "right": null,
      "top": null,
      "visibility": null,
      "width": null
     }
    },
    "1e6b463e5b3d43f78eae60b821a1a53e": {
     "model_module": "@jupyter-widgets/controls",
     "model_name": "ProgressStyleModel",
     "state": {
      "_model_module": "@jupyter-widgets/controls",
      "_model_module_version": "1.5.0",
      "_model_name": "ProgressStyleModel",
      "_view_count": null,
      "_view_module": "@jupyter-widgets/base",
      "_view_module_version": "1.2.0",
      "_view_name": "StyleView",
      "bar_color": null,
      "description_width": "initial"
     }
    },
    "26fa9418b96746b991546e1ea831292c": {
     "model_module": "@jupyter-widgets/controls",
     "model_name": "HBoxModel",
     "state": {
      "_dom_classes": [],
      "_model_module": "@jupyter-widgets/controls",
      "_model_module_version": "1.5.0",
      "_model_name": "HBoxModel",
      "_view_count": null,
      "_view_module": "@jupyter-widgets/controls",
      "_view_module_version": "1.5.0",
      "_view_name": "HBoxView",
      "box_style": "",
      "children": [
       "IPY_MODEL_4ec599c5744242e0ac20615e30ed4ad7",
       "IPY_MODEL_db3a28c13393461f897c40be94398050"
      ],
      "layout": "IPY_MODEL_b7f647aa1cb848bdb8b0b5fb20b58588"
     }
    },
    "272980680445426a93f128e0c7b47379": {
     "model_module": "@jupyter-widgets/controls",
     "model_name": "ProgressStyleModel",
     "state": {
      "_model_module": "@jupyter-widgets/controls",
      "_model_module_version": "1.5.0",
      "_model_name": "ProgressStyleModel",
      "_view_count": null,
      "_view_module": "@jupyter-widgets/base",
      "_view_module_version": "1.2.0",
      "_view_name": "StyleView",
      "bar_color": null,
      "description_width": "initial"
     }
    },
    "30353454075b44d698b857199c1ef0fe": {
     "model_module": "@jupyter-widgets/base",
     "model_name": "LayoutModel",
     "state": {
      "_model_module": "@jupyter-widgets/base",
      "_model_module_version": "1.2.0",
      "_model_name": "LayoutModel",
      "_view_count": null,
      "_view_module": "@jupyter-widgets/base",
      "_view_module_version": "1.2.0",
      "_view_name": "LayoutView",
      "align_content": null,
      "align_items": null,
      "align_self": null,
      "border": null,
      "bottom": null,
      "display": null,
      "flex": null,
      "flex_flow": null,
      "grid_area": null,
      "grid_auto_columns": null,
      "grid_auto_flow": null,
      "grid_auto_rows": null,
      "grid_column": null,
      "grid_gap": null,
      "grid_row": null,
      "grid_template_areas": null,
      "grid_template_columns": null,
      "grid_template_rows": null,
      "height": null,
      "justify_content": null,
      "justify_items": null,
      "left": null,
      "margin": null,
      "max_height": null,
      "max_width": null,
      "min_height": null,
      "min_width": null,
      "object_fit": null,
      "object_position": null,
      "order": null,
      "overflow": null,
      "overflow_x": null,
      "overflow_y": null,
      "padding": null,
      "right": null,
      "top": null,
      "visibility": null,
      "width": null
     }
    },
    "30f4942bd7a54975bee83724559392d5": {
     "model_module": "@jupyter-widgets/base",
     "model_name": "LayoutModel",
     "state": {
      "_model_module": "@jupyter-widgets/base",
      "_model_module_version": "1.2.0",
      "_model_name": "LayoutModel",
      "_view_count": null,
      "_view_module": "@jupyter-widgets/base",
      "_view_module_version": "1.2.0",
      "_view_name": "LayoutView",
      "align_content": null,
      "align_items": null,
      "align_self": null,
      "border": null,
      "bottom": null,
      "display": null,
      "flex": null,
      "flex_flow": null,
      "grid_area": null,
      "grid_auto_columns": null,
      "grid_auto_flow": null,
      "grid_auto_rows": null,
      "grid_column": null,
      "grid_gap": null,
      "grid_row": null,
      "grid_template_areas": null,
      "grid_template_columns": null,
      "grid_template_rows": null,
      "height": null,
      "justify_content": null,
      "justify_items": null,
      "left": null,
      "margin": null,
      "max_height": null,
      "max_width": null,
      "min_height": null,
      "min_width": null,
      "object_fit": null,
      "object_position": null,
      "order": null,
      "overflow": null,
      "overflow_x": null,
      "overflow_y": null,
      "padding": null,
      "right": null,
      "top": null,
      "visibility": null,
      "width": null
     }
    },
    "32964a5e12cb4b36af02662d35ffb2d6": {
     "model_module": "@jupyter-widgets/base",
     "model_name": "LayoutModel",
     "state": {
      "_model_module": "@jupyter-widgets/base",
      "_model_module_version": "1.2.0",
      "_model_name": "LayoutModel",
      "_view_count": null,
      "_view_module": "@jupyter-widgets/base",
      "_view_module_version": "1.2.0",
      "_view_name": "LayoutView",
      "align_content": null,
      "align_items": null,
      "align_self": null,
      "border": null,
      "bottom": null,
      "display": null,
      "flex": null,
      "flex_flow": null,
      "grid_area": null,
      "grid_auto_columns": null,
      "grid_auto_flow": null,
      "grid_auto_rows": null,
      "grid_column": null,
      "grid_gap": null,
      "grid_row": null,
      "grid_template_areas": null,
      "grid_template_columns": null,
      "grid_template_rows": null,
      "height": null,
      "justify_content": null,
      "justify_items": null,
      "left": null,
      "margin": null,
      "max_height": null,
      "max_width": null,
      "min_height": null,
      "min_width": null,
      "object_fit": null,
      "object_position": null,
      "order": null,
      "overflow": null,
      "overflow_x": null,
      "overflow_y": null,
      "padding": null,
      "right": null,
      "top": null,
      "visibility": null,
      "width": null
     }
    },
    "34d4df54097d42edb8981a0f66ea90da": {
     "model_module": "@jupyter-widgets/base",
     "model_name": "LayoutModel",
     "state": {
      "_model_module": "@jupyter-widgets/base",
      "_model_module_version": "1.2.0",
      "_model_name": "LayoutModel",
      "_view_count": null,
      "_view_module": "@jupyter-widgets/base",
      "_view_module_version": "1.2.0",
      "_view_name": "LayoutView",
      "align_content": null,
      "align_items": null,
      "align_self": null,
      "border": null,
      "bottom": null,
      "display": null,
      "flex": null,
      "flex_flow": null,
      "grid_area": null,
      "grid_auto_columns": null,
      "grid_auto_flow": null,
      "grid_auto_rows": null,
      "grid_column": null,
      "grid_gap": null,
      "grid_row": null,
      "grid_template_areas": null,
      "grid_template_columns": null,
      "grid_template_rows": null,
      "height": null,
      "justify_content": null,
      "justify_items": null,
      "left": null,
      "margin": null,
      "max_height": null,
      "max_width": null,
      "min_height": null,
      "min_width": null,
      "object_fit": null,
      "object_position": null,
      "order": null,
      "overflow": null,
      "overflow_x": null,
      "overflow_y": null,
      "padding": null,
      "right": null,
      "top": null,
      "visibility": null,
      "width": null
     }
    },
    "3617c446d9904b7faf60582dfbf88835": {
     "model_module": "@jupyter-widgets/base",
     "model_name": "LayoutModel",
     "state": {
      "_model_module": "@jupyter-widgets/base",
      "_model_module_version": "1.2.0",
      "_model_name": "LayoutModel",
      "_view_count": null,
      "_view_module": "@jupyter-widgets/base",
      "_view_module_version": "1.2.0",
      "_view_name": "LayoutView",
      "align_content": null,
      "align_items": null,
      "align_self": null,
      "border": null,
      "bottom": null,
      "display": null,
      "flex": null,
      "flex_flow": null,
      "grid_area": null,
      "grid_auto_columns": null,
      "grid_auto_flow": null,
      "grid_auto_rows": null,
      "grid_column": null,
      "grid_gap": null,
      "grid_row": null,
      "grid_template_areas": null,
      "grid_template_columns": null,
      "grid_template_rows": null,
      "height": null,
      "justify_content": null,
      "justify_items": null,
      "left": null,
      "margin": null,
      "max_height": null,
      "max_width": null,
      "min_height": null,
      "min_width": null,
      "object_fit": null,
      "object_position": null,
      "order": null,
      "overflow": null,
      "overflow_x": null,
      "overflow_y": null,
      "padding": null,
      "right": null,
      "top": null,
      "visibility": null,
      "width": null
     }
    },
    "3e919347c9804da7b3ee633ce0d50495": {
     "model_module": "@jupyter-widgets/controls",
     "model_name": "HBoxModel",
     "state": {
      "_dom_classes": [],
      "_model_module": "@jupyter-widgets/controls",
      "_model_module_version": "1.5.0",
      "_model_name": "HBoxModel",
      "_view_count": null,
      "_view_module": "@jupyter-widgets/controls",
      "_view_module_version": "1.5.0",
      "_view_name": "HBoxView",
      "box_style": "",
      "children": [
       "IPY_MODEL_c501ae0e02004a2ca885b82edaf9f540",
       "IPY_MODEL_aad14afb29bc4f919ee946bce8e05016"
      ],
      "layout": "IPY_MODEL_40d4a6ac6e0644f6a712b5982d2c32b7"
     }
    },
    "40d4a6ac6e0644f6a712b5982d2c32b7": {
     "model_module": "@jupyter-widgets/base",
     "model_name": "LayoutModel",
     "state": {
      "_model_module": "@jupyter-widgets/base",
      "_model_module_version": "1.2.0",
      "_model_name": "LayoutModel",
      "_view_count": null,
      "_view_module": "@jupyter-widgets/base",
      "_view_module_version": "1.2.0",
      "_view_name": "LayoutView",
      "align_content": null,
      "align_items": null,
      "align_self": null,
      "border": null,
      "bottom": null,
      "display": null,
      "flex": null,
      "flex_flow": null,
      "grid_area": null,
      "grid_auto_columns": null,
      "grid_auto_flow": null,
      "grid_auto_rows": null,
      "grid_column": null,
      "grid_gap": null,
      "grid_row": null,
      "grid_template_areas": null,
      "grid_template_columns": null,
      "grid_template_rows": null,
      "height": null,
      "justify_content": null,
      "justify_items": null,
      "left": null,
      "margin": null,
      "max_height": null,
      "max_width": null,
      "min_height": null,
      "min_width": null,
      "object_fit": null,
      "object_position": null,
      "order": null,
      "overflow": null,
      "overflow_x": null,
      "overflow_y": null,
      "padding": null,
      "right": null,
      "top": null,
      "visibility": null,
      "width": null
     }
    },
    "41e03694a3824a7d80f1e197de1790e8": {
     "model_module": "@jupyter-widgets/base",
     "model_name": "LayoutModel",
     "state": {
      "_model_module": "@jupyter-widgets/base",
      "_model_module_version": "1.2.0",
      "_model_name": "LayoutModel",
      "_view_count": null,
      "_view_module": "@jupyter-widgets/base",
      "_view_module_version": "1.2.0",
      "_view_name": "LayoutView",
      "align_content": null,
      "align_items": null,
      "align_self": null,
      "border": null,
      "bottom": null,
      "display": null,
      "flex": null,
      "flex_flow": null,
      "grid_area": null,
      "grid_auto_columns": null,
      "grid_auto_flow": null,
      "grid_auto_rows": null,
      "grid_column": null,
      "grid_gap": null,
      "grid_row": null,
      "grid_template_areas": null,
      "grid_template_columns": null,
      "grid_template_rows": null,
      "height": null,
      "justify_content": null,
      "justify_items": null,
      "left": null,
      "margin": null,
      "max_height": null,
      "max_width": null,
      "min_height": null,
      "min_width": null,
      "object_fit": null,
      "object_position": null,
      "order": null,
      "overflow": null,
      "overflow_x": null,
      "overflow_y": null,
      "padding": null,
      "right": null,
      "top": null,
      "visibility": null,
      "width": null
     }
    },
    "4ec599c5744242e0ac20615e30ed4ad7": {
     "model_module": "@jupyter-widgets/controls",
     "model_name": "FloatProgressModel",
     "state": {
      "_dom_classes": [],
      "_model_module": "@jupyter-widgets/controls",
      "_model_module_version": "1.5.0",
      "_model_name": "FloatProgressModel",
      "_view_count": null,
      "_view_module": "@jupyter-widgets/controls",
      "_view_module_version": "1.5.0",
      "_view_name": "ProgressView",
      "bar_style": "success",
      "description": "Downloading: 100%",
      "description_tooltip": null,
      "layout": "IPY_MODEL_30353454075b44d698b857199c1ef0fe",
      "max": 433,
      "min": 0,
      "orientation": "horizontal",
      "style": "IPY_MODEL_5c51c97cb35a4213bfa2847631a98d29",
      "value": 433
     }
    },
    "53befc8fd62147d99898368ba0ed53c3": {
     "model_module": "@jupyter-widgets/controls",
     "model_name": "HTMLModel",
     "state": {
      "_dom_classes": [],
      "_model_module": "@jupyter-widgets/controls",
      "_model_module_version": "1.5.0",
      "_model_name": "HTMLModel",
      "_view_count": null,
      "_view_module": "@jupyter-widgets/controls",
      "_view_module_version": "1.5.0",
      "_view_name": "HTMLView",
      "description": "",
      "description_tooltip": null,
      "layout": "IPY_MODEL_32964a5e12cb4b36af02662d35ffb2d6",
      "placeholder": "​",
      "style": "IPY_MODEL_ecaa2ebdc79d461f811bd33cbffc47d2",
      "value": " 440M/440M [00:10&lt;00:00, 40.3MB/s]"
     }
    },
    "5c51c97cb35a4213bfa2847631a98d29": {
     "model_module": "@jupyter-widgets/controls",
     "model_name": "ProgressStyleModel",
     "state": {
      "_model_module": "@jupyter-widgets/controls",
      "_model_module_version": "1.5.0",
      "_model_name": "ProgressStyleModel",
      "_view_count": null,
      "_view_module": "@jupyter-widgets/base",
      "_view_module_version": "1.2.0",
      "_view_name": "StyleView",
      "bar_color": null,
      "description_width": "initial"
     }
    },
    "6d58f2f8a2dc4d1fb80a933e4b2c9032": {
     "model_module": "@jupyter-widgets/controls",
     "model_name": "DescriptionStyleModel",
     "state": {
      "_model_module": "@jupyter-widgets/controls",
      "_model_module_version": "1.5.0",
      "_model_name": "DescriptionStyleModel",
      "_view_count": null,
      "_view_module": "@jupyter-widgets/base",
      "_view_module_version": "1.2.0",
      "_view_name": "StyleView",
      "description_width": ""
     }
    },
    "7210e3b9a4d54af7912a7dcfbf719fc0": {
     "model_module": "@jupyter-widgets/controls",
     "model_name": "HTMLModel",
     "state": {
      "_dom_classes": [],
      "_model_module": "@jupyter-widgets/controls",
      "_model_module_version": "1.5.0",
      "_model_name": "HTMLModel",
      "_view_count": null,
      "_view_module": "@jupyter-widgets/controls",
      "_view_module_version": "1.5.0",
      "_view_name": "HTMLView",
      "description": "",
      "description_tooltip": null,
      "layout": "IPY_MODEL_3617c446d9904b7faf60582dfbf88835",
      "placeholder": "​",
      "style": "IPY_MODEL_d3cba34757594222947ea7243c0e942f",
      "value": " 232k/232k [00:00&lt;00:00, 849kB/s]"
     }
    },
    "74ff949cd07d40899e57ea3ecf33d4b0": {
     "model_module": "@jupyter-widgets/base",
     "model_name": "LayoutModel",
     "state": {
      "_model_module": "@jupyter-widgets/base",
      "_model_module_version": "1.2.0",
      "_model_name": "LayoutModel",
      "_view_count": null,
      "_view_module": "@jupyter-widgets/base",
      "_view_module_version": "1.2.0",
      "_view_name": "LayoutView",
      "align_content": null,
      "align_items": null,
      "align_self": null,
      "border": null,
      "bottom": null,
      "display": null,
      "flex": null,
      "flex_flow": null,
      "grid_area": null,
      "grid_auto_columns": null,
      "grid_auto_flow": null,
      "grid_auto_rows": null,
      "grid_column": null,
      "grid_gap": null,
      "grid_row": null,
      "grid_template_areas": null,
      "grid_template_columns": null,
      "grid_template_rows": null,
      "height": null,
      "justify_content": null,
      "justify_items": null,
      "left": null,
      "margin": null,
      "max_height": null,
      "max_width": null,
      "min_height": null,
      "min_width": null,
      "object_fit": null,
      "object_position": null,
      "order": null,
      "overflow": null,
      "overflow_x": null,
      "overflow_y": null,
      "padding": null,
      "right": null,
      "top": null,
      "visibility": null,
      "width": null
     }
    },
    "8b342ace844d44ba8e5d8f0b6f0a2ec5": {
     "model_module": "@jupyter-widgets/controls",
     "model_name": "HTMLModel",
     "state": {
      "_dom_classes": [],
      "_model_module": "@jupyter-widgets/controls",
      "_model_module_version": "1.5.0",
      "_model_name": "HTMLModel",
      "_view_count": null,
      "_view_module": "@jupyter-widgets/controls",
      "_view_module_version": "1.5.0",
      "_view_name": "HTMLView",
      "description": "",
      "description_tooltip": null,
      "layout": "IPY_MODEL_d3118e79d9d24e8683a0ce6e29b58e4b",
      "placeholder": "​",
      "style": "IPY_MODEL_6d58f2f8a2dc4d1fb80a933e4b2c9032",
      "value": " 28.0/28.0 [00:00&lt;00:00, 68.1B/s]"
     }
    },
    "975a2c756ccd443f829fc4309c368832": {
     "model_module": "@jupyter-widgets/controls",
     "model_name": "DescriptionStyleModel",
     "state": {
      "_model_module": "@jupyter-widgets/controls",
      "_model_module_version": "1.5.0",
      "_model_name": "DescriptionStyleModel",
      "_view_count": null,
      "_view_module": "@jupyter-widgets/base",
      "_view_module_version": "1.2.0",
      "_view_name": "StyleView",
      "description_width": ""
     }
    },
    "9857d6f70af4443487b2693719e71633": {
     "model_module": "@jupyter-widgets/base",
     "model_name": "LayoutModel",
     "state": {
      "_model_module": "@jupyter-widgets/base",
      "_model_module_version": "1.2.0",
      "_model_name": "LayoutModel",
      "_view_count": null,
      "_view_module": "@jupyter-widgets/base",
      "_view_module_version": "1.2.0",
      "_view_name": "LayoutView",
      "align_content": null,
      "align_items": null,
      "align_self": null,
      "border": null,
      "bottom": null,
      "display": null,
      "flex": null,
      "flex_flow": null,
      "grid_area": null,
      "grid_auto_columns": null,
      "grid_auto_flow": null,
      "grid_auto_rows": null,
      "grid_column": null,
      "grid_gap": null,
      "grid_row": null,
      "grid_template_areas": null,
      "grid_template_columns": null,
      "grid_template_rows": null,
      "height": null,
      "justify_content": null,
      "justify_items": null,
      "left": null,
      "margin": null,
      "max_height": null,
      "max_width": null,
      "min_height": null,
      "min_width": null,
      "object_fit": null,
      "object_position": null,
      "order": null,
      "overflow": null,
      "overflow_x": null,
      "overflow_y": null,
      "padding": null,
      "right": null,
      "top": null,
      "visibility": null,
      "width": null
     }
    },
    "9dbc61d50fc6427ea2287aa3045c1eb8": {
     "model_module": "@jupyter-widgets/base",
     "model_name": "LayoutModel",
     "state": {
      "_model_module": "@jupyter-widgets/base",
      "_model_module_version": "1.2.0",
      "_model_name": "LayoutModel",
      "_view_count": null,
      "_view_module": "@jupyter-widgets/base",
      "_view_module_version": "1.2.0",
      "_view_name": "LayoutView",
      "align_content": null,
      "align_items": null,
      "align_self": null,
      "border": null,
      "bottom": null,
      "display": null,
      "flex": null,
      "flex_flow": null,
      "grid_area": null,
      "grid_auto_columns": null,
      "grid_auto_flow": null,
      "grid_auto_rows": null,
      "grid_column": null,
      "grid_gap": null,
      "grid_row": null,
      "grid_template_areas": null,
      "grid_template_columns": null,
      "grid_template_rows": null,
      "height": null,
      "justify_content": null,
      "justify_items": null,
      "left": null,
      "margin": null,
      "max_height": null,
      "max_width": null,
      "min_height": null,
      "min_width": null,
      "object_fit": null,
      "object_position": null,
      "order": null,
      "overflow": null,
      "overflow_x": null,
      "overflow_y": null,
      "padding": null,
      "right": null,
      "top": null,
      "visibility": null,
      "width": null
     }
    },
    "a435c1490a364aefae0dfaf37c5cfddd": {
     "model_module": "@jupyter-widgets/base",
     "model_name": "LayoutModel",
     "state": {
      "_model_module": "@jupyter-widgets/base",
      "_model_module_version": "1.2.0",
      "_model_name": "LayoutModel",
      "_view_count": null,
      "_view_module": "@jupyter-widgets/base",
      "_view_module_version": "1.2.0",
      "_view_name": "LayoutView",
      "align_content": null,
      "align_items": null,
      "align_self": null,
      "border": null,
      "bottom": null,
      "display": null,
      "flex": null,
      "flex_flow": null,
      "grid_area": null,
      "grid_auto_columns": null,
      "grid_auto_flow": null,
      "grid_auto_rows": null,
      "grid_column": null,
      "grid_gap": null,
      "grid_row": null,
      "grid_template_areas": null,
      "grid_template_columns": null,
      "grid_template_rows": null,
      "height": null,
      "justify_content": null,
      "justify_items": null,
      "left": null,
      "margin": null,
      "max_height": null,
      "max_width": null,
      "min_height": null,
      "min_width": null,
      "object_fit": null,
      "object_position": null,
      "order": null,
      "overflow": null,
      "overflow_x": null,
      "overflow_y": null,
      "padding": null,
      "right": null,
      "top": null,
      "visibility": null,
      "width": null
     }
    },
    "aad14afb29bc4f919ee946bce8e05016": {
     "model_module": "@jupyter-widgets/controls",
     "model_name": "HTMLModel",
     "state": {
      "_dom_classes": [],
      "_model_module": "@jupyter-widgets/controls",
      "_model_module_version": "1.5.0",
      "_model_name": "HTMLModel",
      "_view_count": null,
      "_view_module": "@jupyter-widgets/controls",
      "_view_module_version": "1.5.0",
      "_view_name": "HTMLView",
      "description": "",
      "description_tooltip": null,
      "layout": "IPY_MODEL_9dbc61d50fc6427ea2287aa3045c1eb8",
      "placeholder": "​",
      "style": "IPY_MODEL_975a2c756ccd443f829fc4309c368832",
      "value": " 466k/466k [00:00&lt;00:00, 2.73MB/s]"
     }
    },
    "b58dbe5b56df43c1bd842ba20dd474ed": {
     "model_module": "@jupyter-widgets/controls",
     "model_name": "HBoxModel",
     "state": {
      "_dom_classes": [],
      "_model_module": "@jupyter-widgets/controls",
      "_model_module_version": "1.5.0",
      "_model_name": "HBoxModel",
      "_view_count": null,
      "_view_module": "@jupyter-widgets/controls",
      "_view_module_version": "1.5.0",
      "_view_name": "HBoxView",
      "box_style": "",
      "children": [
       "IPY_MODEL_bc82094848334d10908ec43e853d1673",
       "IPY_MODEL_53befc8fd62147d99898368ba0ed53c3"
      ],
      "layout": "IPY_MODEL_bc2548cb9a6b4665aae243dd4965a8e4"
     }
    },
    "b7f647aa1cb848bdb8b0b5fb20b58588": {
     "model_module": "@jupyter-widgets/base",
     "model_name": "LayoutModel",
     "state": {
      "_model_module": "@jupyter-widgets/base",
      "_model_module_version": "1.2.0",
      "_model_name": "LayoutModel",
      "_view_count": null,
      "_view_module": "@jupyter-widgets/base",
      "_view_module_version": "1.2.0",
      "_view_name": "LayoutView",
      "align_content": null,
      "align_items": null,
      "align_self": null,
      "border": null,
      "bottom": null,
      "display": null,
      "flex": null,
      "flex_flow": null,
      "grid_area": null,
      "grid_auto_columns": null,
      "grid_auto_flow": null,
      "grid_auto_rows": null,
      "grid_column": null,
      "grid_gap": null,
      "grid_row": null,
      "grid_template_areas": null,
      "grid_template_columns": null,
      "grid_template_rows": null,
      "height": null,
      "justify_content": null,
      "justify_items": null,
      "left": null,
      "margin": null,
      "max_height": null,
      "max_width": null,
      "min_height": null,
      "min_width": null,
      "object_fit": null,
      "object_position": null,
      "order": null,
      "overflow": null,
      "overflow_x": null,
      "overflow_y": null,
      "padding": null,
      "right": null,
      "top": null,
      "visibility": null,
      "width": null
     }
    },
    "bbc752159bb54b869a8a82e2c7afbecb": {
     "model_module": "@jupyter-widgets/controls",
     "model_name": "FloatProgressModel",
     "state": {
      "_dom_classes": [],
      "_model_module": "@jupyter-widgets/controls",
      "_model_module_version": "1.5.0",
      "_model_name": "FloatProgressModel",
      "_view_count": null,
      "_view_module": "@jupyter-widgets/controls",
      "_view_module_version": "1.5.0",
      "_view_name": "ProgressView",
      "bar_style": "success",
      "description": "Downloading: 100%",
      "description_tooltip": null,
      "layout": "IPY_MODEL_9857d6f70af4443487b2693719e71633",
      "max": 28,
      "min": 0,
      "orientation": "horizontal",
      "style": "IPY_MODEL_ccb2d5216a8d4032af3ce054cafdf2eb",
      "value": 28
     }
    },
    "bc2548cb9a6b4665aae243dd4965a8e4": {
     "model_module": "@jupyter-widgets/base",
     "model_name": "LayoutModel",
     "state": {
      "_model_module": "@jupyter-widgets/base",
      "_model_module_version": "1.2.0",
      "_model_name": "LayoutModel",
      "_view_count": null,
      "_view_module": "@jupyter-widgets/base",
      "_view_module_version": "1.2.0",
      "_view_name": "LayoutView",
      "align_content": null,
      "align_items": null,
      "align_self": null,
      "border": null,
      "bottom": null,
      "display": null,
      "flex": null,
      "flex_flow": null,
      "grid_area": null,
      "grid_auto_columns": null,
      "grid_auto_flow": null,
      "grid_auto_rows": null,
      "grid_column": null,
      "grid_gap": null,
      "grid_row": null,
      "grid_template_areas": null,
      "grid_template_columns": null,
      "grid_template_rows": null,
      "height": null,
      "justify_content": null,
      "justify_items": null,
      "left": null,
      "margin": null,
      "max_height": null,
      "max_width": null,
      "min_height": null,
      "min_width": null,
      "object_fit": null,
      "object_position": null,
      "order": null,
      "overflow": null,
      "overflow_x": null,
      "overflow_y": null,
      "padding": null,
      "right": null,
      "top": null,
      "visibility": null,
      "width": null
     }
    },
    "bc82094848334d10908ec43e853d1673": {
     "model_module": "@jupyter-widgets/controls",
     "model_name": "FloatProgressModel",
     "state": {
      "_dom_classes": [],
      "_model_module": "@jupyter-widgets/controls",
      "_model_module_version": "1.5.0",
      "_model_name": "FloatProgressModel",
      "_view_count": null,
      "_view_module": "@jupyter-widgets/controls",
      "_view_module_version": "1.5.0",
      "_view_name": "ProgressView",
      "bar_style": "success",
      "description": "Downloading: 100%",
      "description_tooltip": null,
      "layout": "IPY_MODEL_34d4df54097d42edb8981a0f66ea90da",
      "max": 440473133,
      "min": 0,
      "orientation": "horizontal",
      "style": "IPY_MODEL_272980680445426a93f128e0c7b47379",
      "value": 440473133
     }
    },
    "bd4107e71d684bd29505348a58ead1c2": {
     "model_module": "@jupyter-widgets/controls",
     "model_name": "DescriptionStyleModel",
     "state": {
      "_model_module": "@jupyter-widgets/controls",
      "_model_module_version": "1.5.0",
      "_model_name": "DescriptionStyleModel",
      "_view_count": null,
      "_view_module": "@jupyter-widgets/base",
      "_view_module_version": "1.2.0",
      "_view_name": "StyleView",
      "description_width": ""
     }
    },
    "c501ae0e02004a2ca885b82edaf9f540": {
     "model_module": "@jupyter-widgets/controls",
     "model_name": "FloatProgressModel",
     "state": {
      "_dom_classes": [],
      "_model_module": "@jupyter-widgets/controls",
      "_model_module_version": "1.5.0",
      "_model_name": "FloatProgressModel",
      "_view_count": null,
      "_view_module": "@jupyter-widgets/controls",
      "_view_module_version": "1.5.0",
      "_view_name": "ProgressView",
      "bar_style": "success",
      "description": "Downloading: 100%",
      "description_tooltip": null,
      "layout": "IPY_MODEL_30f4942bd7a54975bee83724559392d5",
      "max": 466062,
      "min": 0,
      "orientation": "horizontal",
      "style": "IPY_MODEL_fdbafc176ccc421db1750a515b3c5292",
      "value": 466062
     }
    },
    "c5590214530d413f840b2c490b4eb08e": {
     "model_module": "@jupyter-widgets/controls",
     "model_name": "HBoxModel",
     "state": {
      "_dom_classes": [],
      "_model_module": "@jupyter-widgets/controls",
      "_model_module_version": "1.5.0",
      "_model_name": "HBoxModel",
      "_view_count": null,
      "_view_module": "@jupyter-widgets/controls",
      "_view_module_version": "1.5.0",
      "_view_name": "HBoxView",
      "box_style": "",
      "children": [
       "IPY_MODEL_bbc752159bb54b869a8a82e2c7afbecb",
       "IPY_MODEL_8b342ace844d44ba8e5d8f0b6f0a2ec5"
      ],
      "layout": "IPY_MODEL_0c0878a55d6c476daf75aa0f8b487557"
     }
    },
    "ccb2d5216a8d4032af3ce054cafdf2eb": {
     "model_module": "@jupyter-widgets/controls",
     "model_name": "ProgressStyleModel",
     "state": {
      "_model_module": "@jupyter-widgets/controls",
      "_model_module_version": "1.5.0",
      "_model_name": "ProgressStyleModel",
      "_view_count": null,
      "_view_module": "@jupyter-widgets/base",
      "_view_module_version": "1.2.0",
      "_view_name": "StyleView",
      "bar_color": null,
      "description_width": "initial"
     }
    },
    "cf99a59d7f9946a38542c8ce91c4bdb6": {
     "model_module": "@jupyter-widgets/controls",
     "model_name": "HBoxModel",
     "state": {
      "_dom_classes": [],
      "_model_module": "@jupyter-widgets/controls",
      "_model_module_version": "1.5.0",
      "_model_name": "HBoxModel",
      "_view_count": null,
      "_view_module": "@jupyter-widgets/controls",
      "_view_module_version": "1.5.0",
      "_view_name": "HBoxView",
      "box_style": "",
      "children": [
       "IPY_MODEL_05dff7b1355a4ffb903aaa3ca6f2cee7",
       "IPY_MODEL_7210e3b9a4d54af7912a7dcfbf719fc0"
      ],
      "layout": "IPY_MODEL_41e03694a3824a7d80f1e197de1790e8"
     }
    },
    "d3118e79d9d24e8683a0ce6e29b58e4b": {
     "model_module": "@jupyter-widgets/base",
     "model_name": "LayoutModel",
     "state": {
      "_model_module": "@jupyter-widgets/base",
      "_model_module_version": "1.2.0",
      "_model_name": "LayoutModel",
      "_view_count": null,
      "_view_module": "@jupyter-widgets/base",
      "_view_module_version": "1.2.0",
      "_view_name": "LayoutView",
      "align_content": null,
      "align_items": null,
      "align_self": null,
      "border": null,
      "bottom": null,
      "display": null,
      "flex": null,
      "flex_flow": null,
      "grid_area": null,
      "grid_auto_columns": null,
      "grid_auto_flow": null,
      "grid_auto_rows": null,
      "grid_column": null,
      "grid_gap": null,
      "grid_row": null,
      "grid_template_areas": null,
      "grid_template_columns": null,
      "grid_template_rows": null,
      "height": null,
      "justify_content": null,
      "justify_items": null,
      "left": null,
      "margin": null,
      "max_height": null,
      "max_width": null,
      "min_height": null,
      "min_width": null,
      "object_fit": null,
      "object_position": null,
      "order": null,
      "overflow": null,
      "overflow_x": null,
      "overflow_y": null,
      "padding": null,
      "right": null,
      "top": null,
      "visibility": null,
      "width": null
     }
    },
    "d3cba34757594222947ea7243c0e942f": {
     "model_module": "@jupyter-widgets/controls",
     "model_name": "DescriptionStyleModel",
     "state": {
      "_model_module": "@jupyter-widgets/controls",
      "_model_module_version": "1.5.0",
      "_model_name": "DescriptionStyleModel",
      "_view_count": null,
      "_view_module": "@jupyter-widgets/base",
      "_view_module_version": "1.2.0",
      "_view_name": "StyleView",
      "description_width": ""
     }
    },
    "db3a28c13393461f897c40be94398050": {
     "model_module": "@jupyter-widgets/controls",
     "model_name": "HTMLModel",
     "state": {
      "_dom_classes": [],
      "_model_module": "@jupyter-widgets/controls",
      "_model_module_version": "1.5.0",
      "_model_name": "HTMLModel",
      "_view_count": null,
      "_view_module": "@jupyter-widgets/controls",
      "_view_module_version": "1.5.0",
      "_view_name": "HTMLView",
      "description": "",
      "description_tooltip": null,
      "layout": "IPY_MODEL_74ff949cd07d40899e57ea3ecf33d4b0",
      "placeholder": "​",
      "style": "IPY_MODEL_bd4107e71d684bd29505348a58ead1c2",
      "value": " 433/433 [00:00&lt;00:00, 3.20kB/s]"
     }
    },
    "ecaa2ebdc79d461f811bd33cbffc47d2": {
     "model_module": "@jupyter-widgets/controls",
     "model_name": "DescriptionStyleModel",
     "state": {
      "_model_module": "@jupyter-widgets/controls",
      "_model_module_version": "1.5.0",
      "_model_name": "DescriptionStyleModel",
      "_view_count": null,
      "_view_module": "@jupyter-widgets/base",
      "_view_module_version": "1.2.0",
      "_view_name": "StyleView",
      "description_width": ""
     }
    },
    "fdbafc176ccc421db1750a515b3c5292": {
     "model_module": "@jupyter-widgets/controls",
     "model_name": "ProgressStyleModel",
     "state": {
      "_model_module": "@jupyter-widgets/controls",
      "_model_module_version": "1.5.0",
      "_model_name": "ProgressStyleModel",
      "_view_count": null,
      "_view_module": "@jupyter-widgets/base",
      "_view_module_version": "1.2.0",
      "_view_name": "StyleView",
      "bar_color": null,
      "description_width": "initial"
     }
    }
   }
  }
 },
 "nbformat": 4,
 "nbformat_minor": 1
}
