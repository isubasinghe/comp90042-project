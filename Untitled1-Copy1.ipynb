{
 "cells": [
  {
   "cell_type": "code",
   "execution_count": 1,
   "metadata": {
    "colab": {
     "base_uri": "https://localhost:8080/"
    },
    "executionInfo": {
     "elapsed": 9641,
     "status": "ok",
     "timestamp": 1618657443773,
     "user": {
      "displayName": "Isitha Subasinghe",
      "photoUrl": "",
      "userId": "08476555080130277821"
     },
     "user_tz": -600
    },
    "id": "FZq0B8BYeia1",
    "outputId": "7757de48-5d62-40e9-98fd-55793eb787b6"
   },
   "outputs": [
    {
     "name": "stdout",
     "output_type": "stream",
     "text": [
      "Collecting transformers\n",
      "\u001b[?25l  Downloading https://files.pythonhosted.org/packages/d8/b2/57495b5309f09fa501866e225c84532d1fd89536ea62406b2181933fb418/transformers-4.5.1-py3-none-any.whl (2.1MB)\n",
      "\u001b[K     |████████████████████████████████| 2.1MB 6.2MB/s \n",
      "\u001b[?25hRequirement already satisfied: filelock in /usr/local/lib/python3.7/dist-packages (from transformers) (3.0.12)\n",
      "Requirement already satisfied: importlib-metadata; python_version < \"3.8\" in /usr/local/lib/python3.7/dist-packages (from transformers) (3.10.1)\n",
      "Collecting sacremoses\n",
      "\u001b[?25l  Downloading https://files.pythonhosted.org/packages/08/cd/342e584ee544d044fb573ae697404ce22ede086c9e87ce5960772084cad0/sacremoses-0.0.44.tar.gz (862kB)\n",
      "\u001b[K     |████████████████████████████████| 870kB 24.9MB/s \n",
      "\u001b[?25hRequirement already satisfied: numpy>=1.17 in /usr/local/lib/python3.7/dist-packages (from transformers) (1.19.5)\n",
      "Requirement already satisfied: requests in /usr/local/lib/python3.7/dist-packages (from transformers) (2.23.0)\n",
      "Collecting tokenizers<0.11,>=0.10.1\n",
      "\u001b[?25l  Downloading https://files.pythonhosted.org/packages/ae/04/5b870f26a858552025a62f1649c20d29d2672c02ff3c3fb4c688ca46467a/tokenizers-0.10.2-cp37-cp37m-manylinux2010_x86_64.whl (3.3MB)\n",
      "\u001b[K     |████████████████████████████████| 3.3MB 37.7MB/s \n",
      "\u001b[?25hRequirement already satisfied: tqdm>=4.27 in /usr/local/lib/python3.7/dist-packages (from transformers) (4.41.1)\n",
      "Requirement already satisfied: packaging in /usr/local/lib/python3.7/dist-packages (from transformers) (20.9)\n",
      "Requirement already satisfied: regex!=2019.12.17 in /usr/local/lib/python3.7/dist-packages (from transformers) (2019.12.20)\n",
      "Requirement already satisfied: zipp>=0.5 in /usr/local/lib/python3.7/dist-packages (from importlib-metadata; python_version < \"3.8\"->transformers) (3.4.1)\n",
      "Requirement already satisfied: typing-extensions>=3.6.4; python_version < \"3.8\" in /usr/local/lib/python3.7/dist-packages (from importlib-metadata; python_version < \"3.8\"->transformers) (3.7.4.3)\n",
      "Requirement already satisfied: six in /usr/local/lib/python3.7/dist-packages (from sacremoses->transformers) (1.15.0)\n",
      "Requirement already satisfied: click in /usr/local/lib/python3.7/dist-packages (from sacremoses->transformers) (7.1.2)\n",
      "Requirement already satisfied: joblib in /usr/local/lib/python3.7/dist-packages (from sacremoses->transformers) (1.0.1)\n",
      "Requirement already satisfied: certifi>=2017.4.17 in /usr/local/lib/python3.7/dist-packages (from requests->transformers) (2020.12.5)\n",
      "Requirement already satisfied: idna<3,>=2.5 in /usr/local/lib/python3.7/dist-packages (from requests->transformers) (2.10)\n",
      "Requirement already satisfied: urllib3!=1.25.0,!=1.25.1,<1.26,>=1.21.1 in /usr/local/lib/python3.7/dist-packages (from requests->transformers) (1.24.3)\n",
      "Requirement already satisfied: chardet<4,>=3.0.2 in /usr/local/lib/python3.7/dist-packages (from requests->transformers) (3.0.4)\n",
      "Requirement already satisfied: pyparsing>=2.0.2 in /usr/local/lib/python3.7/dist-packages (from packaging->transformers) (2.4.7)\n",
      "Building wheels for collected packages: sacremoses\n",
      "  Building wheel for sacremoses (setup.py) ... \u001b[?25l\u001b[?25hdone\n",
      "  Created wheel for sacremoses: filename=sacremoses-0.0.44-cp37-none-any.whl size=886084 sha256=3b2f3fec56376ee396d5a984a4e5114150fe14615e15df15f41e4af20a69f106\n",
      "  Stored in directory: /root/.cache/pip/wheels/3e/fb/c0/13ab4d63d537658f448366744654323077c4d90069b6512f3c\n",
      "Successfully built sacremoses\n",
      "Installing collected packages: sacremoses, tokenizers, transformers\n",
      "Successfully installed sacremoses-0.0.44 tokenizers-0.10.2 transformers-4.5.1\n"
     ]
    }
   ],
   "source": [
    "!pip install transformers"
   ]
  },
  {
   "cell_type": "code",
   "execution_count": 2,
   "metadata": {
    "colab": {
     "base_uri": "https://localhost:8080/"
    },
    "executionInfo": {
     "elapsed": 29011,
     "status": "ok",
     "timestamp": 1618657463150,
     "user": {
      "displayName": "Isitha Subasinghe",
      "photoUrl": "",
      "userId": "08476555080130277821"
     },
     "user_tz": -600
    },
    "id": "UZL50gbrLzp9",
    "outputId": "00e15fb5-6803-4b71-9245-f8e6c6e344c9"
   },
   "outputs": [
    {
     "name": "stdout",
     "output_type": "stream",
     "text": [
      "Collecting cloud-tpu-client==0.10\n",
      "  Downloading https://files.pythonhosted.org/packages/56/9f/7b1958c2886db06feb5de5b2c191096f9e619914b6c31fdf93999fdbbd8b/cloud_tpu_client-0.10-py3-none-any.whl\n",
      "Collecting torch-xla==1.8\n",
      "\u001b[?25l  Downloading https://storage.googleapis.com/tpu-pytorch/wheels/torch_xla-1.8-cp37-cp37m-linux_x86_64.whl (144.6MB)\n",
      "\u001b[K     |████████████████████████████████| 144.6MB 47kB/s \n",
      "\u001b[?25hCollecting google-api-python-client==1.8.0\n",
      "\u001b[?25l  Downloading https://files.pythonhosted.org/packages/9a/b4/a955f393b838bc47cbb6ae4643b9d0f90333d3b4db4dc1e819f36aad18cc/google_api_python_client-1.8.0-py3-none-any.whl (57kB)\n",
      "\u001b[K     |████████████████████████████████| 61kB 3.3MB/s \n",
      "\u001b[?25hRequirement already satisfied: oauth2client in /usr/local/lib/python3.7/dist-packages (from cloud-tpu-client==0.10) (4.1.3)\n",
      "Requirement already satisfied: google-auth-httplib2>=0.0.3 in /usr/local/lib/python3.7/dist-packages (from google-api-python-client==1.8.0->cloud-tpu-client==0.10) (0.0.4)\n",
      "Requirement already satisfied: uritemplate<4dev,>=3.0.0 in /usr/local/lib/python3.7/dist-packages (from google-api-python-client==1.8.0->cloud-tpu-client==0.10) (3.0.1)\n",
      "Requirement already satisfied: six<2dev,>=1.6.1 in /usr/local/lib/python3.7/dist-packages (from google-api-python-client==1.8.0->cloud-tpu-client==0.10) (1.15.0)\n",
      "Requirement already satisfied: google-auth>=1.4.1 in /usr/local/lib/python3.7/dist-packages (from google-api-python-client==1.8.0->cloud-tpu-client==0.10) (1.28.1)\n",
      "Requirement already satisfied: httplib2<1dev,>=0.9.2 in /usr/local/lib/python3.7/dist-packages (from google-api-python-client==1.8.0->cloud-tpu-client==0.10) (0.17.4)\n",
      "Requirement already satisfied: google-api-core<2dev,>=1.13.0 in /usr/local/lib/python3.7/dist-packages (from google-api-python-client==1.8.0->cloud-tpu-client==0.10) (1.26.3)\n",
      "Requirement already satisfied: pyasn1>=0.1.7 in /usr/local/lib/python3.7/dist-packages (from oauth2client->cloud-tpu-client==0.10) (0.4.8)\n",
      "Requirement already satisfied: pyasn1-modules>=0.0.5 in /usr/local/lib/python3.7/dist-packages (from oauth2client->cloud-tpu-client==0.10) (0.2.8)\n",
      "Requirement already satisfied: rsa>=3.1.4 in /usr/local/lib/python3.7/dist-packages (from oauth2client->cloud-tpu-client==0.10) (4.7.2)\n",
      "Requirement already satisfied: cachetools<5.0,>=2.0.0 in /usr/local/lib/python3.7/dist-packages (from google-auth>=1.4.1->google-api-python-client==1.8.0->cloud-tpu-client==0.10) (4.2.1)\n",
      "Requirement already satisfied: setuptools>=40.3.0 in /usr/local/lib/python3.7/dist-packages (from google-auth>=1.4.1->google-api-python-client==1.8.0->cloud-tpu-client==0.10) (54.2.0)\n",
      "Requirement already satisfied: packaging>=14.3 in /usr/local/lib/python3.7/dist-packages (from google-api-core<2dev,>=1.13.0->google-api-python-client==1.8.0->cloud-tpu-client==0.10) (20.9)\n",
      "Requirement already satisfied: protobuf>=3.12.0 in /usr/local/lib/python3.7/dist-packages (from google-api-core<2dev,>=1.13.0->google-api-python-client==1.8.0->cloud-tpu-client==0.10) (3.12.4)\n",
      "Requirement already satisfied: requests<3.0.0dev,>=2.18.0 in /usr/local/lib/python3.7/dist-packages (from google-api-core<2dev,>=1.13.0->google-api-python-client==1.8.0->cloud-tpu-client==0.10) (2.23.0)\n",
      "Requirement already satisfied: pytz in /usr/local/lib/python3.7/dist-packages (from google-api-core<2dev,>=1.13.0->google-api-python-client==1.8.0->cloud-tpu-client==0.10) (2018.9)\n",
      "Requirement already satisfied: googleapis-common-protos<2.0dev,>=1.6.0 in /usr/local/lib/python3.7/dist-packages (from google-api-core<2dev,>=1.13.0->google-api-python-client==1.8.0->cloud-tpu-client==0.10) (1.53.0)\n",
      "Requirement already satisfied: pyparsing>=2.0.2 in /usr/local/lib/python3.7/dist-packages (from packaging>=14.3->google-api-core<2dev,>=1.13.0->google-api-python-client==1.8.0->cloud-tpu-client==0.10) (2.4.7)\n",
      "Requirement already satisfied: idna<3,>=2.5 in /usr/local/lib/python3.7/dist-packages (from requests<3.0.0dev,>=2.18.0->google-api-core<2dev,>=1.13.0->google-api-python-client==1.8.0->cloud-tpu-client==0.10) (2.10)\n",
      "Requirement already satisfied: certifi>=2017.4.17 in /usr/local/lib/python3.7/dist-packages (from requests<3.0.0dev,>=2.18.0->google-api-core<2dev,>=1.13.0->google-api-python-client==1.8.0->cloud-tpu-client==0.10) (2020.12.5)\n",
      "Requirement already satisfied: chardet<4,>=3.0.2 in /usr/local/lib/python3.7/dist-packages (from requests<3.0.0dev,>=2.18.0->google-api-core<2dev,>=1.13.0->google-api-python-client==1.8.0->cloud-tpu-client==0.10) (3.0.4)\n",
      "Requirement already satisfied: urllib3!=1.25.0,!=1.25.1,<1.26,>=1.21.1 in /usr/local/lib/python3.7/dist-packages (from requests<3.0.0dev,>=2.18.0->google-api-core<2dev,>=1.13.0->google-api-python-client==1.8.0->cloud-tpu-client==0.10) (1.24.3)\n",
      "\u001b[31mERROR: earthengine-api 0.1.260 has requirement google-api-python-client<2,>=1.12.1, but you'll have google-api-python-client 1.8.0 which is incompatible.\u001b[0m\n",
      "Installing collected packages: google-api-python-client, cloud-tpu-client, torch-xla\n",
      "  Found existing installation: google-api-python-client 1.12.8\n",
      "    Uninstalling google-api-python-client-1.12.8:\n",
      "      Successfully uninstalled google-api-python-client-1.12.8\n",
      "Successfully installed cloud-tpu-client-0.10 google-api-python-client-1.8.0 torch-xla-1.8\n"
     ]
    }
   ],
   "source": [
    "!pip install cloud-tpu-client==0.10 https://storage.googleapis.com/tpu-pytorch/wheels/torch_xla-1.8-cp37-cp37m-linux_x86_64.whl"
   ]
  },
  {
   "cell_type": "code",
   "execution_count": 2,
   "metadata": {
    "executionInfo": {
     "elapsed": 29009,
     "status": "ok",
     "timestamp": 1618657463151,
     "user": {
      "displayName": "Isitha Subasinghe",
      "photoUrl": "",
      "userId": "08476555080130277821"
     },
     "user_tz": -600
    },
    "id": "lhEmiXL3L1uP"
   },
   "outputs": [],
   "source": []
  },
  {
   "cell_type": "code",
   "execution_count": 1,
   "metadata": {
    "colab": {
     "base_uri": "https://localhost:8080/"
    },
    "executionInfo": {
     "elapsed": 74274,
     "status": "ok",
     "timestamp": 1618657508419,
     "user": {
      "displayName": "Isitha Subasinghe",
      "photoUrl": "",
      "userId": "08476555080130277821"
     },
     "user_tz": -600
    },
    "id": "AG-V5mDdj4kH",
    "outputId": "194e989e-b5eb-4f65-dd5e-53a2d841ee35"
   },
   "outputs": [],
   "source": [
    "import json\n",
    "import matplotlib as mpl\n",
    "import matplotlib.pyplot as plt\n",
    "import pandas as pd \n",
    "import numpy as np\n",
    "import tensorflow as tf\n",
    "import tensorflow.keras as keras\n",
    "from collections import defaultdict\n",
    "from tqdm import tqdm\n",
    "from transformers import RobertaTokenizer, RobertaModel, BertTokenizer, AutoModel, AutoTokenizer, TFAutoModel, pipeline, AdamW, BertConfig, BertModel, get_linear_schedule_with_warmup\n",
    "import nltk\n",
    "from nltk.corpus import stopwords\n",
    "from sklearn.feature_extraction.text import TfidfVectorizer\n",
    "from nltk.tokenize import TweetTokenizer\n",
    "from nltk.stem import WordNetLemmatizer\n",
    "from torch import nn, optim\n",
    "from torch.utils.data import Dataset, DataLoader\n",
    "import torch.nn.functional as F\n",
    "import torch\n",
    "%matplotlib inline"
   ]
  },
  {
   "cell_type": "code",
   "execution_count": 134,
   "metadata": {
    "colab": {
     "base_uri": "https://localhost:8080/"
    },
    "executionInfo": {
     "elapsed": 84185,
     "status": "ok",
     "timestamp": 1618657518335,
     "user": {
      "displayName": "Isitha Subasinghe",
      "photoUrl": "",
      "userId": "08476555080130277821"
     },
     "user_tz": -600
    },
    "id": "-68J1YASMrC_",
    "outputId": "80af14f0-cfa1-4e1e-aa38-8bad282a2c89"
   },
   "outputs": [
    {
     "data": {
      "text/plain": [
       "device(type='cuda')"
      ]
     },
     "execution_count": 134,
     "metadata": {},
     "output_type": "execute_result"
    }
   ],
   "source": [
    "device = torch.device(\"cuda\" if torch.cuda.is_available() else \"cpu\")\n",
    "device"
   ]
  },
  {
   "cell_type": "code",
   "execution_count": 3,
   "metadata": {
    "executionInfo": {
     "elapsed": 84184,
     "status": "ok",
     "timestamp": 1618657518335,
     "user": {
      "displayName": "Isitha Subasinghe",
      "photoUrl": "",
      "userId": "08476555080130277821"
     },
     "user_tz": -600
    },
    "id": "IQVjDiJatASb"
   },
   "outputs": [
    {
     "ename": "FileNotFoundError",
     "evalue": "[WinError 3] The system cannot find the path specified: 'drive/MyDrive/Colab Notebooks'",
     "output_type": "error",
     "traceback": [
      "\u001b[1;31m---------------------------------------------------------------------------\u001b[0m",
      "\u001b[1;31mFileNotFoundError\u001b[0m                         Traceback (most recent call last)",
      "\u001b[1;32m<ipython-input-3-6709072a983d>\u001b[0m in \u001b[0;36m<module>\u001b[1;34m\u001b[0m\n\u001b[0;32m      1\u001b[0m \u001b[1;32mimport\u001b[0m \u001b[0mos\u001b[0m\u001b[1;33m\u001b[0m\u001b[1;33m\u001b[0m\u001b[0m\n\u001b[1;32m----> 2\u001b[1;33m \u001b[0mos\u001b[0m\u001b[1;33m.\u001b[0m\u001b[0mchdir\u001b[0m\u001b[1;33m(\u001b[0m\u001b[1;34m\"drive/MyDrive/Colab Notebooks\"\u001b[0m\u001b[1;33m)\u001b[0m\u001b[1;33m\u001b[0m\u001b[1;33m\u001b[0m\u001b[0m\n\u001b[0m",
      "\u001b[1;31mFileNotFoundError\u001b[0m: [WinError 3] The system cannot find the path specified: 'drive/MyDrive/Colab Notebooks'"
     ]
    }
   ],
   "source": [
    "import os\n",
    "os.chdir(\"drive/MyDrive/Colab Notebooks\")"
   ]
  },
  {
   "cell_type": "code",
   "execution_count": 2,
   "metadata": {
    "executionInfo": {
     "elapsed": 88408,
     "status": "ok",
     "timestamp": 1618657522561,
     "user": {
      "displayName": "Isitha Subasinghe",
      "photoUrl": "",
      "userId": "08476555080130277821"
     },
     "user_tz": -600
    },
    "id": "Ac7D_BWFjvfD"
   },
   "outputs": [],
   "source": [
    "with open(\"./train.data.jsonl\", \"r\") as f:\n",
    "    raw_lines_train = f.readlines()\n",
    "with open(\"./train.label.json\", \"r\") as f:\n",
    "    raw_labels_train = f.readlines()\n",
    "\n",
    "with open(\"./dev.data.jsonl\", \"r\") as f:\n",
    "    raw_lines_dev = f.readlines()\n",
    "\n",
    "with open(\"./dev.label.json\", \"r\") as f:\n",
    "    raw_labels_dev = f.readlines()\n",
    "\n",
    "with open(\"./test.data.jsonl\", \"r\") as f:\n",
    "    raw_lines_test = f.readlines()\n"
   ]
  },
  {
   "cell_type": "code",
   "execution_count": 4,
   "metadata": {
    "executionInfo": {
     "elapsed": 88408,
     "status": "ok",
     "timestamp": 1618657522562,
     "user": {
      "displayName": "Isitha Subasinghe",
      "photoUrl": "",
      "userId": "08476555080130277821"
     },
     "user_tz": -600
    },
    "id": "4xcvFV_e14z5"
   },
   "outputs": [],
   "source": [
    "import seaborn as sns"
   ]
  },
  {
   "cell_type": "code",
   "execution_count": 3,
   "metadata": {
    "executionInfo": {
     "elapsed": 94879,
     "status": "ok",
     "timestamp": 1618657529035,
     "user": {
      "displayName": "Isitha Subasinghe",
      "photoUrl": "",
      "userId": "08476555080130277821"
     },
     "user_tz": -600
    },
    "id": "AB7KwCJvlQRj"
   },
   "outputs": [],
   "source": [
    "\n",
    "json_lines_train = [json.loads(line) for line in raw_lines_train]\n",
    "json_labels_train = [json.loads(line) for line in raw_labels_train][0]\n",
    "\n",
    "json_lines_dev = [json.loads(line) for line in raw_lines_dev]\n",
    "json_labels_dev = [json.loads(line) for line in raw_labels_dev][0]\n",
    "\n",
    "json_lines_test = [json.loads(line) for line in raw_lines_test]"
   ]
  },
  {
   "cell_type": "code",
   "execution_count": 6,
   "metadata": {
    "colab": {
     "base_uri": "https://localhost:8080/",
     "height": 283
    },
    "executionInfo": {
     "elapsed": 95458,
     "status": "ok",
     "timestamp": 1618657529619,
     "user": {
      "displayName": "Isitha Subasinghe",
      "photoUrl": "",
      "userId": "08476555080130277821"
     },
     "user_tz": -600
    },
    "id": "Q1-OTxuHlRU3",
    "outputId": "56cdda56-0a44-4b25-933d-554675590268"
   },
   "outputs": [
    {
     "data": {
      "text/plain": [
       "<BarContainer object of 60 artists>"
      ]
     },
     "execution_count": 6,
     "metadata": {},
     "output_type": "execute_result"
    },
    {
     "data": {
      "image/png": "[encoded data removed]",
      "text/plain": [
       "<Figure size 432x288 with 1 Axes>"
      ]
     },
     "metadata": {
      "needs_background": "light"
     },
     "output_type": "display_data"
    }
   ],
   "source": [
    "length_counts = defaultdict(int)\n",
    "\n",
    "for json_line in json_lines_train:\n",
    "    length_counts[len(json_line)] += 1\n",
    "\n",
    "(lx, ly) = ([], [])\n",
    "\n",
    "max_size = 0\n",
    "\n",
    "for (replies, num_replies) in length_counts.items():\n",
    "    max_size = max(max_size, replies)\n",
    "    if replies > 60:\n",
    "        continue\n",
    "    lx.append(replies)\n",
    "    ly.append(num_replies)\n",
    "    \n",
    "plt.bar(lx, ly)"
   ]
  },
  {
   "cell_type": "code",
   "execution_count": 138,
   "metadata": {
    "executionInfo": {
     "elapsed": 95458,
     "status": "ok",
     "timestamp": 1618657529620,
     "user": {
      "displayName": "Isitha Subasinghe",
      "photoUrl": "",
      "userId": "08476555080130277821"
     },
     "user_tz": -600
    },
    "id": "eRB8u9vg4IQq"
   },
   "outputs": [],
   "source": [
    "def map_label(status):\n",
    "  mapper = {'rumour': [0, 1], 'non-rumour': [1, 0]}\n",
    "  return mapper[status]"
   ]
  },
  {
   "cell_type": "code",
   "execution_count": 139,
   "metadata": {
    "executionInfo": {
     "elapsed": 94366,
     "status": "ok",
     "timestamp": 1618657529621,
     "user": {
      "displayName": "Isitha Subasinghe",
      "photoUrl": "",
      "userId": "08476555080130277821"
     },
     "user_tz": -600
    },
    "id": "GPhTyq7UtYfS"
   },
   "outputs": [],
   "source": [
    "def getText(json_lines, json_labels):\n",
    "    X = []\n",
    "    Y = np.zeros(len(json_lines))\n",
    "    \n",
    "    for i, lines in enumerate(json_lines):\n",
    "        X.append(list(map(lambda x: x['text'], lines)))\n",
    "        if json_labels != None:\n",
    "            Y[i] = 1 if json_labels[lines[0]['id_str']] == 'rumour' else 0\n",
    "    return X, Y"
   ]
  },
  {
   "cell_type": "code",
   "execution_count": 140,
   "metadata": {
    "executionInfo": {
     "elapsed": 93814,
     "status": "ok",
     "timestamp": 1618657529621,
     "user": {
      "displayName": "Isitha Subasinghe",
      "photoUrl": "",
      "userId": "08476555080130277821"
     },
     "user_tz": -600
    },
    "id": "9K5rmOjftojF"
   },
   "outputs": [],
   "source": [
    "Xtrain, Ytrain = getText(json_lines_train, json_labels_train)\n",
    "Xtest, _ = getText(json_lines_test, None)"
   ]
  },
  {
   "cell_type": "code",
   "execution_count": 141,
   "metadata": {
    "executionInfo": {
     "elapsed": 93506,
     "status": "ok",
     "timestamp": 1618657529622,
     "user": {
      "displayName": "Isitha Subasinghe",
      "photoUrl": "",
      "userId": "08476555080130277821"
     },
     "user_tz": -600
    },
    "id": "isyM2NNntr-l"
   },
   "outputs": [],
   "source": [
    "Xdev, Ydev = getText(json_lines_dev, json_labels_dev)"
   ]
  },
  {
   "cell_type": "code",
   "execution_count": null,
   "metadata": {
    "colab": {
     "base_uri": "https://localhost:8080/"
    },
    "executionInfo": {
     "elapsed": 92376,
     "status": "ok",
     "timestamp": 1618657529623,
     "user": {
      "displayName": "Isitha Subasinghe",
      "photoUrl": "",
      "userId": "08476555080130277821"
     },
     "user_tz": -600
    },
    "id": "33R_j9d5txNQ",
    "outputId": "f95f0991-f06e-44b9-e36a-b77ae2566a1f"
   },
   "outputs": [],
   "source": []
  },
  {
   "cell_type": "code",
   "execution_count": 142,
   "metadata": {
    "colab": {
     "base_uri": "https://localhost:8080/"
    },
    "executionInfo": {
     "elapsed": 1364,
     "status": "ok",
     "timestamp": 1618657562373,
     "user": {
      "displayName": "Isitha Subasinghe",
      "photoUrl": "",
      "userId": "08476555080130277821"
     },
     "user_tz": -600
    },
    "id": "ldB1zhI68ect",
    "outputId": "295c4594-211b-4b3b-ab19-d3e67af8bf73"
   },
   "outputs": [
    {
     "name": "stderr",
     "output_type": "stream",
     "text": [
      "[nltk_data] Downloading package wordnet to C:\\Users\\Isitha\n",
      "[nltk_data]     Subasinghe\\AppData\\Roaming\\nltk_data...\n",
      "[nltk_data]   Package wordnet is already up-to-date!\n",
      "[nltk_data] Downloading package stopwords to C:\\Users\\Isitha\n",
      "[nltk_data]     Subasinghe\\AppData\\Roaming\\nltk_data...\n",
      "[nltk_data]   Package stopwords is already up-to-date!\n"
     ]
    }
   ],
   "source": [
    "nltk.download('wordnet')\n",
    "nltk.download('stopwords')\n",
    "def build_corpus_and_X(X, vectorizer=None):\n",
    "  corpus = []\n",
    "  newX = []\n",
    "  lem = WordNetLemmatizer()\n",
    "  tokenizer = TweetTokenizer(preserve_case=False, strip_handles=False, reduce_len=True)\n",
    "\n",
    "  for XArray in tqdm(X):\n",
    "    newArray = []\n",
    "    for sent in XArray:\n",
    "      newSent = []\n",
    "      for tok in tokenizer.tokenize(sent.lower()):\n",
    "        if tok not in stopwords.words('english') and tok != '.':\n",
    "          newSent.append(tok)\n",
    "      newSent = ' '.join(newSent)\n",
    "      corpus.append(newSent)\n",
    "      newArray.append(newSent)\n",
    "    newX.append(newArray)\n",
    "  if vectorizer is not None:\n",
    "    vect = vectorizer.transform(corpus)\n",
    "  else:\n",
    "    vectorizer = TfidfVectorizer()\n",
    "    vect = vectorizer.fit_transform(corpus)\n",
    "  return vectorizer, vect, newX"
   ]
  },
  {
   "cell_type": "code",
   "execution_count": null,
   "metadata": {
    "colab": {
     "base_uri": "https://localhost:8080/"
    },
    "executionInfo": {
     "elapsed": 151832,
     "status": "ok",
     "timestamp": 1618657715678,
     "user": {
      "displayName": "Isitha Subasinghe",
      "photoUrl": "",
      "userId": "08476555080130277821"
     },
     "user_tz": -600
    },
    "id": "Do8Vi4imCbMi",
    "outputId": "24722f63-230f-403a-b6d4-1ca35f82faa4"
   },
   "outputs": [],
   "source": []
  },
  {
   "cell_type": "code",
   "execution_count": 143,
   "metadata": {},
   "outputs": [
    {
     "name": "stderr",
     "output_type": "stream",
     "text": [
      "100%|██████████████████████████████████████████████████████████████████████████████| 4641/4641 [03:43<00:00, 20.76it/s]\n",
      "100%|████████████████████████████████████████████████████████████████████████████████| 581/581 [00:29<00:00, 19.53it/s]\n"
     ]
    }
   ],
   "source": [
    "vectorizer, vect, newXtrain = build_corpus_and_X(Xtrain)\n",
    "_, vect, newXtest = build_corpus_and_X(Xtest)"
   ]
  },
  {
   "cell_type": "code",
   "execution_count": null,
   "metadata": {
    "colab": {
     "base_uri": "https://localhost:8080/"
    },
    "executionInfo": {
     "elapsed": 151415,
     "status": "ok",
     "timestamp": 1618657715681,
     "user": {
      "displayName": "Isitha Subasinghe",
      "photoUrl": "",
      "userId": "08476555080130277821"
     },
     "user_tz": -600
    },
    "id": "golOOGkuDF7r",
    "outputId": "276626fe-e328-4afe-d89b-4c0e421054be"
   },
   "outputs": [],
   "source": []
  },
  {
   "cell_type": "code",
   "execution_count": 144,
   "metadata": {
    "colab": {
     "base_uri": "https://localhost:8080/"
    },
    "executionInfo": {
     "elapsed": 154199,
     "status": "ok",
     "timestamp": 1618657719126,
     "user": {
      "displayName": "Isitha Subasinghe",
      "photoUrl": "",
      "userId": "08476555080130277821"
     },
     "user_tz": -600
    },
    "id": "RTC0-CwOGNzd",
    "outputId": "3314081d-2be9-442f-ebde-71703c5471cf"
   },
   "outputs": [
    {
     "name": "stderr",
     "output_type": "stream",
     "text": [
      "100%|█████████████████████████████████████████████████████████████████████████████| 4641/4641 [00:06<00:00, 686.46it/s]\n"
     ]
    }
   ],
   "source": [
    "tokenizer = TweetTokenizer(preserve_case=False, strip_handles=False, reduce_len=True)\n",
    "\n",
    "count = defaultdict(int)\n",
    "counts = []\n",
    "\n",
    "for item in tqdm(newX):\n",
    "  out = sum([len(tokenizer.tokenize(x)) for x in item])\n",
    "  counts.append(out)\n",
    "  count[out] += 1\n"
   ]
  },
  {
   "cell_type": "code",
   "execution_count": 145,
   "metadata": {
    "executionInfo": {
     "elapsed": 153364,
     "status": "ok",
     "timestamp": 1618657719586,
     "user": {
      "displayName": "Isitha Subasinghe",
      "photoUrl": "",
      "userId": "08476555080130277821"
     },
     "user_tz": -600
    },
    "id": "Pc8k-g5tn-vO"
   },
   "outputs": [],
   "source": [
    "import seaborn as sns"
   ]
  },
  {
   "cell_type": "code",
   "execution_count": 146,
   "metadata": {
    "executionInfo": {
     "elapsed": 153206,
     "status": "ok",
     "timestamp": 1618657719587,
     "user": {
      "displayName": "Isitha Subasinghe",
      "photoUrl": "",
      "userId": "08476555080130277821"
     },
     "user_tz": -600
    },
    "id": "3jB8VHpxpDTk"
   },
   "outputs": [],
   "source": [
    "cx, cy = [], []\n",
    "\n",
    "for key in count.keys():\n",
    "  cx.append(key)\n",
    "  cy.append(count[key])"
   ]
  },
  {
   "cell_type": "code",
   "execution_count": 147,
   "metadata": {
    "colab": {
     "base_uri": "https://localhost:8080/",
     "height": 283
    },
    "executionInfo": {
     "elapsed": 153754,
     "status": "ok",
     "timestamp": 1618657720693,
     "user": {
      "displayName": "Isitha Subasinghe",
      "photoUrl": "",
      "userId": "08476555080130277821"
     },
     "user_tz": -600
    },
    "id": "mz9G_ZnhpFf1",
    "outputId": "3df27d87-0dd9-4713-a005-cce9863d0499"
   },
   "outputs": [
    {
     "data": {
      "text/plain": [
       "<BarContainer object of 660 artists>"
      ]
     },
     "execution_count": 147,
     "metadata": {},
     "output_type": "execute_result"
    },
    {
     "data": {
      "image/png": "[encoded data removed]",
      "text/plain": [
       "<Figure size 432x288 with 1 Axes>"
      ]
     },
     "metadata": {
      "needs_background": "light"
     },
     "output_type": "display_data"
    }
   ],
   "source": [
    "plt.bar(cx, cy)"
   ]
  },
  {
   "cell_type": "code",
   "execution_count": 148,
   "metadata": {
    "colab": {
     "base_uri": "https://localhost:8080/",
     "height": 336
    },
    "executionInfo": {
     "elapsed": 154217,
     "status": "ok",
     "timestamp": 1618657722410,
     "user": {
      "displayName": "Isitha Subasinghe",
      "photoUrl": "",
      "userId": "08476555080130277821"
     },
     "user_tz": -600
    },
    "id": "ERJj6o9H3xdr",
    "outputId": "fead8a09-a834-4bb6-9bf6-332cfe2ef027"
   },
   "outputs": [
    {
     "name": "stderr",
     "output_type": "stream",
     "text": [
      "C:\\ProgramData\\Anaconda3\\lib\\site-packages\\seaborn\\distributions.py:2551: FutureWarning: `distplot` is a deprecated function and will be removed in a future version. Please adapt your code to use either `displot` (a figure-level function with similar flexibility) or `histplot` (an axes-level function for histograms).\n",
      "  warnings.warn(msg, FutureWarning)\n"
     ]
    },
    {
     "data": {
      "image/png": "[encoded data removed]",
      "text/plain": [
       "<Figure size 432x288 with 1 Axes>"
      ]
     },
     "metadata": {
      "needs_background": "light"
     },
     "output_type": "display_data"
    }
   ],
   "source": [
    "plot = sns.distplot(counts)\n",
    "plot.set(xlabel=\"Total Token Count\")\n",
    "fig = plot.get_figure()\n",
    "fig.savefig('./total_length_dist.png')"
   ]
  },
  {
   "cell_type": "code",
   "execution_count": 151,
   "metadata": {
    "colab": {
     "base_uri": "https://localhost:8080/",
     "height": 168,
     "referenced_widgets": [
      "cf99a59d7f9946a38542c8ce91c4bdb6",
      "41e03694a3824a7d80f1e197de1790e8",
      "05dff7b1355a4ffb903aaa3ca6f2cee7",
      "7210e3b9a4d54af7912a7dcfbf719fc0",
      "1e6b463e5b3d43f78eae60b821a1a53e",
      "a435c1490a364aefae0dfaf37c5cfddd",
      "d3cba34757594222947ea7243c0e942f",
      "3617c446d9904b7faf60582dfbf88835",
      "c5590214530d413f840b2c490b4eb08e",
      "0c0878a55d6c476daf75aa0f8b487557",
      "bbc752159bb54b869a8a82e2c7afbecb",
      "8b342ace844d44ba8e5d8f0b6f0a2ec5",
      "ccb2d5216a8d4032af3ce054cafdf2eb",
      "9857d6f70af4443487b2693719e71633",
      "6d58f2f8a2dc4d1fb80a933e4b2c9032",
      "d3118e79d9d24e8683a0ce6e29b58e4b",
      "3e919347c9804da7b3ee633ce0d50495",
      "40d4a6ac6e0644f6a712b5982d2c32b7",
      "c501ae0e02004a2ca885b82edaf9f540",
      "aad14afb29bc4f919ee946bce8e05016",
      "fdbafc176ccc421db1750a515b3c5292",
      "30f4942bd7a54975bee83724559392d5",
      "975a2c756ccd443f829fc4309c368832",
      "9dbc61d50fc6427ea2287aa3045c1eb8"
     ]
    },
    "executionInfo": {
     "elapsed": 1756,
     "status": "ok",
     "timestamp": 1618657734652,
     "user": {
      "displayName": "Isitha Subasinghe",
      "photoUrl": "",
      "userId": "08476555080130277821"
     },
     "user_tz": -600
    },
    "id": "cVxxM-1ypJui",
    "outputId": "ce68f80a-cbd2-4ba7-b127-7f9195865aab"
   },
   "outputs": [],
   "source": [
    "tokenizer = RobertaTokenizer.from_pretrained(\"roberta-base\")"
   ]
  },
  {
   "cell_type": "code",
   "execution_count": null,
   "metadata": {
    "executionInfo": {
     "elapsed": 824,
     "status": "ok",
     "timestamp": 1618657734653,
     "user": {
      "displayName": "Isitha Subasinghe",
      "photoUrl": "",
      "userId": "08476555080130277821"
     },
     "user_tz": -600
    },
    "id": "HcQkwSfPrZsg"
   },
   "outputs": [],
   "source": []
  },
  {
   "cell_type": "code",
   "execution_count": null,
   "metadata": {
    "id": "dhN4GzXB2-2q"
   },
   "outputs": [],
   "source": []
  },
  {
   "cell_type": "code",
   "execution_count": 153,
   "metadata": {
    "colab": {
     "base_uri": "https://localhost:8080/"
    },
    "executionInfo": {
     "elapsed": 595,
     "status": "ok",
     "timestamp": 1618657735660,
     "user": {
      "displayName": "Isitha Subasinghe",
      "photoUrl": "",
      "userId": "08476555080130277821"
     },
     "user_tz": -600
    },
    "id": "TAGYDGH2rt-r",
    "outputId": "22dc1500-09bf-4975-eba0-6375fe69d66b"
   },
   "outputs": [
    {
     "name": "stdout",
     "output_type": "stream",
     "text": [
      "tensor([    0, 42891,   232,    42,    16,   741,  2399, 19233,  6315,     2,\n",
      "            1,     1,     1,     1,     1,     1,     1,     1,     1,     1,\n",
      "            1,     1,     1,     1,     1,     1,     1,     1,     1,     1,\n",
      "            1,     1,     1,     1,     1,     1,     1,     1,     1,     1,\n",
      "            1,     1,     1,     1,     1,     1,     1,     1,     1,     1,\n",
      "            1,     1,     1,     1,     1,     1,     1,     1,     1,     1,\n",
      "            1,     1,     1,     1,     1,     1,     1,     1,     1,     1,\n",
      "            1,     1,     1,     1,     1,     1,     1,     1,     1,     1,\n",
      "            1,     1,     1,     1,     1,     1,     1,     1,     1,     1,\n",
      "            1,     1,     1,     1,     1,     1,     1,     1,     1,     1,\n",
      "            1,     1,     1,     1,     1,     1,     1,     1,     1,     1,\n",
      "            1,     1,     1,     1,     1,     1,     1,     1,     1,     1,\n",
      "            1,     1,     1,     1,     1,     1,     1,     1,     1,     1,\n",
      "            1,     1,     1,     1,     1,     1,     1,     1,     1,     1,\n",
      "            1,     1,     1,     1,     1,     1,     1,     1,     1,     1,\n",
      "            1,     1,     1,     1,     1,     1,     1,     1,     1,     1,\n",
      "            1,     1,     1,     1,     1,     1,     1,     1,     1,     1,\n",
      "            1,     1,     1,     1,     1,     1,     1,     1,     1,     1,\n",
      "            1,     1,     1,     1,     1,     1,     1,     1,     1,     1,\n",
      "            1,     1,     1,     1,     1,     1,     1,     1,     1,     1,\n",
      "            1,     1,     1,     1,     1,     1,     1,     1,     1,     1,\n",
      "            1,     1,     1,     1,     1,     1,     1,     1,     1,     1,\n",
      "            1,     1,     1,     1,     1,     1,     1,     1,     1,     1,\n",
      "            1,     1,     1,     1,     1,     1,     1,     1,     1,     1,\n",
      "            1,     1,     1,     1,     1,     1,     1,     1,     1,     1,\n",
      "            1,     1,     1,     1,     1,     1,     1,     1,     1,     1,\n",
      "            1,     1,     1,     1,     1,     1,     1,     1,     1,     1,\n",
      "            1,     1,     1,     1,     1,     1,     1,     1,     1,     1,\n",
      "            1,     1,     1,     1,     1,     1,     1,     1,     1,     1,\n",
      "            1,     1,     1,     1,     1,     1,     1,     1,     1,     1,\n",
      "            1,     1,     1,     1,     1,     1,     1,     1,     1,     1,\n",
      "            1,     1,     1,     1,     1,     1,     1,     1,     1,     1,\n",
      "            1,     1,     1,     1,     1,     1,     1,     1,     1,     1,\n",
      "            1,     1,     1,     1,     1,     1,     1,     1,     1,     1,\n",
      "            1,     1,     1,     1,     1,     1,     1,     1,     1,     1,\n",
      "            1,     1,     1,     1,     1,     1,     1,     1,     1,     1,\n",
      "            1,     1,     1,     1,     1,     1,     1,     1,     1,     1,\n",
      "            1,     1,     1,     1,     1,     1,     1,     1,     1,     1,\n",
      "            1,     1,     1,     1,     1,     1,     1,     1,     1,     1,\n",
      "            1,     1,     1,     1,     1,     1,     1,     1,     1,     1,\n",
      "            1,     1,     1,     1,     1,     1,     1,     1,     1,     1,\n",
      "            1,     1,     1,     1,     1,     1,     1,     1,     1,     1,\n",
      "            1,     1,     1,     1,     1,     1,     1,     1,     1,     1,\n",
      "            1,     1,     1,     1,     1,     1,     1,     1,     1,     1,\n",
      "            1,     1,     1,     1,     1,     1,     1,     1,     1,     1,\n",
      "            1,     1,     1,     1,     1,     1,     1,     1,     1,     1,\n",
      "            1,     1,     1,     1,     1,     1,     1,     1,     1,     1,\n",
      "            1,     1,     1,     1,     1,     1,     1,     1,     1,     1,\n",
      "            1,     1,     1,     1,     1,     1,     1,     1,     1,     1,\n",
      "            1,     1,     1,     1,     1,     1,     1,     1,     1,     1,\n",
      "            1,     1,     1,     1,     1,     1,     1,     1,     1,     1,\n",
      "            1,     1])\n"
     ]
    }
   ],
   "source": [
    "encoding = tokenizer.encode_plus(\n",
    "    \"hello world this is bert tokenizer\",\n",
    "    max_length=512,\n",
    "    add_special_tokens=True,\n",
    "    pad_to_max_length=True,\n",
    "    return_attention_mask=True,\n",
    "    return_token_type_ids=False,\n",
    "    return_tensors='pt'\n",
    ")\n",
    "\n",
    "print(encoding['input_ids'][0])"
   ]
  },
  {
   "cell_type": "code",
   "execution_count": 155,
   "metadata": {
    "executionInfo": {
     "elapsed": 528,
     "status": "ok",
     "timestamp": 1618657737732,
     "user": {
      "displayName": "Isitha Subasinghe",
      "photoUrl": "",
      "userId": "08476555080130277821"
     },
     "user_tz": -600
    },
    "id": "EkRyfHFmsESB"
   },
   "outputs": [],
   "source": [
    "class TweetDataset(Dataset):\n",
    "  def __init__(self, texts, targets, tokenizer, max_len):\n",
    "    self.texts = texts\n",
    "    self.targets = targets\n",
    "    self.tokenzer = tokenizer\n",
    "    self.max_len = max_len\n",
    "    \n",
    "  def __len__(self):\n",
    "    return len(self.texts)\n",
    "  \n",
    "  def __getitem__(self, item):\n",
    "    review = ' '.join(tokenizer.tokenize(self.texts[item])[:500])\n",
    "    encoding = tokenizer.encode_plus(\n",
    "        review,\n",
    "        max_length=self.max_len,\n",
    "        add_special_tokens=True,\n",
    "        pad_to_max_length=True,\n",
    "        return_attention_mask=True,\n",
    "        return_token_type_ids=False,\n",
    "        return_tensors='pt'\n",
    "    )\n",
    "\n",
    "    return {\n",
    "        'input_ids': encoding['input_ids'][0],\n",
    "        'attention_mask': encoding['attention_mask'][0],\n",
    "        'targets': torch.tensor(self.targets[item], dtype=torch.long)\n",
    "    }"
   ]
  },
  {
   "cell_type": "code",
   "execution_count": 156,
   "metadata": {
    "executionInfo": {
     "elapsed": 573,
     "status": "ok",
     "timestamp": 1618657739729,
     "user": {
      "displayName": "Isitha Subasinghe",
      "photoUrl": "",
      "userId": "08476555080130277821"
     },
     "user_tz": -600
    },
    "id": "Xf-0QGgn3F2S"
   },
   "outputs": [],
   "source": [
    "def create_data_loader(X, Y, tokenizer, max_len, batch_size):\n",
    "  ds = TweetDataset(\n",
    "      texts = X,\n",
    "      targets = Y,\n",
    "      tokenizer = tokenizer,\n",
    "      max_len = max_len\n",
    "  )\n",
    "  return DataLoader(ds, batch_size=batch_size, num_workers=0)"
   ]
  },
  {
   "cell_type": "code",
   "execution_count": null,
   "metadata": {
    "executionInfo": {
     "elapsed": 475,
     "status": "ok",
     "timestamp": 1618657740073,
     "user": {
      "displayName": "Isitha Subasinghe",
      "photoUrl": "",
      "userId": "08476555080130277821"
     },
     "user_tz": -600
    },
    "id": "n2b3otbZy0RK"
   },
   "outputs": [],
   "source": [
    "newX"
   ]
  },
  {
   "cell_type": "code",
   "execution_count": 157,
   "metadata": {
    "executionInfo": {
     "elapsed": 673,
     "status": "ok",
     "timestamp": 1618657740650,
     "user": {
      "displayName": "Isitha Subasinghe",
      "photoUrl": "",
      "userId": "08476555080130277821"
     },
     "user_tz": -600
    },
    "id": "AOCFS9W4pVcN"
   },
   "outputs": [],
   "source": [
    "newXtrain = [ ' '.join(i) for i in newXtrain ]\n",
    "newXtest = [' '.join(i) for i in newXtest]"
   ]
  },
  {
   "cell_type": "code",
   "execution_count": 160,
   "metadata": {},
   "outputs": [
    {
     "data": {
      "text/plain": [
       "\"#breaking reports : 2 brothers suspected charlie hebdo attack dead http://t.co/7tgdsv4fr8 [SEP] @usatoday : unfortunate got wanted , die martyrs , i'm glad french people part [SEP] @usatoday @azcentral sucks think bigger picture need know know worked [SEP] “ @usatoday : #breaking reports : 2 brothers suspected charlie hebdo attack dead http://t.co/hdjaus61vn ” gone hell [SEP] @usatoday got kill ones ordered kill journalists right ? guess ... [SEP] @usatoday two less go ... [SEP] “ @usatoday : #breaking reports : 2 brothers suspected charlie hebdo attack dead http://t.co/ue36hqnbpb ” #jesuischarlie [SEP] “ @usatoday : #breaking reports : 2 brothers suspected charlie hebdo attack dead http://t.co/sspkep4eu6 ” good 🇫 🇷 [SEP] “ @usatoday : #breaking reports : 2 brothers suspected charlie hebdo attack dead http://t.co/0ulr0bh3rg ” [SEP] “ @usatoday : #breaking reports : 2 brothers suspected charlie hebdo attack dead http://t.co/r3df0nzlbu ” [SEP] @usatoday gave ... heard favorite radio station dc area ... thank u writing ... <3\""
      ]
     },
     "execution_count": 160,
     "metadata": {},
     "output_type": "execute_result"
    }
   ],
   "source": [
    "newXdev[0]"
   ]
  },
  {
   "cell_type": "code",
   "execution_count": 161,
   "metadata": {
    "colab": {
     "base_uri": "https://localhost:8080/"
    },
    "executionInfo": {
     "elapsed": 20608,
     "status": "ok",
     "timestamp": 1618657761334,
     "user": {
      "displayName": "Isitha Subasinghe",
      "photoUrl": "",
      "userId": "08476555080130277821"
     },
     "user_tz": -600
    },
    "id": "_5Jeahn9pteC",
    "outputId": "a81acec2-baf1-484c-e2b8-c048b5798c25"
   },
   "outputs": [
    {
     "name": "stderr",
     "output_type": "stream",
     "text": [
      "100%|████████████████████████████████████████████████████████████████████████████████| 580/580 [00:29<00:00, 19.70it/s]\n"
     ]
    }
   ],
   "source": [
    "_, vect, newXdev = build_corpus_and_X(Xdev, vectorizer=vectorizer)"
   ]
  },
  {
   "cell_type": "code",
   "execution_count": 162,
   "metadata": {
    "executionInfo": {
     "elapsed": 19995,
     "status": "ok",
     "timestamp": 1618657761335,
     "user": {
      "displayName": "Isitha Subasinghe",
      "photoUrl": "",
      "userId": "08476555080130277821"
     },
     "user_tz": -600
    },
    "id": "NuWgCn5Rpz3u"
   },
   "outputs": [],
   "source": [
    "newXdev = [ ' '.join(i) for i in newXdev ]"
   ]
  },
  {
   "cell_type": "code",
   "execution_count": 163,
   "metadata": {
    "colab": {
     "base_uri": "https://localhost:8080/",
     "height": 91
    },
    "executionInfo": {
     "elapsed": 19399,
     "status": "ok",
     "timestamp": 1618657761335,
     "user": {
      "displayName": "Isitha Subasinghe",
      "photoUrl": "",
      "userId": "08476555080130277821"
     },
     "user_tz": -600
    },
    "id": "DOrLhoJxtU-u",
    "outputId": "f04c55ae-b588-4cf5-953b-483d16407e82"
   },
   "outputs": [
    {
     "data": {
      "text/plain": [
       "\"#breaking reports : 2 brothers suspected charlie hebdo attack dead http://t.co/7tgdsv4fr8 @usatoday : unfortunate got wanted , die martyrs , i'm glad french people part @usatoday @azcentral sucks think bigger picture need know know worked “ @usatoday : #breaking reports : 2 brothers suspected charlie hebdo attack dead http://t.co/hdjaus61vn ” gone hell @usatoday got kill ones ordered kill journalists right ? guess ... @usatoday two less go ... “ @usatoday : #breaking reports : 2 brothers suspected charlie hebdo attack dead http://t.co/ue36hqnbpb ” #jesuischarlie “ @usatoday : #breaking reports : 2 brothers suspected charlie hebdo attack dead http://t.co/sspkep4eu6 ” good 🇫 🇷 “ @usatoday : #breaking reports : 2 brothers suspected charlie hebdo attack dead http://t.co/0ulr0bh3rg ” “ @usatoday : #breaking reports : 2 brothers suspected charlie hebdo attack dead http://t.co/r3df0nzlbu ” @usatoday gave ... heard favorite radio station dc area ... thank u writing ... <3\""
      ]
     },
     "execution_count": 163,
     "metadata": {},
     "output_type": "execute_result"
    }
   ],
   "source": [
    "newXdev[0]"
   ]
  },
  {
   "cell_type": "code",
   "execution_count": 164,
   "metadata": {
    "executionInfo": {
     "elapsed": 18980,
     "status": "ok",
     "timestamp": 1618657761335,
     "user": {
      "displayName": "Isitha Subasinghe",
      "photoUrl": "",
      "userId": "08476555080130277821"
     },
     "user_tz": -600
    },
    "id": "T-Yd78tJtcSr"
   },
   "outputs": [],
   "source": [
    "train_ds = create_data_loader(newXtrain, Ytrain, tokenizer, 512, 2)"
   ]
  },
  {
   "cell_type": "code",
   "execution_count": 165,
   "metadata": {
    "executionInfo": {
     "elapsed": 17906,
     "status": "ok",
     "timestamp": 1618657761336,
     "user": {
      "displayName": "Isitha Subasinghe",
      "photoUrl": "",
      "userId": "08476555080130277821"
     },
     "user_tz": -600
    },
    "id": "FFIcIbnqtkWu"
   },
   "outputs": [],
   "source": [
    "dev_ds = create_data_loader(newXdev, Ydev, tokenizer, 512, 2)"
   ]
  },
  {
   "cell_type": "code",
   "execution_count": null,
   "metadata": {
    "colab": {
     "base_uri": "https://localhost:8080/",
     "height": 118,
     "referenced_widgets": [
      "26fa9418b96746b991546e1ea831292c",
      "b7f647aa1cb848bdb8b0b5fb20b58588",
      "4ec599c5744242e0ac20615e30ed4ad7",
      "db3a28c13393461f897c40be94398050",
      "5c51c97cb35a4213bfa2847631a98d29",
      "30353454075b44d698b857199c1ef0fe",
      "bd4107e71d684bd29505348a58ead1c2",
      "74ff949cd07d40899e57ea3ecf33d4b0",
      "b58dbe5b56df43c1bd842ba20dd474ed",
      "bc2548cb9a6b4665aae243dd4965a8e4",
      "bc82094848334d10908ec43e853d1673",
      "53befc8fd62147d99898368ba0ed53c3",
      "272980680445426a93f128e0c7b47379",
      "34d4df54097d42edb8981a0f66ea90da",
      "ecaa2ebdc79d461f811bd33cbffc47d2",
      "32964a5e12cb4b36af02662d35ffb2d6"
     ]
    },
    "executionInfo": {
     "elapsed": 31146,
     "status": "ok",
     "timestamp": 1618657775129,
     "user": {
      "displayName": "Isitha Subasinghe",
      "photoUrl": "",
      "userId": "08476555080130277821"
     },
     "user_tz": -600
    },
    "id": "NCuFgs-qtreO",
    "outputId": "5b2db35a-f52a-49f0-b3d1-9912466dbc09"
   },
   "outputs": [],
   "source": []
  },
  {
   "cell_type": "code",
   "execution_count": 166,
   "metadata": {
    "executionInfo": {
     "elapsed": 29668,
     "status": "ok",
     "timestamp": 1618657775381,
     "user": {
      "displayName": "Isitha Subasinghe",
      "photoUrl": "",
      "userId": "08476555080130277821"
     },
     "user_tz": -600
    },
    "id": "AVAZeOiVt65C"
   },
   "outputs": [],
   "source": [
    "class RumourClassifier(nn.Module):\n",
    "  def __init__(self, n_classes):\n",
    "    super(RumourClassifier, self).__init__()\n",
    "    self.bert = RobertaModel.from_pretrained(\"roberta-base\")\n",
    "    self.drop = nn.Dropout(p=0.3)\n",
    "    self.out = nn.Linear(self.bert.config.hidden_size, n_classes)\n",
    "    self.softmax = nn.Softmax(dim=1)\n",
    "  \n",
    "  def forward(self, input_ids, attention_mask):\n",
    "    output = self.bert(\n",
    "        input_ids=input_ids, \n",
    "        attention_mask=attention_mask\n",
    "    ).pooler_output\n",
    "\n",
    "    output = self.drop(output)\n",
    "    output = self.out(output)\n",
    "    return self.softmax(output)\n",
    "  \n",
    "\n",
    "\n"
   ]
  },
  {
   "cell_type": "code",
   "execution_count": 167,
   "metadata": {
    "executionInfo": {
     "elapsed": 37581,
     "status": "ok",
     "timestamp": 1618657783608,
     "user": {
      "displayName": "Isitha Subasinghe",
      "photoUrl": "",
      "userId": "08476555080130277821"
     },
     "user_tz": -600
    },
    "id": "LBh-LPP1wa3z"
   },
   "outputs": [
    {
     "data": {
      "application/vnd.jupyter.widget-view+json": {
       "model_id": "268cdaac0841426aae535cdc4ca78659",
       "version_major": 2,
       "version_minor": 0
      },
      "text/plain": [
       "HBox(children=(HTML(value='Downloading'), FloatProgress(value=0.0, max=501200538.0), HTML(value='')))"
      ]
     },
     "metadata": {},
     "output_type": "display_data"
    },
    {
     "name": "stdout",
     "output_type": "stream",
     "text": [
      "\n"
     ]
    }
   ],
   "source": [
    "model = RumourClassifier(2)\n",
    "model = model.to(device)"
   ]
  },
  {
   "cell_type": "code",
   "execution_count": 36,
   "metadata": {
    "colab": {
     "base_uri": "https://localhost:8080/"
    },
    "executionInfo": {
     "elapsed": 36545,
     "status": "ok",
     "timestamp": 1618657783609,
     "user": {
      "displayName": "Isitha Subasinghe",
      "photoUrl": "",
      "userId": "08476555080130277821"
     },
     "user_tz": -600
    },
    "id": "Ai22MqnhwjdL",
    "outputId": "cc14b012-671e-428d-f5dc-8b7ba28c313a"
   },
   "outputs": [
    {
     "name": "stderr",
     "output_type": "stream",
     "text": [
      "Truncation was not explicitly activated but `max_length` is provided a specific value, please use `truncation=True` to explicitly truncate examples to max length. Defaulting to 'longest_first' truncation strategy. If you encode pairs of sequences (GLUE-style) with the tokenizer you can select this strategy more precisely by providing a specific strategy to `truncation`.\n",
      "C:\\ProgramData\\Anaconda3\\lib\\site-packages\\transformers\\tokenization_utils_base.py:2137: FutureWarning: The `pad_to_max_length` argument is deprecated and will be removed in a future version, use `padding=True` or `padding='longest'` to pad to the longest sequence in the batch, or use `padding='max_length'` to pad to a max length. In this case, you can give a specific length with `max_length` (e.g. `max_length=45`) or leave max_length to None to pad to the maximal input size of the model (e.g. 512 for Bert).\n",
      "  warnings.warn(\n",
      "<ipython-input-26-94a524199502>:26: DeprecationWarning: an integer is required (got type numpy.float64).  Implicit conversion to integers using __int__ is deprecated, and may be removed in a future version of Python.\n",
      "  'targets': torch.tensor(self.targets[item], dtype=torch.long)\n"
     ]
    }
   ],
   "source": [
    "data = next(iter(train_ds))"
   ]
  },
  {
   "cell_type": "code",
   "execution_count": 37,
   "metadata": {
    "colab": {
     "base_uri": "https://localhost:8080/"
    },
    "executionInfo": {
     "elapsed": 33816,
     "status": "ok",
     "timestamp": 1618657783609,
     "user": {
      "displayName": "Isitha Subasinghe",
      "photoUrl": "",
      "userId": "08476555080130277821"
     },
     "user_tz": -600
    },
    "id": "XF5cGw8awr-N",
    "outputId": "33fcb4cf-6a47-45f0-8039-a71344580d47"
   },
   "outputs": [
    {
     "name": "stdout",
     "output_type": "stream",
     "text": [
      "torch.Size([2, 512])\n",
      "torch.Size([2, 512])\n",
      "torch.Size([2])\n"
     ]
    }
   ],
   "source": [
    "input_ids = data['input_ids'].to(device)\n",
    "attention_mask = data['attention_mask'].to(device)\n",
    "targets = data['targets'].to(device)\n",
    "\n",
    "print(input_ids.shape)\n",
    "print(attention_mask.shape)\n",
    "print(targets.shape)"
   ]
  },
  {
   "cell_type": "code",
   "execution_count": null,
   "metadata": {},
   "outputs": [],
   "source": []
  },
  {
   "cell_type": "code",
   "execution_count": 38,
   "metadata": {
    "colab": {
     "base_uri": "https://localhost:8080/"
    },
    "executionInfo": {
     "elapsed": 54367,
     "status": "ok",
     "timestamp": 1618657804733,
     "user": {
      "displayName": "Isitha Subasinghe",
      "photoUrl": "",
      "userId": "08476555080130277821"
     },
     "user_tz": -600
    },
    "id": "6J4Anpl8wxMu",
    "outputId": "a3ddc034-287c-45c8-85b0-6b2962238777"
   },
   "outputs": [
    {
     "data": {
      "text/plain": [
       "tensor([[0.6865, 0.3135],\n",
       "        [0.4373, 0.5627]], device='cuda:0', grad_fn=<SoftmaxBackward>)"
      ]
     },
     "execution_count": 38,
     "metadata": {},
     "output_type": "execute_result"
    }
   ],
   "source": [
    "model(input_ids, attention_mask)"
   ]
  },
  {
   "cell_type": "code",
   "execution_count": 168,
   "metadata": {
    "executionInfo": {
     "elapsed": 51811,
     "status": "ok",
     "timestamp": 1618657804734,
     "user": {
      "displayName": "Isitha Subasinghe",
      "photoUrl": "",
      "userId": "08476555080130277821"
     },
     "user_tz": -600
    },
    "id": "VBmjS54ExR6J"
   },
   "outputs": [],
   "source": [
    "optimizer = AdamW(model.parameters(), lr=2e-5, correct_bias=False)\n",
    "\n",
    "total_steps = len(train_ds) * 150\n",
    "\n",
    "scheduler = get_linear_schedule_with_warmup(optimizer, num_warmup_steps=0, num_training_steps=total_steps)\n",
    "\n",
    "loss_fn = nn.CrossEntropyLoss().to(device)"
   ]
  },
  {
   "cell_type": "code",
   "execution_count": 40,
   "metadata": {
    "executionInfo": {
     "elapsed": 501,
     "status": "ok",
     "timestamp": 1618657820202,
     "user": {
      "displayName": "Isitha Subasinghe",
      "photoUrl": "",
      "userId": "08476555080130277821"
     },
     "user_tz": -600
    },
    "id": "qBgLcvpC1z-M"
   },
   "outputs": [],
   "source": [
    "def train_epoch(\n",
    "    model, \n",
    "    dl, \n",
    "    loss_fn, \n",
    "    optimizer, \n",
    "    scheduler, \n",
    "    n_examples\n",
    "):\n",
    "  model = model.train()\n",
    "  losses = []\n",
    "  correct_preds = 0\n",
    "\n",
    "  for d in dl:\n",
    "    input_ids = d['input_ids'].to(device)\n",
    "    attention_mask = d['attention_mask'].to(device)\n",
    "    targets = d['targets'].to(device)\n",
    "\n",
    "    output = model(input_ids, attention_mask)\n",
    "\n",
    "    _, pred = torch.max(output, dim=1)\n",
    "\n",
    "    loss = loss_fn(output, targets)\n",
    "\n",
    "    correct_preds += torch.sum(pred == targets)\n",
    "\n",
    "    del pred\n",
    "    del targets\n",
    "    del input_ids\n",
    "    del attention_mask\n",
    "    del output\n",
    "\n",
    "    losses.append(loss.item())\n",
    "\n",
    "    loss.backward()\n",
    "\n",
    "    # Gradient clipping hack\n",
    "    nn.utils.clip_grad_norm_(model.parameters(), max_norm=1.0)\n",
    "\n",
    "    optimizer.step()\n",
    "    scheduler.step()\n",
    "    optimizer.zero_grad()\n",
    "  \n",
    "  return correct_preds.double() / n_examples, np.mean(losses)\n",
    "\n",
    "\n"
   ]
  },
  {
   "cell_type": "code",
   "execution_count": 41,
   "metadata": {
    "executionInfo": {
     "elapsed": 567,
     "status": "ok",
     "timestamp": 1618657824196,
     "user": {
      "displayName": "Isitha Subasinghe",
      "photoUrl": "",
      "userId": "08476555080130277821"
     },
     "user_tz": -600
    },
    "id": "AL3AYhcW3_bn"
   },
   "outputs": [],
   "source": [
    "def eval_model(model, data_loader, loss_fn, n_examples):\n",
    "  model = model.eval()\n",
    "  losses = []\n",
    "  correct_preds = 0 \n",
    "\n",
    "  with torch.no_grad():\n",
    "    for d in data_loader:\n",
    "      input_ids = d['input_ids'].to(device)\n",
    "      attention_mask = d['attention_mask'].to(device)\n",
    "      targets = d['targets'].to(device)\n",
    "\n",
    "      output = model(input_ids, attention_mask)\n",
    "\n",
    "      _, pred = torch.max(output, dim=1)\n",
    "\n",
    "      loss = loss_fn(output, targets)\n",
    "\n",
    "      correct_preds += torch.sum(pred == targets)\n",
    "\n",
    "      losses.append(loss.item())\n",
    "\n",
    "      del pred\n",
    "      del targets\n",
    "      del input_ids\n",
    "      del attention_mask\n",
    "      del output\n",
    "\n",
    "  return correct_preds.double() / n_examples, np.mean(losses)\n",
    "\n"
   ]
  },
  {
   "cell_type": "code",
   "execution_count": 100,
   "metadata": {},
   "outputs": [],
   "source": [
    "def predict_model(model, data_loader):\n",
    "  model = model.eval()\n",
    "  out = []\n",
    "  with torch.no_grad():\n",
    "    for d in data_loader:\n",
    "      input_ids = d['input_ids'].to(device)\n",
    "      attention_mask = d['attention_mask'].to(device)\n",
    "\n",
    "      output = model(input_ids, attention_mask)\n",
    "\n",
    "      _, pred = torch.max(output, dim=1)\n",
    "      out.append(pred.cpu())\n",
    "      del pred\n",
    "      del input_ids\n",
    "      del attention_mask\n",
    "      del output\n",
    "\n",
    "  return out\n"
   ]
  },
  {
   "cell_type": "code",
   "execution_count": null,
   "metadata": {
    "colab": {
     "base_uri": "https://localhost:8080/",
     "height": 1000
    },
    "executionInfo": {
     "elapsed": 2873926,
     "status": "error",
     "timestamp": 1618693349835,
     "user": {
      "displayName": "Isitha Subasinghe",
      "photoUrl": "",
      "userId": "08476555080130277821"
     },
     "user_tz": -600
    },
    "id": "vYzL7Hsca2wZ",
    "outputId": "4006d585-fe27-48c7-b37d-f9a2bf9700e9"
   },
   "outputs": [],
   "source": [
    "%%time\n",
    "\n",
    "history = defaultdict(list)\n",
    "best_accuracy = 0\n",
    "\n",
    "for epoch in tqdm(range(150)):\n",
    "\n",
    "  print(f'Epoch {epoch + 1}/{150}')\n",
    "  print('-' * 10)\n",
    "\n",
    "  train_acc, train_loss = train_epoch(\n",
    "    model,\n",
    "    train_ds,    \n",
    "    loss_fn, \n",
    "    optimizer, \n",
    "    scheduler,\n",
    "    len(Ytrain) \n",
    "  )\n",
    "\n",
    "  print(f'Train loss {train_loss} accuracy {train_acc}')\n",
    "\n",
    "  val_acc, val_loss = eval_model(\n",
    "    model,\n",
    "    test_ds,\n",
    "    loss_fn,\n",
    "    len(Ydev) \n",
    "  )\n",
    "\n",
    "  print(f'Val   loss {val_loss} accuracy {val_acc}')\n",
    "  print()\n",
    "\n",
    "  history['train_acc'].append(train_acc)\n",
    "  history['train_loss'].append(train_loss)\n",
    "  history['val_acc'].append(val_acc)\n",
    "  history['val_loss'].append(val_loss)\n",
    "\n",
    "  if val_acc > best_accuracy:\n",
    "    torch.save(model.state_dict(), 'best_model_state2.bin')\n",
    "    best_accuracy = val_acc"
   ]
  },
  {
   "cell_type": "code",
   "execution_count": 43,
   "metadata": {
    "colab": {
     "base_uri": "https://localhost:8080/"
    },
    "executionInfo": {
     "elapsed": 1992,
     "status": "ok",
     "timestamp": 1618569564739,
     "user": {
      "displayName": "Isitha Subasinghe",
      "photoUrl": "",
      "userId": "08476555080130277821"
     },
     "user_tz": -600
    },
    "id": "snU8jKEQDQGW",
    "outputId": "a013e017-0d92-42ab-8368-9fafa95ec051"
   },
   "outputs": [
    {
     "data": {
      "text/plain": [
       "749"
      ]
     },
     "execution_count": 43,
     "metadata": {},
     "output_type": "execute_result"
    }
   ],
   "source": []
  },
  {
   "cell_type": "code",
   "execution_count": 53,
   "metadata": {
    "colab": {
     "base_uri": "https://localhost:8080/"
    },
    "executionInfo": {
     "elapsed": 759,
     "status": "ok",
     "timestamp": 1618569431548,
     "user": {
      "displayName": "Isitha Subasinghe",
      "photoUrl": "",
      "userId": "08476555080130277821"
     },
     "user_tz": -600
    },
    "id": "qMTYu8VsGnwY",
    "outputId": "051ccde8-71d7-4295-ebe4-c3a1856c37e4"
   },
   "outputs": [
    {
     "data": {
      "text/plain": [
       "<All keys matched successfully>"
      ]
     },
     "execution_count": 53,
     "metadata": {},
     "output_type": "execute_result"
    }
   ],
   "source": [
    "model.load_state_dict(torch.load(\"./best_model_state.bin\"))"
   ]
  },
  {
   "cell_type": "code",
   "execution_count": 103,
   "metadata": {
    "id": "bKDjdqhuQYZg"
   },
   "outputs": [],
   "source": [
    "test2_ds = create_data_loader(newXtest, np.zeros(len(newXtest)), tokenizer, 512, 1)"
   ]
  },
  {
   "cell_type": "code",
   "execution_count": 104,
   "metadata": {},
   "outputs": [
    {
     "name": "stderr",
     "output_type": "stream",
     "text": [
      "<ipython-input-26-94a524199502>:26: DeprecationWarning: an integer is required (got type numpy.float64).  Implicit conversion to integers using __int__ is deprecated, and may be removed in a future version of Python.\n",
      "  'targets': torch.tensor(self.targets[item], dtype=torch.long)\n"
     ]
    }
   ],
   "source": [
    "out = predict_model(model, test2_ds)"
   ]
  },
  {
   "cell_type": "code",
   "execution_count": 115,
   "metadata": {},
   "outputs": [],
   "source": [
    "out = torch.tensor(out)"
   ]
  },
  {
   "cell_type": "code",
   "execution_count": 119,
   "metadata": {},
   "outputs": [],
   "source": [
    "out = [int(e) for e in out]"
   ]
  },
  {
   "cell_type": "code",
   "execution_count": null,
   "metadata": {},
   "outputs": [],
   "source": []
  },
  {
   "cell_type": "code",
   "execution_count": 127,
   "metadata": {},
   "outputs": [],
   "source": [
    "def submit_array(arr, json_lines):\n",
    "    data = {}\n",
    "    \n",
    "    for i, res in enumerate(arr):\n",
    "        data_str = json_lines[i][0]['id_str']\n",
    "        data[data_str] = 'rumour' if res == 1 else 'non-rumour'\n",
    "    return data"
   ]
  },
  {
   "cell_type": "code",
   "execution_count": 128,
   "metadata": {},
   "outputs": [],
   "source": [
    "submission = submit_array(out, json_lines_test)"
   ]
  },
  {
   "cell_type": "code",
   "execution_count": 129,
   "metadata": {},
   "outputs": [
    {
     "data": {
      "text/plain": [
       "{'544382249178001408': 'rumour',\n",
       " '525027317551079424': 'rumour',\n",
       " '544273220128739329': 'rumour',\n",
       " '499571799764770816': 'non-rumour',\n",
       " '552844104418091008': 'non-rumour',\n",
       " '524977651476623360': 'rumour',\n",
       " '544514988078280704': 'non-rumour',\n",
       " '524928863714168832': 'rumour',\n",
       " '544390718253699072': 'non-rumour',\n",
       " '580322349569994752': 'rumour',\n",
       " '544475905926524928': 'non-rumour',\n",
       " '544389986809036800': 'non-rumour',\n",
       " '498530293116968960': 'non-rumour',\n",
       " '498293625420148736': 'non-rumour',\n",
       " '552831230735962113': 'non-rumour',\n",
       " '553589469849583616': 'non-rumour',\n",
       " '544415816851021824': 'non-rumour',\n",
       " '552850116324130816': 'non-rumour',\n",
       " '544318036715782144': 'rumour',\n",
       " '524974318087061504': 'rumour',\n",
       " '553592195786506240': 'non-rumour',\n",
       " '524959778125385728': 'non-rumour',\n",
       " '553502311872733184': 'non-rumour',\n",
       " '499698366402789376': 'non-rumour',\n",
       " '525032872647065600': 'non-rumour',\n",
       " '553110609513177088': 'non-rumour',\n",
       " '544267656597995521': 'rumour',\n",
       " '552845393541988352': 'non-rumour',\n",
       " '500422971320963072': 'non-rumour',\n",
       " '553197197618339841': 'non-rumour',\n",
       " '500351760402493440': 'non-rumour',\n",
       " '553147341470203906': 'non-rumour',\n",
       " '524939821815721984': 'non-rumour',\n",
       " '544376469279875072': 'non-rumour',\n",
       " '544438309267578880': 'non-rumour',\n",
       " '544453205682556928': 'non-rumour',\n",
       " '552821573946982401': 'non-rumour',\n",
       " '552817675408523264': 'non-rumour',\n",
       " '544336432609775618': 'non-rumour',\n",
       " '552825473160736768': 'non-rumour',\n",
       " '544429350376861696': 'non-rumour',\n",
       " '552846544320618496': 'non-rumour',\n",
       " '524950203476869120': 'non-rumour',\n",
       " '500371231183745025': 'rumour',\n",
       " '500234390723915776': 'non-rumour',\n",
       " '544515971637968898': 'non-rumour',\n",
       " '544382795099799553': 'non-rumour',\n",
       " '553194557316542465': 'non-rumour',\n",
       " '552837644959621120': 'non-rumour',\n",
       " '553535829529100288': 'rumour',\n",
       " '544465862942797825': 'non-rumour',\n",
       " '581183387848859648': 'rumour',\n",
       " '544487579048222721': 'non-rumour',\n",
       " '499531968229683200': 'non-rumour',\n",
       " '498294764718915586': 'non-rumour',\n",
       " '500298315368390657': 'rumour',\n",
       " '544513510450155520': 'rumour',\n",
       " '580329219646988289': 'rumour',\n",
       " '500382853147164672': 'non-rumour',\n",
       " '544353502689251329': 'rumour',\n",
       " '552814137857036289': 'non-rumour',\n",
       " '524956415589621760': 'rumour',\n",
       " '553485654030446592': 'non-rumour',\n",
       " '552840606074953728': 'non-rumour',\n",
       " '552833527444566016': 'non-rumour',\n",
       " '499541439962185729': 'non-rumour',\n",
       " '552824885484224513': 'non-rumour',\n",
       " '499586890837016579': 'non-rumour',\n",
       " '552821810572439553': 'non-rumour',\n",
       " '544310222547087361': 'non-rumour',\n",
       " '552790565642067968': 'non-rumour',\n",
       " '553103772852191233': 'rumour',\n",
       " '500072455931588611': 'non-rumour',\n",
       " '580323877429112832': 'non-rumour',\n",
       " '524969501704855552': 'rumour',\n",
       " '524979702940045313': 'non-rumour',\n",
       " '499427218171248641': 'rumour',\n",
       " '524958409381384192': 'non-rumour',\n",
       " '552848590373392384': 'non-rumour',\n",
       " '524967510563889152': 'non-rumour',\n",
       " '580333904126742528': 'rumour',\n",
       " '544293021995393024': 'non-rumour',\n",
       " '553502446769942528': 'non-rumour',\n",
       " '544326461952241664': 'rumour',\n",
       " '553226143307161600': 'non-rumour',\n",
       " '524936793633083394': 'rumour',\n",
       " '552848704819183616': 'non-rumour',\n",
       " '499691593985957888': 'non-rumour',\n",
       " '499432169836531712': 'non-rumour',\n",
       " '580347360959717376': 'rumour',\n",
       " '544426421331169280': 'non-rumour',\n",
       " '553227441712668672': 'non-rumour',\n",
       " '544388658334146561': 'rumour',\n",
       " '552831761957523456': 'non-rumour',\n",
       " '544374018661687296': 'rumour',\n",
       " '500297243371798528': 'non-rumour',\n",
       " '553208762291339265': 'non-rumour',\n",
       " '500320286341099523': 'non-rumour',\n",
       " '552784526955806720': 'rumour',\n",
       " '552978099357237248': 'rumour',\n",
       " '500284494201757696': 'rumour',\n",
       " '525021083892994049': 'rumour',\n",
       " '499637476315910146': 'non-rumour',\n",
       " '524962199543230464': 'rumour',\n",
       " '499606771246567424': 'non-rumour',\n",
       " '552833795142209536': 'non-rumour',\n",
       " '552824126659104771': 'non-rumour',\n",
       " '544278985249550337': 'non-rumour',\n",
       " '553475269873643520': 'non-rumour',\n",
       " '525032458417610752': 'non-rumour',\n",
       " '499357077429817344': 'non-rumour',\n",
       " '498497371899449344': 'rumour',\n",
       " '525023858831523841': 'rumour',\n",
       " '544285245600989184': 'rumour',\n",
       " '500364250461003777': 'rumour',\n",
       " '553491517462315008': 'non-rumour',\n",
       " '552837499937378305': 'non-rumour',\n",
       " '553215658784456705': 'non-rumour',\n",
       " '553145236268916736': 'non-rumour',\n",
       " '499596695705894912': 'rumour',\n",
       " '544466920880492544': 'non-rumour',\n",
       " '500277382461530112': 'rumour',\n",
       " '553216874130206721': 'non-rumour',\n",
       " '552810032765497345': 'non-rumour',\n",
       " '544313370892324864': 'non-rumour',\n",
       " '500422447623966721': 'non-rumour',\n",
       " '544341194822520832': 'non-rumour',\n",
       " '552806056154644480': 'rumour',\n",
       " '500300813835988992': 'non-rumour',\n",
       " '544462918465503233': 'non-rumour',\n",
       " '552996335319007233': 'rumour',\n",
       " '500377192841609217': 'non-rumour',\n",
       " '553536603998945280': 'rumour',\n",
       " '544284455909998592': 'rumour',\n",
       " '524978196589334529': 'non-rumour',\n",
       " '544427938372792321': 'rumour',\n",
       " '552799640488517632': 'rumour',\n",
       " '552826150141960192': 'non-rumour',\n",
       " '500296369224310784': 'non-rumour',\n",
       " '553124783043649537': 'non-rumour',\n",
       " '499464258183114754': 'non-rumour',\n",
       " '553588704913416192': 'non-rumour',\n",
       " '581317224096387072': 'rumour',\n",
       " '580364973664309248': 'rumour',\n",
       " '499692788993511424': 'non-rumour',\n",
       " '544478625383608320': 'non-rumour',\n",
       " '553472225798795264': 'rumour',\n",
       " '553591049541914624': 'non-rumour',\n",
       " '524943012602716160': 'non-rumour',\n",
       " '544282355989753857': 'rumour',\n",
       " '525020733622464512': 'rumour',\n",
       " '553157857215262721': 'non-rumour',\n",
       " '544410050572582912': 'non-rumour',\n",
       " '544329393737170944': 'non-rumour',\n",
       " '525026715123601408': 'rumour',\n",
       " '552834732325879809': 'non-rumour',\n",
       " '552822314157768704': 'non-rumour',\n",
       " '552804839886184448': 'rumour',\n",
       " '544274544174071809': 'non-rumour',\n",
       " '553576010898497536': 'rumour',\n",
       " '544410900854091776': 'non-rumour',\n",
       " '580326762673901568': 'rumour',\n",
       " '552803792618799106': 'non-rumour',\n",
       " '552823427862908928': 'non-rumour',\n",
       " '553506985413713920': 'non-rumour',\n",
       " '500311883669585920': 'non-rumour',\n",
       " '544351885298130945': 'rumour',\n",
       " '544469609433563136': 'non-rumour',\n",
       " '500307001629745152': 'rumour',\n",
       " '524927288077746176': 'rumour',\n",
       " '552825211654246401': 'non-rumour',\n",
       " '544319905076903936': 'non-rumour',\n",
       " '524964630221705216': 'non-rumour',\n",
       " '553218599390040065': 'non-rumour',\n",
       " '544391412075069440': 'non-rumour',\n",
       " '499364002318020608': 'non-rumour',\n",
       " '500343812863311872': 'rumour',\n",
       " '553511279235964928': 'non-rumour',\n",
       " '552847959864274944': 'non-rumour',\n",
       " '553165824979386368': 'non-rumour',\n",
       " '499437429690888192': 'non-rumour',\n",
       " '500413012822745090': 'non-rumour',\n",
       " '580377478184755201': 'rumour',\n",
       " '500315536937324544': 'non-rumour',\n",
       " '525038096086499328': 'rumour',\n",
       " '580364656608428032': 'rumour',\n",
       " '580321156508577792': 'rumour',\n",
       " '524961055211286528': 'non-rumour',\n",
       " '580354367796166656': 'non-rumour',\n",
       " '544427255439425536': 'non-rumour',\n",
       " '553175336926449664': 'non-rumour',\n",
       " '553099479381848064': 'non-rumour',\n",
       " '524958498770395137': 'rumour',\n",
       " '544519635916169218': 'rumour',\n",
       " '499440386767859712': 'non-rumour',\n",
       " '553542282100871168': 'non-rumour',\n",
       " '553584782987497474': 'rumour',\n",
       " '552815122897727488': 'non-rumour',\n",
       " '553099050409807872': 'non-rumour',\n",
       " '553167429665587200': 'rumour',\n",
       " '525050193360613376': 'non-rumour',\n",
       " '500234112054341632': 'non-rumour',\n",
       " '500332042648055808': 'rumour',\n",
       " '500313811195158528': 'non-rumour',\n",
       " '553556643456507904': 'rumour',\n",
       " '553192366098898945': 'non-rumour',\n",
       " '524962748237889536': 'non-rumour',\n",
       " '524959090125320193': 'non-rumour',\n",
       " '498300256678076417': 'non-rumour',\n",
       " '553512076304728064': 'non-rumour',\n",
       " '544414686935285760': 'non-rumour',\n",
       " '500287538578587648': 'rumour',\n",
       " '498276354434277376': 'non-rumour',\n",
       " '524949073154301952': 'rumour',\n",
       " '525021050627973120': 'non-rumour',\n",
       " '524977830124617728': 'non-rumour',\n",
       " '544401106617786370': 'non-rumour',\n",
       " '552824705703763969': 'rumour',\n",
       " '524944006577668096': 'rumour',\n",
       " '581153923987206146': 'rumour',\n",
       " '500359125310922753': 'rumour',\n",
       " '544512078518968320': 'non-rumour',\n",
       " '553535765997969408': 'non-rumour',\n",
       " '580364138020507649': 'rumour',\n",
       " '553491005971132416': 'non-rumour',\n",
       " '553205115830951936': 'non-rumour',\n",
       " '552844643097120768': 'non-rumour',\n",
       " '544416937178976256': 'non-rumour',\n",
       " '500371149713178625': 'rumour',\n",
       " '500278978557804544': 'non-rumour',\n",
       " '553539631149756416': 'non-rumour',\n",
       " '552841049467400192': 'non-rumour',\n",
       " '553474514496278528': 'rumour',\n",
       " '553536887349325825': 'rumour',\n",
       " '552835339325558785': 'non-rumour',\n",
       " '544328894812549121': 'rumour',\n",
       " '553583867664535552': 'non-rumour',\n",
       " '544328059482939392': 'non-rumour',\n",
       " '524965242213007360': 'non-rumour',\n",
       " '524930671220105216': 'rumour',\n",
       " '544379366474403840': 'rumour',\n",
       " '553528503573184514': 'non-rumour',\n",
       " '524942952733220865': 'rumour',\n",
       " '499360762167848960': 'non-rumour',\n",
       " '544362279006113792': 'rumour',\n",
       " '499611069565112320': 'non-rumour',\n",
       " '553546292748898304': 'non-rumour',\n",
       " '553588106587545600': 'rumour',\n",
       " '499706791396392960': 'non-rumour',\n",
       " '553534934447824896': 'non-rumour',\n",
       " '544277516773380097': 'rumour',\n",
       " '500407038800056321': 'rumour',\n",
       " '552795953301045248': 'non-rumour',\n",
       " '552828400843620353': 'non-rumour',\n",
       " '498272364560257025': 'non-rumour',\n",
       " '544285712653500419': 'rumour',\n",
       " '553107688591089664': 'non-rumour',\n",
       " '552813160110252032': 'non-rumour',\n",
       " '499659628645720064': 'non-rumour',\n",
       " '544390550497947649': 'non-rumour',\n",
       " '524971492820647936': 'non-rumour',\n",
       " '580326222107951104': 'rumour',\n",
       " '553185404657352704': 'non-rumour',\n",
       " '553129811850559488': 'non-rumour',\n",
       " '544309177859203073': 'rumour',\n",
       " '524950455743291392': 'non-rumour',\n",
       " '524955388190662657': 'rumour',\n",
       " '500367267901632512': 'non-rumour',\n",
       " '500363126294863876': 'non-rumour',\n",
       " '552788555584765952': 'non-rumour',\n",
       " '553143519536500738': 'non-rumour',\n",
       " '552807328287064065': 'non-rumour',\n",
       " '498341675476217856': 'rumour',\n",
       " '552825257707335680': 'non-rumour',\n",
       " '524935633463037953': 'rumour',\n",
       " '544341406094213121': 'rumour',\n",
       " '544435176479027200': 'non-rumour',\n",
       " '552824320389435392': 'non-rumour',\n",
       " '580320745974288384': 'rumour',\n",
       " '498251940997136384': 'non-rumour',\n",
       " '553582206019723264': 'non-rumour',\n",
       " '553589372084162560': 'rumour',\n",
       " '580332189155459072': 'non-rumour',\n",
       " '544268637134393344': 'rumour',\n",
       " '544338731210399744': 'rumour',\n",
       " '553226059836297216': 'non-rumour',\n",
       " '553529796601585664': 'rumour',\n",
       " '524974975623892992': 'non-rumour',\n",
       " '553222727700865025': 'non-rumour',\n",
       " '499435341259223040': 'non-rumour',\n",
       " '553478677359775744': 'non-rumour',\n",
       " '498356729634390016': 'non-rumour',\n",
       " '553531783992868864': 'rumour',\n",
       " '499691638424608768': 'non-rumour',\n",
       " '552826580741795840': 'non-rumour',\n",
       " '544434192478519297': 'rumour',\n",
       " '553548404102414337': 'non-rumour',\n",
       " '524943886553468929': 'rumour',\n",
       " '580322026029654018': 'non-rumour',\n",
       " '499438052688023552': 'non-rumour',\n",
       " '499394946416529409': 'non-rumour',\n",
       " '499583349267382273': 'non-rumour',\n",
       " '524961721744900097': 'rumour',\n",
       " '581293685041557504': 'rumour',\n",
       " '553589657695715328': 'non-rumour',\n",
       " '524955083297931264': 'non-rumour',\n",
       " '552981833189969921': 'rumour',\n",
       " '553174338380517376': 'non-rumour',\n",
       " '552830966411321344': 'non-rumour',\n",
       " '553549680538578944': 'non-rumour',\n",
       " '524952094986350592': 'rumour',\n",
       " '500359356589019136': 'non-rumour',\n",
       " '498489114384420865': 'non-rumour',\n",
       " '552818988468944897': 'rumour',\n",
       " '544361776020586496': 'rumour',\n",
       " '553233130275221504': 'non-rumour',\n",
       " '580882417117958144': 'rumour',\n",
       " '544453251068743681': 'non-rumour',\n",
       " '499376069485821952': 'non-rumour',\n",
       " '524947036228317184': 'non-rumour',\n",
       " '525039002307424256': 'rumour',\n",
       " '499696137708658688': 'non-rumour',\n",
       " '544408991649251329': 'non-rumour',\n",
       " '553176929411825664': 'rumour',\n",
       " '544494652418949120': 'non-rumour',\n",
       " '524979881525137409': 'non-rumour',\n",
       " '553503546382249984': 'non-rumour',\n",
       " '553582801833185280': 'non-rumour',\n",
       " '553550030553243650': 'non-rumour',\n",
       " '524964457936863232': 'non-rumour',\n",
       " '580335545265627136': 'rumour',\n",
       " '500329800725442562': 'non-rumour',\n",
       " '553153190859141120': 'non-rumour',\n",
       " '544520042810200064': 'rumour',\n",
       " '499556227874304000': 'non-rumour',\n",
       " '552831978522021890': 'non-rumour',\n",
       " '553587329626292224': 'rumour',\n",
       " '544300674448887809': 'non-rumour',\n",
       " '552981008518500353': 'non-rumour',\n",
       " '580322927679279105': 'rumour',\n",
       " '544269749405097984': 'rumour',\n",
       " '500295333486657536': 'non-rumour',\n",
       " '499349294034743297': 'non-rumour',\n",
       " '553587352086384640': 'non-rumour',\n",
       " '544516478821613569': 'rumour',\n",
       " '544500883963518976': 'rumour',\n",
       " '544518803225604096': 'rumour',\n",
       " '524941504796962816': 'rumour',\n",
       " '552832584045330432': 'non-rumour',\n",
       " '500298847550472194': 'rumour',\n",
       " '544494058287423489': 'non-rumour',\n",
       " '525070811439579138': 'non-rumour',\n",
       " '544519140552507392': 'rumour',\n",
       " '525001708318240768': 'non-rumour',\n",
       " '552982124274647042': 'non-rumour',\n",
       " '544291966536523776': 'non-rumour',\n",
       " '544414430025371649': 'rumour',\n",
       " '500364914796802048': 'non-rumour',\n",
       " '544301961638457344': 'non-rumour',\n",
       " '500385585807499266': 'non-rumour',\n",
       " '499394221984714752': 'non-rumour',\n",
       " '580319651399385088': 'rumour',\n",
       " '544432661419155456': 'non-rumour',\n",
       " '580324721381740544': 'rumour',\n",
       " '544318880001560576': 'rumour',\n",
       " '553567184002502656': 'non-rumour',\n",
       " '553580499395174400': 'non-rumour',\n",
       " '500388703114895360': 'non-rumour',\n",
       " '498294367405477888': 'rumour',\n",
       " '525000220371734528': 'non-rumour',\n",
       " '553540824768991233': 'rumour',\n",
       " '580320995266936832': 'rumour',\n",
       " '553153740925304832': 'non-rumour',\n",
       " '498267196833808384': 'non-rumour',\n",
       " '544391790615605249': 'non-rumour',\n",
       " '552985855854661633': 'rumour',\n",
       " '552806890498191361': 'non-rumour',\n",
       " '552808242276229120': 'non-rumour',\n",
       " '524931830173421568': 'rumour',\n",
       " '524979179235069952': 'non-rumour',\n",
       " '500360632093646848': 'non-rumour',\n",
       " '500070699768496128': 'non-rumour',\n",
       " '544466903364673536': 'non-rumour',\n",
       " '500369097360953345': 'non-rumour',\n",
       " '500072334578159616': 'non-rumour',\n",
       " '525053517531062272': 'non-rumour',\n",
       " '553149163181838336': 'non-rumour',\n",
       " '544353552177455104': 'rumour',\n",
       " '544510827433558016': 'rumour',\n",
       " '499643185581142016': 'non-rumour',\n",
       " '552828658747187201': 'non-rumour',\n",
       " '544397240601563137': 'non-rumour',\n",
       " '524951585231994880': 'rumour',\n",
       " '499703651079045121': 'non-rumour',\n",
       " '544352727971954690': 'rumour',\n",
       " '552843136238899200': 'non-rumour',\n",
       " '580320242020290560': 'rumour',\n",
       " '500274697485824000': 'non-rumour',\n",
       " '500364003734867970': 'non-rumour',\n",
       " '552821030117711872': 'non-rumour',\n",
       " '580334563932549120': 'rumour',\n",
       " '553555848794877952': 'non-rumour',\n",
       " '500266967102914560': 'non-rumour',\n",
       " '552837027616804864': 'non-rumour',\n",
       " '500309381930844160': 'rumour',\n",
       " '500359983301939200': 'non-rumour',\n",
       " '544492984880754688': 'rumour',\n",
       " '499409455814287360': 'non-rumour',\n",
       " '499642374428307457': 'rumour',\n",
       " '524933380929245184': 'rumour',\n",
       " '553187959835725824': 'non-rumour',\n",
       " '552816883012239360': 'non-rumour',\n",
       " '499667557247614977': 'non-rumour',\n",
       " '524941124893700096': 'rumour',\n",
       " '544292129972170752': 'rumour',\n",
       " '544495359800930304': 'non-rumour',\n",
       " '552844436460560384': 'non-rumour',\n",
       " '499706705354448897': 'non-rumour',\n",
       " '499365436816105473': 'non-rumour',\n",
       " '552978586559188992': 'non-rumour',\n",
       " '544369574842347520': 'rumour',\n",
       " '553192641328734208': 'non-rumour',\n",
       " '524947149134774272': 'rumour',\n",
       " '552794995942772736': 'non-rumour',\n",
       " '553587511864598529': 'rumour',\n",
       " '552815443959091200': 'non-rumour',\n",
       " '580347361039413248': 'rumour',\n",
       " '524957974226550784': 'non-rumour',\n",
       " '544487291465392128': 'non-rumour',\n",
       " '524965775036387329': 'non-rumour',\n",
       " '500296080710705152': 'non-rumour',\n",
       " '553159773555023872': 'non-rumour',\n",
       " '553487579077550082': 'non-rumour',\n",
       " '498294775649665024': 'non-rumour',\n",
       " '524944610985263104': 'non-rumour',\n",
       " '553555389611274240': 'non-rumour',\n",
       " '544289941996326912': 'non-rumour',\n",
       " '524955243185176576': 'non-rumour',\n",
       " '544403765575839744': 'non-rumour',\n",
       " '544336537870434304': 'rumour',\n",
       " '524978999534317568': 'non-rumour',\n",
       " '544315472075042818': 'rumour',\n",
       " '500315532382707712': 'non-rumour',\n",
       " '525027651908800512': 'rumour',\n",
       " '544446828654366720': 'rumour',\n",
       " '552851772658561028': 'rumour',\n",
       " '524928195011698688': 'non-rumour',\n",
       " '553589285342175232': 'rumour',\n",
       " '544335202923737089': 'non-rumour',\n",
       " '552815293349650433': 'non-rumour',\n",
       " '553581958455123968': 'non-rumour',\n",
       " '525012689568161792': 'non-rumour',\n",
       " '553121732387946496': 'rumour',\n",
       " '552812623658762240': 'non-rumour',\n",
       " '544437798426509312': 'non-rumour',\n",
       " '553484760233017344': 'rumour',\n",
       " '553554585634496512': 'rumour',\n",
       " '552846565950627840': 'non-rumour',\n",
       " '525025329916948481': 'rumour',\n",
       " '553148339160907776': 'rumour',\n",
       " '499655603405725696': 'non-rumour',\n",
       " '500316260081889282': 'non-rumour',\n",
       " '553139058827096064': 'non-rumour',\n",
       " '553152208691539968': 'non-rumour',\n",
       " '525034332474601472': 'non-rumour',\n",
       " '498349598197702656': 'rumour',\n",
       " '525047104239333377': 'non-rumour',\n",
       " '553110339236409346': 'rumour',\n",
       " '552814410763603968': 'non-rumour',\n",
       " '552792253601947648': 'non-rumour',\n",
       " '552814770542628865': 'non-rumour',\n",
       " '580330362070540288': 'non-rumour',\n",
       " '580340423044018176': 'non-rumour',\n",
       " '500385877684539393': 'non-rumour',\n",
       " '499665704300191745': 'non-rumour',\n",
       " '499651830951841794': 'non-rumour',\n",
       " '544369653015801856': 'non-rumour',\n",
       " '581307361857392642': 'rumour',\n",
       " '499601956491374594': 'non-rumour',\n",
       " '524924034124107776': 'rumour',\n",
       " '580327960638521344': 'non-rumour',\n",
       " '525002243100401664': 'rumour',\n",
       " '525028171549523971': 'rumour',\n",
       " '499530130487017472': 'rumour',\n",
       " '498271531386953728': 'non-rumour',\n",
       " '580337440738713600': 'non-rumour',\n",
       " '544477048048082945': 'non-rumour',\n",
       " '524938162900967424': 'rumour',\n",
       " '524983366261936130': 'rumour',\n",
       " '544387669766451200': 'rumour',\n",
       " '524945676443340800': 'rumour',\n",
       " '580350403734310912': 'non-rumour',\n",
       " '553531343834202112': 'rumour',\n",
       " '500277477986828288': 'rumour',\n",
       " '552807101442322432': 'non-rumour',\n",
       " '499705915227271168': 'non-rumour',\n",
       " '544299439087550464': 'non-rumour',\n",
       " '553589860880375808': 'rumour',\n",
       " '524983146266505216': 'rumour',\n",
       " '552805175874686977': 'non-rumour',\n",
       " '553464709899616257': 'non-rumour',\n",
       " '553144712920834048': 'rumour',\n",
       " '500364921607974913': 'non-rumour',\n",
       " '525052223030845440': 'rumour',\n",
       " '544499449645768706': 'non-rumour',\n",
       " '500396427378298880': 'non-rumour',\n",
       " '544309283048144897': 'non-rumour',\n",
       " '500378522788315137': 'rumour',\n",
       " '500366417674268673': 'non-rumour',\n",
       " '553214358948683776': 'non-rumour',\n",
       " '552806937470201856': 'non-rumour',\n",
       " '553231516290269184': 'non-rumour',\n",
       " '499581876668227584': 'non-rumour',\n",
       " '544518337498058753': 'non-rumour',\n",
       " '552805069956329472': 'non-rumour',\n",
       " '524937330923417600': 'rumour',\n",
       " '525038296921960449': 'non-rumour',\n",
       " '553466230989144064': 'rumour',\n",
       " '544419162001383424': 'non-rumour',\n",
       " '524966596897685504': 'non-rumour',\n",
       " '580328708675887104': 'rumour',\n",
       " '524969878823137280': 'rumour',\n",
       " '553548567420628992': 'rumour',\n",
       " '524935769614331904': 'rumour',\n",
       " '499592320900431872': 'non-rumour',\n",
       " '544274934835707905': 'rumour',\n",
       " '552790598823186432': 'non-rumour',\n",
       " '553590835850514433': 'rumour',\n",
       " '552811438994378754': 'non-rumour',\n",
       " '544272134764122112': 'rumour',\n",
       " '552791332935434242': 'non-rumour',\n",
       " '499703127193305088': 'non-rumour',\n",
       " '553588494661337089': 'non-rumour',\n",
       " '499660656769921025': 'non-rumour',\n",
       " '553118384540643328': 'non-rumour',\n",
       " '500288349924782080': 'non-rumour',\n",
       " '544296985910861824': 'rumour',\n",
       " '544487535418687488': 'rumour',\n",
       " '544409400941625344': 'non-rumour',\n",
       " '553203041705664513': 'non-rumour',\n",
       " '499658267493019651': 'non-rumour',\n",
       " '499397804620386304': 'non-rumour',\n",
       " '524935246647926784': 'rumour',\n",
       " '553172769819852800': 'non-rumour',\n",
       " '498300128088694786': 'rumour',\n",
       " '544516940367413248': 'rumour',\n",
       " '525034457086959616': 'non-rumour',\n",
       " '524935085863481344': 'rumour',\n",
       " '553519997956669440': 'non-rumour',\n",
       " '580336069192843264': 'non-rumour',\n",
       " '553553331671408641': 'rumour',\n",
       " '544380899639689216': 'rumour',\n",
       " '524944788525973505': 'non-rumour',\n",
       " '581247335998431232': 'non-rumour',\n",
       " '544470398881259520': 'rumour',\n",
       " '580325043705667586': 'rumour',\n",
       " '500316380063748096': 'non-rumour',\n",
       " '525067386849091584': 'rumour',\n",
       " '580346858846822400': 'non-rumour',\n",
       " '553589606307090432': 'rumour',\n",
       " '553581669710831617': 'non-rumour',\n",
       " '525006356731166720': 'rumour',\n",
       " '553124268196642816': 'rumour',\n",
       " '552839416620658688': 'rumour',\n",
       " '553552825431883776': 'rumour',\n",
       " '553229948153262081': 'non-rumour',\n",
       " '544518415952539649': 'rumour',\n",
       " '544384394337611776': 'rumour',\n",
       " '524973811092193280': 'non-rumour',\n",
       " '544323450270392322': 'non-rumour',\n",
       " '544426670095368192': 'non-rumour',\n",
       " '553171877464920064': 'non-rumour',\n",
       " '552843285468020736': 'non-rumour',\n",
       " '553541988490825728': 'rumour',\n",
       " '553561169923829760': 'non-rumour',\n",
       " '525035552643751936': 'rumour',\n",
       " '553581227165642752': 'non-rumour',\n",
       " '552816302780579840': 'non-rumour',\n",
       " '580350000074457088': 'rumour',\n",
       " '498584409055174656': 'non-rumour',\n",
       " '524961070465945600': 'non-rumour'}"
      ]
     },
     "execution_count": 129,
     "metadata": {},
     "output_type": "execute_result"
    }
   ],
   "source": [
    "submission"
   ]
  },
  {
   "cell_type": "code",
   "execution_count": 132,
   "metadata": {},
   "outputs": [],
   "source": [
    "with open(\"./test-output.json\", \"w\") as f:\n",
    "    json.dump(submission, f)"
   ]
  },
  {
   "cell_type": "code",
   "execution_count": 7,
   "metadata": {},
   "outputs": [
    {
     "data": {
      "text/plain": [
       "tensor([[[ 0.1810, -2.0737,  1.2263, -0.3553],\n",
       "         [ 1.8586, -0.4073, -0.0869, -1.1196],\n",
       "         [-0.6963, -0.3884, -0.8622, -0.6657]],\n",
       "\n",
       "        [[-1.6159, -0.8398, -0.8866,  0.0535],\n",
       "         [-0.8231, -0.9758, -0.7927,  0.1227],\n",
       "         [-0.2529, -0.5373,  0.8509, -0.1288]]])"
      ]
     },
     "execution_count": 7,
     "metadata": {},
     "output_type": "execute_result"
    }
   ],
   "source": [
    "torch.randn(2, 3, 4)"
   ]
  },
  {
   "cell_type": "code",
   "execution_count": null,
   "metadata": {},
   "outputs": [],
   "source": []
  }
 ],
 "metadata": {
  "accelerator": "TPU",
  "colab": {
   "authorship_tag": "ABX9TyP1r2IrcSEnj4IE/XuqL9/1",
   "collapsed_sections": [],
   "machine_shape": "hm",
   "mount_file_id": "1iTbFcDIId-eS4SC_U1R1PfRKsp1JeIil",
   "name": "Untitled1.ipynb",
   "provenance": []
  },
  "kernelspec": {
   "display_name": "Python 3",
   "language": "python",
   "name": "python3"
  },
  "language_info": {
   "codemirror_mode": {
    "name": "ipython",
    "version": 3
   },
   "file_extension": ".py",
   "mimetype": "text/x-python",
   "name": "python",
   "nbconvert_exporter": "python",
   "pygments_lexer": "ipython3",
   "version": "3.8.5"
  },
  "widgets": {
   "application/vnd.jupyter.widget-state+json": {
    "05dff7b1355a4ffb903aaa3ca6f2cee7": {
     "model_module": "@jupyter-widgets/controls",
     "model_name": "FloatProgressModel",
     "state": {
      "_dom_classes": [],
      "_model_module": "@jupyter-widgets/controls",
      "_model_module_version": "1.5.0",
      "_model_name": "FloatProgressModel",
      "_view_count": null,
      "_view_module": "@jupyter-widgets/controls",
      "_view_module_version": "1.5.0",
      "_view_name": "ProgressView",
      "bar_style": "success",
      "description": "Downloading: 100%",
      "description_tooltip": null,
      "layout": "IPY_MODEL_a435c1490a364aefae0dfaf37c5cfddd",
      "max": 231508,
      "min": 0,
      "orientation": "horizontal",
      "style": "IPY_MODEL_1e6b463e5b3d43f78eae60b821a1a53e",
      "value": 231508
     }
    },
    "0c0878a55d6c476daf75aa0f8b487557": {
     "model_module": "@jupyter-widgets/base",
     "model_name": "LayoutModel",
     "state": {
      "_model_module": "@jupyter-widgets/base",
      "_model_module_version": "1.2.0",
      "_model_name": "LayoutModel",
      "_view_count": null,
      "_view_module": "@jupyter-widgets/base",
      "_view_module_version": "1.2.0",
      "_view_name": "LayoutView",
      "align_content": null,
      "align_items": null,
      "align_self": null,
      "border": null,
      "bottom": null,
      "display": null,
      "flex": null,
      "flex_flow": null,
      "grid_area": null,
      "grid_auto_columns": null,
      "grid_auto_flow": null,
      "grid_auto_rows": null,
      "grid_column": null,
      "grid_gap": null,
      "grid_row": null,
      "grid_template_areas": null,
      "grid_template_columns": null,
      "grid_template_rows": null,
      "height": null,
      "justify_content": null,
      "justify_items": null,
      "left": null,
      "margin": null,
      "max_height": null,
      "max_width": null,
      "min_height": null,
      "min_width": null,
      "object_fit": null,
      "object_position": null,
      "order": null,
      "overflow": null,
      "overflow_x": null,
      "overflow_y": null,
      "padding": null,
      "right": null,
      "top": null,
      "visibility": null,
      "width": null
     }
    },
    "1e6b463e5b3d43f78eae60b821a1a53e": {
     "model_module": "@jupyter-widgets/controls",
     "model_name": "ProgressStyleModel",
     "state": {
      "_model_module": "@jupyter-widgets/controls",
      "_model_module_version": "1.5.0",
      "_model_name": "ProgressStyleModel",
      "_view_count": null,
      "_view_module": "@jupyter-widgets/base",
      "_view_module_version": "1.2.0",
      "_view_name": "StyleView",
      "bar_color": null,
      "description_width": "initial"
     }
    },
    "26fa9418b96746b991546e1ea831292c": {
     "model_module": "@jupyter-widgets/controls",
     "model_name": "HBoxModel",
     "state": {
      "_dom_classes": [],
      "_model_module": "@jupyter-widgets/controls",
      "_model_module_version": "1.5.0",
      "_model_name": "HBoxModel",
      "_view_count": null,
      "_view_module": "@jupyter-widgets/controls",
      "_view_module_version": "1.5.0",
      "_view_name": "HBoxView",
      "box_style": "",
      "children": [
       "IPY_MODEL_4ec599c5744242e0ac20615e30ed4ad7",
       "IPY_MODEL_db3a28c13393461f897c40be94398050"
      ],
      "layout": "IPY_MODEL_b7f647aa1cb848bdb8b0b5fb20b58588"
     }
    },
    "272980680445426a93f128e0c7b47379": {
     "model_module": "@jupyter-widgets/controls",
     "model_name": "ProgressStyleModel",
     "state": {
      "_model_module": "@jupyter-widgets/controls",
      "_model_module_version": "1.5.0",
      "_model_name": "ProgressStyleModel",
      "_view_count": null,
      "_view_module": "@jupyter-widgets/base",
      "_view_module_version": "1.2.0",
      "_view_name": "StyleView",
      "bar_color": null,
      "description_width": "initial"
     }
    },
    "30353454075b44d698b857199c1ef0fe": {
     "model_module": "@jupyter-widgets/base",
     "model_name": "LayoutModel",
     "state": {
      "_model_module": "@jupyter-widgets/base",
      "_model_module_version": "1.2.0",
      "_model_name": "LayoutModel",
      "_view_count": null,
      "_view_module": "@jupyter-widgets/base",
      "_view_module_version": "1.2.0",
      "_view_name": "LayoutView",
      "align_content": null,
      "align_items": null,
      "align_self": null,
      "border": null,
      "bottom": null,
      "display": null,
      "flex": null,
      "flex_flow": null,
      "grid_area": null,
      "grid_auto_columns": null,
      "grid_auto_flow": null,
      "grid_auto_rows": null,
      "grid_column": null,
      "grid_gap": null,
      "grid_row": null,
      "grid_template_areas": null,
      "grid_template_columns": null,
      "grid_template_rows": null,
      "height": null,
      "justify_content": null,
      "justify_items": null,
      "left": null,
      "margin": null,
      "max_height": null,
      "max_width": null,
      "min_height": null,
      "min_width": null,
      "object_fit": null,
      "object_position": null,
      "order": null,
      "overflow": null,
      "overflow_x": null,
      "overflow_y": null,
      "padding": null,
      "right": null,
      "top": null,
      "visibility": null,
      "width": null
     }
    },
    "30f4942bd7a54975bee83724559392d5": {
     "model_module": "@jupyter-widgets/base",
     "model_name": "LayoutModel",
     "state": {
      "_model_module": "@jupyter-widgets/base",
      "_model_module_version": "1.2.0",
      "_model_name": "LayoutModel",
      "_view_count": null,
      "_view_module": "@jupyter-widgets/base",
      "_view_module_version": "1.2.0",
      "_view_name": "LayoutView",
      "align_content": null,
      "align_items": null,
      "align_self": null,
      "border": null,
      "bottom": null,
      "display": null,
      "flex": null,
      "flex_flow": null,
      "grid_area": null,
      "grid_auto_columns": null,
      "grid_auto_flow": null,
      "grid_auto_rows": null,
      "grid_column": null,
      "grid_gap": null,
      "grid_row": null,
      "grid_template_areas": null,
      "grid_template_columns": null,
      "grid_template_rows": null,
      "height": null,
      "justify_content": null,
      "justify_items": null,
      "left": null,
      "margin": null,
      "max_height": null,
      "max_width": null,
      "min_height": null,
      "min_width": null,
      "object_fit": null,
      "object_position": null,
      "order": null,
      "overflow": null,
      "overflow_x": null,
      "overflow_y": null,
      "padding": null,
      "right": null,
      "top": null,
      "visibility": null,
      "width": null
     }
    },
    "32964a5e12cb4b36af02662d35ffb2d6": {
     "model_module": "@jupyter-widgets/base",
     "model_name": "LayoutModel",
     "state": {
      "_model_module": "@jupyter-widgets/base",
      "_model_module_version": "1.2.0",
      "_model_name": "LayoutModel",
      "_view_count": null,
      "_view_module": "@jupyter-widgets/base",
      "_view_module_version": "1.2.0",
      "_view_name": "LayoutView",
      "align_content": null,
      "align_items": null,
      "align_self": null,
      "border": null,
      "bottom": null,
      "display": null,
      "flex": null,
      "flex_flow": null,
      "grid_area": null,
      "grid_auto_columns": null,
      "grid_auto_flow": null,
      "grid_auto_rows": null,
      "grid_column": null,
      "grid_gap": null,
      "grid_row": null,
      "grid_template_areas": null,
      "grid_template_columns": null,
      "grid_template_rows": null,
      "height": null,
      "justify_content": null,
      "justify_items": null,
      "left": null,
      "margin": null,
      "max_height": null,
      "max_width": null,
      "min_height": null,
      "min_width": null,
      "object_fit": null,
      "object_position": null,
      "order": null,
      "overflow": null,
      "overflow_x": null,
      "overflow_y": null,
      "padding": null,
      "right": null,
      "top": null,
      "visibility": null,
      "width": null
     }
    },
    "34d4df54097d42edb8981a0f66ea90da": {
     "model_module": "@jupyter-widgets/base",
     "model_name": "LayoutModel",
     "state": {
      "_model_module": "@jupyter-widgets/base",
      "_model_module_version": "1.2.0",
      "_model_name": "LayoutModel",
      "_view_count": null,
      "_view_module": "@jupyter-widgets/base",
      "_view_module_version": "1.2.0",
      "_view_name": "LayoutView",
      "align_content": null,
      "align_items": null,
      "align_self": null,
      "border": null,
      "bottom": null,
      "display": null,
      "flex": null,
      "flex_flow": null,
      "grid_area": null,
      "grid_auto_columns": null,
      "grid_auto_flow": null,
      "grid_auto_rows": null,
      "grid_column": null,
      "grid_gap": null,
      "grid_row": null,
      "grid_template_areas": null,
      "grid_template_columns": null,
      "grid_template_rows": null,
      "height": null,
      "justify_content": null,
      "justify_items": null,
      "left": null,
      "margin": null,
      "max_height": null,
      "max_width": null,
      "min_height": null,
      "min_width": null,
      "object_fit": null,
      "object_position": null,
      "order": null,
      "overflow": null,
      "overflow_x": null,
      "overflow_y": null,
      "padding": null,
      "right": null,
      "top": null,
      "visibility": null,
      "width": null
     }
    },
    "3617c446d9904b7faf60582dfbf88835": {
     "model_module": "@jupyter-widgets/base",
     "model_name": "LayoutModel",
     "state": {
      "_model_module": "@jupyter-widgets/base",
      "_model_module_version": "1.2.0",
      "_model_name": "LayoutModel",
      "_view_count": null,
      "_view_module": "@jupyter-widgets/base",
      "_view_module_version": "1.2.0",
      "_view_name": "LayoutView",
      "align_content": null,
      "align_items": null,
      "align_self": null,
      "border": null,
      "bottom": null,
      "display": null,
      "flex": null,
      "flex_flow": null,
      "grid_area": null,
      "grid_auto_columns": null,
      "grid_auto_flow": null,
      "grid_auto_rows": null,
      "grid_column": null,
      "grid_gap": null,
      "grid_row": null,
      "grid_template_areas": null,
      "grid_template_columns": null,
      "grid_template_rows": null,
      "height": null,
      "justify_content": null,
      "justify_items": null,
      "left": null,
      "margin": null,
      "max_height": null,
      "max_width": null,
      "min_height": null,
      "min_width": null,
      "object_fit": null,
      "object_position": null,
      "order": null,
      "overflow": null,
      "overflow_x": null,
      "overflow_y": null,
      "padding": null,
      "right": null,
      "top": null,
      "visibility": null,
      "width": null
     }
    },
    "3e919347c9804da7b3ee633ce0d50495": {
     "model_module": "@jupyter-widgets/controls",
     "model_name": "HBoxModel",
     "state": {
      "_dom_classes": [],
      "_model_module": "@jupyter-widgets/controls",
      "_model_module_version": "1.5.0",
      "_model_name": "HBoxModel",
      "_view_count": null,
      "_view_module": "@jupyter-widgets/controls",
      "_view_module_version": "1.5.0",
      "_view_name": "HBoxView",
      "box_style": "",
      "children": [
       "IPY_MODEL_c501ae0e02004a2ca885b82edaf9f540",
       "IPY_MODEL_aad14afb29bc4f919ee946bce8e05016"
      ],
      "layout": "IPY_MODEL_40d4a6ac6e0644f6a712b5982d2c32b7"
     }
    },
    "40d4a6ac6e0644f6a712b5982d2c32b7": {
     "model_module": "@jupyter-widgets/base",
     "model_name": "LayoutModel",
     "state": {
      "_model_module": "@jupyter-widgets/base",
      "_model_module_version": "1.2.0",
      "_model_name": "LayoutModel",
      "_view_count": null,
      "_view_module": "@jupyter-widgets/base",
      "_view_module_version": "1.2.0",
      "_view_name": "LayoutView",
      "align_content": null,
      "align_items": null,
      "align_self": null,
      "border": null,
      "bottom": null,
      "display": null,
      "flex": null,
      "flex_flow": null,
      "grid_area": null,
      "grid_auto_columns": null,
      "grid_auto_flow": null,
      "grid_auto_rows": null,
      "grid_column": null,
      "grid_gap": null,
      "grid_row": null,
      "grid_template_areas": null,
      "grid_template_columns": null,
      "grid_template_rows": null,
      "height": null,
      "justify_content": null,
      "justify_items": null,
      "left": null,
      "margin": null,
      "max_height": null,
      "max_width": null,
      "min_height": null,
      "min_width": null,
      "object_fit": null,
      "object_position": null,
      "order": null,
      "overflow": null,
      "overflow_x": null,
      "overflow_y": null,
      "padding": null,
      "right": null,
      "top": null,
      "visibility": null,
      "width": null
     }
    },
    "41e03694a3824a7d80f1e197de1790e8": {
     "model_module": "@jupyter-widgets/base",
     "model_name": "LayoutModel",
     "state": {
      "_model_module": "@jupyter-widgets/base",
      "_model_module_version": "1.2.0",
      "_model_name": "LayoutModel",
      "_view_count": null,
      "_view_module": "@jupyter-widgets/base",
      "_view_module_version": "1.2.0",
      "_view_name": "LayoutView",
      "align_content": null,
      "align_items": null,
      "align_self": null,
      "border": null,
      "bottom": null,
      "display": null,
      "flex": null,
      "flex_flow": null,
      "grid_area": null,
      "grid_auto_columns": null,
      "grid_auto_flow": null,
      "grid_auto_rows": null,
      "grid_column": null,
      "grid_gap": null,
      "grid_row": null,
      "grid_template_areas": null,
      "grid_template_columns": null,
      "grid_template_rows": null,
      "height": null,
      "justify_content": null,
      "justify_items": null,
      "left": null,
      "margin": null,
      "max_height": null,
      "max_width": null,
      "min_height": null,
      "min_width": null,
      "object_fit": null,
      "object_position": null,
      "order": null,
      "overflow": null,
      "overflow_x": null,
      "overflow_y": null,
      "padding": null,
      "right": null,
      "top": null,
      "visibility": null,
      "width": null
     }
    },
    "4ec599c5744242e0ac20615e30ed4ad7": {
     "model_module": "@jupyter-widgets/controls",
     "model_name": "FloatProgressModel",
     "state": {
      "_dom_classes": [],
      "_model_module": "@jupyter-widgets/controls",
      "_model_module_version": "1.5.0",
      "_model_name": "FloatProgressModel",
      "_view_count": null,
      "_view_module": "@jupyter-widgets/controls",
      "_view_module_version": "1.5.0",
      "_view_name": "ProgressView",
      "bar_style": "success",
      "description": "Downloading: 100%",
      "description_tooltip": null,
      "layout": "IPY_MODEL_30353454075b44d698b857199c1ef0fe",
      "max": 433,
      "min": 0,
      "orientation": "horizontal",
      "style": "IPY_MODEL_5c51c97cb35a4213bfa2847631a98d29",
      "value": 433
     }
    },
    "53befc8fd62147d99898368ba0ed53c3": {
     "model_module": "@jupyter-widgets/controls",
     "model_name": "HTMLModel",
     "state": {
      "_dom_classes": [],
      "_model_module": "@jupyter-widgets/controls",
      "_model_module_version": "1.5.0",
      "_model_name": "HTMLModel",
      "_view_count": null,
      "_view_module": "@jupyter-widgets/controls",
      "_view_module_version": "1.5.0",
      "_view_name": "HTMLView",
      "description": "",
      "description_tooltip": null,
      "layout": "IPY_MODEL_32964a5e12cb4b36af02662d35ffb2d6",
      "placeholder": "​",
      "style": "IPY_MODEL_ecaa2ebdc79d461f811bd33cbffc47d2",
      "value": " 440M/440M [00:10&lt;00:00, 40.3MB/s]"
     }
    },
    "5c51c97cb35a4213bfa2847631a98d29": {
     "model_module": "@jupyter-widgets/controls",
     "model_name": "ProgressStyleModel",
     "state": {
      "_model_module": "@jupyter-widgets/controls",
      "_model_module_version": "1.5.0",
      "_model_name": "ProgressStyleModel",
      "_view_count": null,
      "_view_module": "@jupyter-widgets/base",
      "_view_module_version": "1.2.0",
      "_view_name": "StyleView",
      "bar_color": null,
      "description_width": "initial"
     }
    },
    "6d58f2f8a2dc4d1fb80a933e4b2c9032": {
     "model_module": "@jupyter-widgets/controls",
     "model_name": "DescriptionStyleModel",
     "state": {
      "_model_module": "@jupyter-widgets/controls",
      "_model_module_version": "1.5.0",
      "_model_name": "DescriptionStyleModel",
      "_view_count": null,
      "_view_module": "@jupyter-widgets/base",
      "_view_module_version": "1.2.0",
      "_view_name": "StyleView",
      "description_width": ""
     }
    },
    "7210e3b9a4d54af7912a7dcfbf719fc0": {
     "model_module": "@jupyter-widgets/controls",
     "model_name": "HTMLModel",
     "state": {
      "_dom_classes": [],
      "_model_module": "@jupyter-widgets/controls",
      "_model_module_version": "1.5.0",
      "_model_name": "HTMLModel",
      "_view_count": null,
      "_view_module": "@jupyter-widgets/controls",
      "_view_module_version": "1.5.0",
      "_view_name": "HTMLView",
      "description": "",
      "description_tooltip": null,
      "layout": "IPY_MODEL_3617c446d9904b7faf60582dfbf88835",
      "placeholder": "​",
      "style": "IPY_MODEL_d3cba34757594222947ea7243c0e942f",
      "value": " 232k/232k [00:00&lt;00:00, 849kB/s]"
     }
    },
    "74ff949cd07d40899e57ea3ecf33d4b0": {
     "model_module": "@jupyter-widgets/base",
     "model_name": "LayoutModel",
     "state": {
      "_model_module": "@jupyter-widgets/base",
      "_model_module_version": "1.2.0",
      "_model_name": "LayoutModel",
      "_view_count": null,
      "_view_module": "@jupyter-widgets/base",
      "_view_module_version": "1.2.0",
      "_view_name": "LayoutView",
      "align_content": null,
      "align_items": null,
      "align_self": null,
      "border": null,
      "bottom": null,
      "display": null,
      "flex": null,
      "flex_flow": null,
      "grid_area": null,
      "grid_auto_columns": null,
      "grid_auto_flow": null,
      "grid_auto_rows": null,
      "grid_column": null,
      "grid_gap": null,
      "grid_row": null,
      "grid_template_areas": null,
      "grid_template_columns": null,
      "grid_template_rows": null,
      "height": null,
      "justify_content": null,
      "justify_items": null,
      "left": null,
      "margin": null,
      "max_height": null,
      "max_width": null,
      "min_height": null,
      "min_width": null,
      "object_fit": null,
      "object_position": null,
      "order": null,
      "overflow": null,
      "overflow_x": null,
      "overflow_y": null,
      "padding": null,
      "right": null,
      "top": null,
      "visibility": null,
      "width": null
     }
    },
    "8b342ace844d44ba8e5d8f0b6f0a2ec5": {
     "model_module": "@jupyter-widgets/controls",
     "model_name": "HTMLModel",
     "state": {
      "_dom_classes": [],
      "_model_module": "@jupyter-widgets/controls",
      "_model_module_version": "1.5.0",
      "_model_name": "HTMLModel",
      "_view_count": null,
      "_view_module": "@jupyter-widgets/controls",
      "_view_module_version": "1.5.0",
      "_view_name": "HTMLView",
      "description": "",
      "description_tooltip": null,
      "layout": "IPY_MODEL_d3118e79d9d24e8683a0ce6e29b58e4b",
      "placeholder": "​",
      "style": "IPY_MODEL_6d58f2f8a2dc4d1fb80a933e4b2c9032",
      "value": " 28.0/28.0 [00:00&lt;00:00, 68.1B/s]"
     }
    },
    "975a2c756ccd443f829fc4309c368832": {
     "model_module": "@jupyter-widgets/controls",
     "model_name": "DescriptionStyleModel",
     "state": {
      "_model_module": "@jupyter-widgets/controls",
      "_model_module_version": "1.5.0",
      "_model_name": "DescriptionStyleModel",
      "_view_count": null,
      "_view_module": "@jupyter-widgets/base",
      "_view_module_version": "1.2.0",
      "_view_name": "StyleView",
      "description_width": ""
     }
    },
    "9857d6f70af4443487b2693719e71633": {
     "model_module": "@jupyter-widgets/base",
     "model_name": "LayoutModel",
     "state": {
      "_model_module": "@jupyter-widgets/base",
      "_model_module_version": "1.2.0",
      "_model_name": "LayoutModel",
      "_view_count": null,
      "_view_module": "@jupyter-widgets/base",
      "_view_module_version": "1.2.0",
      "_view_name": "LayoutView",
      "align_content": null,
      "align_items": null,
      "align_self": null,
      "border": null,
      "bottom": null,
      "display": null,
      "flex": null,
      "flex_flow": null,
      "grid_area": null,
      "grid_auto_columns": null,
      "grid_auto_flow": null,
      "grid_auto_rows": null,
      "grid_column": null,
      "grid_gap": null,
      "grid_row": null,
      "grid_template_areas": null,
      "grid_template_columns": null,
      "grid_template_rows": null,
      "height": null,
      "justify_content": null,
      "justify_items": null,
      "left": null,
      "margin": null,
      "max_height": null,
      "max_width": null,
      "min_height": null,
      "min_width": null,
      "object_fit": null,
      "object_position": null,
      "order": null,
      "overflow": null,
      "overflow_x": null,
      "overflow_y": null,
      "padding": null,
      "right": null,
      "top": null,
      "visibility": null,
      "width": null
     }
    },
    "9dbc61d50fc6427ea2287aa3045c1eb8": {
     "model_module": "@jupyter-widgets/base",
     "model_name": "LayoutModel",
     "state": {
      "_model_module": "@jupyter-widgets/base",
      "_model_module_version": "1.2.0",
      "_model_name": "LayoutModel",
      "_view_count": null,
      "_view_module": "@jupyter-widgets/base",
      "_view_module_version": "1.2.0",
      "_view_name": "LayoutView",
      "align_content": null,
      "align_items": null,
      "align_self": null,
      "border": null,
      "bottom": null,
      "display": null,
      "flex": null,
      "flex_flow": null,
      "grid_area": null,
      "grid_auto_columns": null,
      "grid_auto_flow": null,
      "grid_auto_rows": null,
      "grid_column": null,
      "grid_gap": null,
      "grid_row": null,
      "grid_template_areas": null,
      "grid_template_columns": null,
      "grid_template_rows": null,
      "height": null,
      "justify_content": null,
      "justify_items": null,
      "left": null,
      "margin": null,
      "max_height": null,
      "max_width": null,
      "min_height": null,
      "min_width": null,
      "object_fit": null,
      "object_position": null,
      "order": null,
      "overflow": null,
      "overflow_x": null,
      "overflow_y": null,
      "padding": null,
      "right": null,
      "top": null,
      "visibility": null,
      "width": null
     }
    },
    "a435c1490a364aefae0dfaf37c5cfddd": {
     "model_module": "@jupyter-widgets/base",
     "model_name": "LayoutModel",
     "state": {
      "_model_module": "@jupyter-widgets/base",
      "_model_module_version": "1.2.0",
      "_model_name": "LayoutModel",
      "_view_count": null,
      "_view_module": "@jupyter-widgets/base",
      "_view_module_version": "1.2.0",
      "_view_name": "LayoutView",
      "align_content": null,
      "align_items": null,
      "align_self": null,
      "border": null,
      "bottom": null,
      "display": null,
      "flex": null,
      "flex_flow": null,
      "grid_area": null,
      "grid_auto_columns": null,
      "grid_auto_flow": null,
      "grid_auto_rows": null,
      "grid_column": null,
      "grid_gap": null,
      "grid_row": null,
      "grid_template_areas": null,
      "grid_template_columns": null,
      "grid_template_rows": null,
      "height": null,
      "justify_content": null,
      "justify_items": null,
      "left": null,
      "margin": null,
      "max_height": null,
      "max_width": null,
      "min_height": null,
      "min_width": null,
      "object_fit": null,
      "object_position": null,
      "order": null,
      "overflow": null,
      "overflow_x": null,
      "overflow_y": null,
      "padding": null,
      "right": null,
      "top": null,
      "visibility": null,
      "width": null
     }
    },
    "aad14afb29bc4f919ee946bce8e05016": {
     "model_module": "@jupyter-widgets/controls",
     "model_name": "HTMLModel",
     "state": {
      "_dom_classes": [],
      "_model_module": "@jupyter-widgets/controls",
      "_model_module_version": "1.5.0",
      "_model_name": "HTMLModel",
      "_view_count": null,
      "_view_module": "@jupyter-widgets/controls",
      "_view_module_version": "1.5.0",
      "_view_name": "HTMLView",
      "description": "",
      "description_tooltip": null,
      "layout": "IPY_MODEL_9dbc61d50fc6427ea2287aa3045c1eb8",
      "placeholder": "​",
      "style": "IPY_MODEL_975a2c756ccd443f829fc4309c368832",
      "value": " 466k/466k [00:00&lt;00:00, 2.73MB/s]"
     }
    },
    "b58dbe5b56df43c1bd842ba20dd474ed": {
     "model_module": "@jupyter-widgets/controls",
     "model_name": "HBoxModel",
     "state": {
      "_dom_classes": [],
      "_model_module": "@jupyter-widgets/controls",
      "_model_module_version": "1.5.0",
      "_model_name": "HBoxModel",
      "_view_count": null,
      "_view_module": "@jupyter-widgets/controls",
      "_view_module_version": "1.5.0",
      "_view_name": "HBoxView",
      "box_style": "",
      "children": [
       "IPY_MODEL_bc82094848334d10908ec43e853d1673",
       "IPY_MODEL_53befc8fd62147d99898368ba0ed53c3"
      ],
      "layout": "IPY_MODEL_bc2548cb9a6b4665aae243dd4965a8e4"
     }
    },
    "b7f647aa1cb848bdb8b0b5fb20b58588": {
     "model_module": "@jupyter-widgets/base",
     "model_name": "LayoutModel",
     "state": {
      "_model_module": "@jupyter-widgets/base",
      "_model_module_version": "1.2.0",
      "_model_name": "LayoutModel",
      "_view_count": null,
      "_view_module": "@jupyter-widgets/base",
      "_view_module_version": "1.2.0",
      "_view_name": "LayoutView",
      "align_content": null,
      "align_items": null,
      "align_self": null,
      "border": null,
      "bottom": null,
      "display": null,
      "flex": null,
      "flex_flow": null,
      "grid_area": null,
      "grid_auto_columns": null,
      "grid_auto_flow": null,
      "grid_auto_rows": null,
      "grid_column": null,
      "grid_gap": null,
      "grid_row": null,
      "grid_template_areas": null,
      "grid_template_columns": null,
      "grid_template_rows": null,
      "height": null,
      "justify_content": null,
      "justify_items": null,
      "left": null,
      "margin": null,
      "max_height": null,
      "max_width": null,
      "min_height": null,
      "min_width": null,
      "object_fit": null,
      "object_position": null,
      "order": null,
      "overflow": null,
      "overflow_x": null,
      "overflow_y": null,
      "padding": null,
      "right": null,
      "top": null,
      "visibility": null,
      "width": null
     }
    },
    "bbc752159bb54b869a8a82e2c7afbecb": {
     "model_module": "@jupyter-widgets/controls",
     "model_name": "FloatProgressModel",
     "state": {
      "_dom_classes": [],
      "_model_module": "@jupyter-widgets/controls",
      "_model_module_version": "1.5.0",
      "_model_name": "FloatProgressModel",
      "_view_count": null,
      "_view_module": "@jupyter-widgets/controls",
      "_view_module_version": "1.5.0",
      "_view_name": "ProgressView",
      "bar_style": "success",
      "description": "Downloading: 100%",
      "description_tooltip": null,
      "layout": "IPY_MODEL_9857d6f70af4443487b2693719e71633",
      "max": 28,
      "min": 0,
      "orientation": "horizontal",
      "style": "IPY_MODEL_ccb2d5216a8d4032af3ce054cafdf2eb",
      "value": 28
     }
    },
    "bc2548cb9a6b4665aae243dd4965a8e4": {
     "model_module": "@jupyter-widgets/base",
     "model_name": "LayoutModel",
     "state": {
      "_model_module": "@jupyter-widgets/base",
      "_model_module_version": "1.2.0",
      "_model_name": "LayoutModel",
      "_view_count": null,
      "_view_module": "@jupyter-widgets/base",
      "_view_module_version": "1.2.0",
      "_view_name": "LayoutView",
      "align_content": null,
      "align_items": null,
      "align_self": null,
      "border": null,
      "bottom": null,
      "display": null,
      "flex": null,
      "flex_flow": null,
      "grid_area": null,
      "grid_auto_columns": null,
      "grid_auto_flow": null,
      "grid_auto_rows": null,
      "grid_column": null,
      "grid_gap": null,
      "grid_row": null,
      "grid_template_areas": null,
      "grid_template_columns": null,
      "grid_template_rows": null,
      "height": null,
      "justify_content": null,
      "justify_items": null,
      "left": null,
      "margin": null,
      "max_height": null,
      "max_width": null,
      "min_height": null,
      "min_width": null,
      "object_fit": null,
      "object_position": null,
      "order": null,
      "overflow": null,
      "overflow_x": null,
      "overflow_y": null,
      "padding": null,
      "right": null,
      "top": null,
      "visibility": null,
      "width": null
     }
    },
    "bc82094848334d10908ec43e853d1673": {
     "model_module": "@jupyter-widgets/controls",
     "model_name": "FloatProgressModel",
     "state": {
      "_dom_classes": [],
      "_model_module": "@jupyter-widgets/controls",
      "_model_module_version": "1.5.0",
      "_model_name": "FloatProgressModel",
      "_view_count": null,
      "_view_module": "@jupyter-widgets/controls",
      "_view_module_version": "1.5.0",
      "_view_name": "ProgressView",
      "bar_style": "success",
      "description": "Downloading: 100%",
      "description_tooltip": null,
      "layout": "IPY_MODEL_34d4df54097d42edb8981a0f66ea90da",
      "max": 440473133,
      "min": 0,
      "orientation": "horizontal",
      "style": "IPY_MODEL_272980680445426a93f128e0c7b47379",
      "value": 440473133
     }
    },
    "bd4107e71d684bd29505348a58ead1c2": {
     "model_module": "@jupyter-widgets/controls",
     "model_name": "DescriptionStyleModel",
     "state": {
      "_model_module": "@jupyter-widgets/controls",
      "_model_module_version": "1.5.0",
      "_model_name": "DescriptionStyleModel",
      "_view_count": null,
      "_view_module": "@jupyter-widgets/base",
      "_view_module_version": "1.2.0",
      "_view_name": "StyleView",
      "description_width": ""
     }
    },
    "c501ae0e02004a2ca885b82edaf9f540": {
     "model_module": "@jupyter-widgets/controls",
     "model_name": "FloatProgressModel",
     "state": {
      "_dom_classes": [],
      "_model_module": "@jupyter-widgets/controls",
      "_model_module_version": "1.5.0",
      "_model_name": "FloatProgressModel",
      "_view_count": null,
      "_view_module": "@jupyter-widgets/controls",
      "_view_module_version": "1.5.0",
      "_view_name": "ProgressView",
      "bar_style": "success",
      "description": "Downloading: 100%",
      "description_tooltip": null,
      "layout": "IPY_MODEL_30f4942bd7a54975bee83724559392d5",
      "max": 466062,
      "min": 0,
      "orientation": "horizontal",
      "style": "IPY_MODEL_fdbafc176ccc421db1750a515b3c5292",
      "value": 466062
     }
    },
    "c5590214530d413f840b2c490b4eb08e": {
     "model_module": "@jupyter-widgets/controls",
     "model_name": "HBoxModel",
     "state": {
      "_dom_classes": [],
      "_model_module": "@jupyter-widgets/controls",
      "_model_module_version": "1.5.0",
      "_model_name": "HBoxModel",
      "_view_count": null,
      "_view_module": "@jupyter-widgets/controls",
      "_view_module_version": "1.5.0",
      "_view_name": "HBoxView",
      "box_style": "",
      "children": [
       "IPY_MODEL_bbc752159bb54b869a8a82e2c7afbecb",
       "IPY_MODEL_8b342ace844d44ba8e5d8f0b6f0a2ec5"
      ],
      "layout": "IPY_MODEL_0c0878a55d6c476daf75aa0f8b487557"
     }
    },
    "ccb2d5216a8d4032af3ce054cafdf2eb": {
     "model_module": "@jupyter-widgets/controls",
     "model_name": "ProgressStyleModel",
     "state": {
      "_model_module": "@jupyter-widgets/controls",
      "_model_module_version": "1.5.0",
      "_model_name": "ProgressStyleModel",
      "_view_count": null,
      "_view_module": "@jupyter-widgets/base",
      "_view_module_version": "1.2.0",
      "_view_name": "StyleView",
      "bar_color": null,
      "description_width": "initial"
     }
    },
    "cf99a59d7f9946a38542c8ce91c4bdb6": {
     "model_module": "@jupyter-widgets/controls",
     "model_name": "HBoxModel",
     "state": {
      "_dom_classes": [],
      "_model_module": "@jupyter-widgets/controls",
      "_model_module_version": "1.5.0",
      "_model_name": "HBoxModel",
      "_view_count": null,
      "_view_module": "@jupyter-widgets/controls",
      "_view_module_version": "1.5.0",
      "_view_name": "HBoxView",
      "box_style": "",
      "children": [
       "IPY_MODEL_05dff7b1355a4ffb903aaa3ca6f2cee7",
       "IPY_MODEL_7210e3b9a4d54af7912a7dcfbf719fc0"
      ],
      "layout": "IPY_MODEL_41e03694a3824a7d80f1e197de1790e8"
     }
    },
    "d3118e79d9d24e8683a0ce6e29b58e4b": {
     "model_module": "@jupyter-widgets/base",
     "model_name": "LayoutModel",
     "state": {
      "_model_module": "@jupyter-widgets/base",
      "_model_module_version": "1.2.0",
      "_model_name": "LayoutModel",
      "_view_count": null,
      "_view_module": "@jupyter-widgets/base",
      "_view_module_version": "1.2.0",
      "_view_name": "LayoutView",
      "align_content": null,
      "align_items": null,
      "align_self": null,
      "border": null,
      "bottom": null,
      "display": null,
      "flex": null,
      "flex_flow": null,
      "grid_area": null,
      "grid_auto_columns": null,
      "grid_auto_flow": null,
      "grid_auto_rows": null,
      "grid_column": null,
      "grid_gap": null,
      "grid_row": null,
      "grid_template_areas": null,
      "grid_template_columns": null,
      "grid_template_rows": null,
      "height": null,
      "justify_content": null,
      "justify_items": null,
      "left": null,
      "margin": null,
      "max_height": null,
      "max_width": null,
      "min_height": null,
      "min_width": null,
      "object_fit": null,
      "object_position": null,
      "order": null,
      "overflow": null,
      "overflow_x": null,
      "overflow_y": null,
      "padding": null,
      "right": null,
      "top": null,
      "visibility": null,
      "width": null
     }
    },
    "d3cba34757594222947ea7243c0e942f": {
     "model_module": "@jupyter-widgets/controls",
     "model_name": "DescriptionStyleModel",
     "state": {
      "_model_module": "@jupyter-widgets/controls",
      "_model_module_version": "1.5.0",
      "_model_name": "DescriptionStyleModel",
      "_view_count": null,
      "_view_module": "@jupyter-widgets/base",
      "_view_module_version": "1.2.0",
      "_view_name": "StyleView",
      "description_width": ""
     }
    },
    "db3a28c13393461f897c40be94398050": {
     "model_module": "@jupyter-widgets/controls",
     "model_name": "HTMLModel",
     "state": {
      "_dom_classes": [],
      "_model_module": "@jupyter-widgets/controls",
      "_model_module_version": "1.5.0",
      "_model_name": "HTMLModel",
      "_view_count": null,
      "_view_module": "@jupyter-widgets/controls",
      "_view_module_version": "1.5.0",
      "_view_name": "HTMLView",
      "description": "",
      "description_tooltip": null,
      "layout": "IPY_MODEL_74ff949cd07d40899e57ea3ecf33d4b0",
      "placeholder": "​",
      "style": "IPY_MODEL_bd4107e71d684bd29505348a58ead1c2",
      "value": " 433/433 [00:00&lt;00:00, 3.20kB/s]"
     }
    },
    "ecaa2ebdc79d461f811bd33cbffc47d2": {
     "model_module": "@jupyter-widgets/controls",
     "model_name": "DescriptionStyleModel",
     "state": {
      "_model_module": "@jupyter-widgets/controls",
      "_model_module_version": "1.5.0",
      "_model_name": "DescriptionStyleModel",
      "_view_count": null,
      "_view_module": "@jupyter-widgets/base",
      "_view_module_version": "1.2.0",
      "_view_name": "StyleView",
      "description_width": ""
     }
    },
    "fdbafc176ccc421db1750a515b3c5292": {
     "model_module": "@jupyter-widgets/controls",
     "model_name": "ProgressStyleModel",
     "state": {
      "_model_module": "@jupyter-widgets/controls",
      "_model_module_version": "1.5.0",
      "_model_name": "ProgressStyleModel",
      "_view_count": null,
      "_view_module": "@jupyter-widgets/base",
      "_view_module_version": "1.2.0",
      "_view_name": "StyleView",
      "bar_color": null,
      "description_width": "initial"
     }
    }
   }
  }
 },
 "nbformat": 4,
 "nbformat_minor": 1
}
