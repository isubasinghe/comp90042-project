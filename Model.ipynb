{
 "cells": [
  {
   "cell_type": "code",
   "execution_count": 1,
   "metadata": {},
   "outputs": [],
   "source": [
    "import json\n",
    "import matplotlib as mpl\n",
    "import matplotlib.pyplot as plt\n",
    "import pandas as pd \n",
    "import numpy as np\n",
    "import tensorflow as tf\n",
    "import tensorflow.keras as keras\n",
    "from collections import defaultdict\n",
    "from tqdm import tqdm\n",
    "\n",
    "%matplotlib inline"
   ]
  },
  {
   "cell_type": "code",
   "execution_count": 34,
   "metadata": {},
   "outputs": [],
   "source": [
    "tf.config.set_visible_devices([], 'GPU')"
   ]
  },
  {
   "cell_type": "code",
   "execution_count": 3,
   "metadata": {},
   "outputs": [],
   "source": [
    "with open(\"./train.data.jsonl\", \"r\") as f:\n",
    "    raw_lines_train = f.readlines()\n",
    "with open(\"./train.label.json\", \"r\") as f:\n",
    "    raw_labels_train = f.readlines()\n",
    "\n",
    "with open(\"./dev.data.jsonl\", \"r\") as f:\n",
    "    raw_lines_dev = f.readlines()\n",
    "\n",
    "with open(\"./dev.label.json\", \"r\") as f:\n",
    "    raw_labels_dev = f.readlines()"
   ]
  },
  {
   "cell_type": "code",
   "execution_count": 4,
   "metadata": {},
   "outputs": [],
   "source": [
    "json_lines_train = [json.loads(line) for line in raw_lines_train]\n",
    "json_labels_train = [json.loads(line) for line in raw_labels_train][0]\n",
    "\n",
    "json_lines_dev = [json.loads(line) for line in raw_lines_dev]\n",
    "json_labels_dev = [json.loads(line) for line in raw_labels_dev][0]"
   ]
  },
  {
   "cell_type": "code",
   "execution_count": 5,
   "metadata": {},
   "outputs": [
    {
     "name": "stdout",
     "output_type": "stream",
     "text": [
      "CLEAR ME\n"
     ]
    }
   ],
   "source": [
    "print(\"CLEAR ME\")"
   ]
  },
  {
   "cell_type": "code",
   "execution_count": 6,
   "metadata": {},
   "outputs": [
    {
     "name": "stdout",
     "output_type": "stream",
     "text": [
      "4641\n",
      "580\n"
     ]
    }
   ],
   "source": [
    "print(len(raw_lines_train))\n",
    "print(len(raw_lines_dev))"
   ]
  },
  {
   "cell_type": "code",
   "execution_count": 7,
   "metadata": {},
   "outputs": [
    {
     "name": "stdout",
     "output_type": "stream",
     "text": [
      "29 38\n",
      "30 36\n",
      "16 124\n",
      "14 103\n",
      "13 129\n",
      "21 151\n",
      "5 179\n",
      "12 136\n",
      "9 169\n",
      "10 171\n",
      "19 233\n",
      "23 102\n",
      "26 45\n",
      "20 273\n",
      "18 155\n",
      "15 114\n",
      "28 36\n",
      "34 30\n",
      "11 149\n",
      "8 186\n",
      "32 30\n",
      "25 75\n",
      "4 194\n",
      "3 171\n",
      "1 276\n",
      "2 148\n",
      "36 23\n",
      "44 11\n",
      "6 181\n",
      "22 122\n",
      "50 9\n",
      "42 13\n",
      "46 11\n",
      "54 7\n",
      "17 124\n",
      "7 180\n",
      "24 79\n",
      "35 23\n",
      "43 9\n",
      "37 24\n",
      "48 9\n",
      "45 10\n",
      "59 4\n",
      "40 9\n",
      "56 5\n",
      "39 28\n",
      "27 47\n",
      "31 22\n",
      "33 22\n",
      "47 16\n",
      "53 10\n",
      "41 6\n",
      "38 17\n",
      "51 7\n",
      "55 7\n",
      "60 5\n",
      "52 8\n",
      "57 9\n",
      "58 4\n",
      "49 11\n",
      "9\n"
     ]
    },
    {
     "data": {
      "image/png": "[encoded data removed]",
      "text/plain": [
       "<Figure size 432x288 with 1 Axes>"
      ]
     },
     "metadata": {
      "needs_background": "light"
     },
     "output_type": "display_data"
    }
   ],
   "source": [
    "length_counts = defaultdict(int)\n",
    "\n",
    "for json_line in json_lines_train:\n",
    "    length_counts[len(json_line)] += 1\n",
    "\n",
    "(lx, ly) = ([], [])\n",
    "\n",
    "max_size = 0\n",
    "\n",
    "for (replies, num_replies) in length_counts.items():\n",
    "    max_size = max(max_size, replies)\n",
    "    if replies > 60:\n",
    "        continue\n",
    "    lx.append(replies)\n",
    "    ly.append(num_replies)\n",
    "    print(replies, num_replies)\n",
    "    \n",
    "plt.bar(lx, ly)\n",
    "print(length_counts[50])"
   ]
  },
  {
   "cell_type": "code",
   "execution_count": 8,
   "metadata": {},
   "outputs": [
    {
     "data": {
      "text/plain": [
       "346"
      ]
     },
     "execution_count": 8,
     "metadata": {},
     "output_type": "execute_result"
    }
   ],
   "source": [
    "max_size"
   ]
  },
  {
   "cell_type": "code",
   "execution_count": 9,
   "metadata": {},
   "outputs": [
    {
     "name": "stderr",
     "output_type": "stream",
     "text": [
      "C:\\ProgramData\\Anaconda3\\lib\\site-packages\\cupy\\_environment.py:210: UserWarning: CUDA path could not be detected. Set CUDA_PATH environment variable if CuPy fails to load.\n",
      "  warnings.warn(\n"
     ]
    }
   ],
   "source": [
    "import spacy\n",
    "\n",
    "nlp = spacy.load(\"en_core_web_trf\")"
   ]
  },
  {
   "cell_type": "code",
   "execution_count": 10,
   "metadata": {
    "tags": []
   },
   "outputs": [],
   "source": [
    "files_present = True"
   ]
  },
  {
   "cell_type": "code",
   "execution_count": 11,
   "metadata": {},
   "outputs": [],
   "source": [
    "from tqdm import tqdm\n",
    "\n",
    "MAX_FEATURES = 40\n",
    "\n",
    "def process_lines(lines):\n",
    "    myX = []\n",
    "    i = 0\n",
    "    shape = None\n",
    "\n",
    "    for doc in nlp.pipe(map(lambda x: x['text'], lines[:MAX_FEATURES])):\n",
    "        shape = doc._.trf_data.tensors[-1].shape[1]\n",
    "        myX.append(doc._.trf_data.tensors[-1].reshape(shape))\n",
    "        i += 1\n",
    "\n",
    "        # Add zero matrices to the remaining\n",
    "    for _ in range(i, MAX_FEATURES):\n",
    "        myX.append(np.zeros(shape))\n",
    "    \n",
    "    return myX\n",
    "\n",
    "def getXY():\n",
    "    X = []\n",
    "    Y = []\n",
    "    MAX_FEATURES = 40\n",
    "    for lines in tqdm(json_lines_train):\n",
    "        Y.append(0 if json_labels_train[lines[0]['id_str']] == 'non-rumour' else 1) \n",
    "        X.append(process_lines(lines))\n",
    "    return X, Y\n",
    "\n",
    "if files_present:\n",
    "    X = np.load(\"./train_matrix.npy\")\n",
    "    Y = np.load(\"./train_labels.npy\")\n",
    "else:\n",
    "    X, Y = getXY()\n"
   ]
  },
  {
   "cell_type": "code",
   "execution_count": 13,
   "metadata": {},
   "outputs": [],
   "source": [
    "myX = np.expand_dims(X, axis=3)"
   ]
  },
  {
   "cell_type": "code",
   "execution_count": 14,
   "metadata": {},
   "outputs": [
    {
     "data": {
      "text/plain": [
       "(4641, 40, 768, 1)"
      ]
     },
     "execution_count": 14,
     "metadata": {},
     "output_type": "execute_result"
    }
   ],
   "source": [
    "myX.shape"
   ]
  },
  {
   "cell_type": "code",
   "execution_count": 11,
   "metadata": {},
   "outputs": [],
   "source": []
  },
  {
   "cell_type": "code",
   "execution_count": 12,
   "metadata": {},
   "outputs": [],
   "source": []
  },
  {
   "cell_type": "code",
   "execution_count": 18,
   "metadata": {},
   "outputs": [
    {
     "data": {
      "text/plain": [
       "['hello', '!', 'world', '<', '3', 'i', \"'\", 'm', 'kinda', 'keen']"
      ]
     },
     "execution_count": 18,
     "metadata": {},
     "output_type": "execute_result"
    }
   ],
   "source": []
  },
  {
   "cell_type": "code",
   "execution_count": 11,
   "metadata": {},
   "outputs": [],
   "source": [
    "def getText(json_lines, json_labels):\n",
    "    X = []\n",
    "    Y = []\n",
    "    \n",
    "    for lines in json_lines:\n",
    "        X.append(list(map(lambda x: x['text'], lines)))\n",
    "        Y.append(0 if json_labels[lines[0]['id_str']] == 'non-rumour' else 1)\n",
    "    return X, Y\n",
    "    "
   ]
  },
  {
   "cell_type": "code",
   "execution_count": 12,
   "metadata": {},
   "outputs": [],
   "source": [
    "X, Y = getText(json_lines_train, json_labels_train)"
   ]
  },
  {
   "cell_type": "code",
   "execution_count": 13,
   "metadata": {},
   "outputs": [
    {
     "data": {
      "text/plain": [
       "['Hostage taker in Sydney cafe demands ISIS flag and call with Australian PM, Sky News reports. http://t.co/a2vgrn30Xh #sydneysiege',\n",
       " \"@cnni So they noticed they had the wrong flag and decided to ask for the right one... Wow, these 'terrorists' sound supremely incompetent.\",\n",
       " '@harryjohal1982 @cnni bouyt time u didd',\n",
       " 'MT “@cnni: Hostage taker in Sydney cafe demands ISIS flag and call with Australian PM, Sky News reports. #sydneysiege”',\n",
       " '@rupayanb @SohamDeGuevara @cnni How to Create an \"Islamic Enemy\" - http://t.co/mzxzVWDkH1',\n",
       " '@cnni avnt they shot him yet',\n",
       " '@cnni just send em a Bart Simson flag w/the👉middle finger and a bullet',\n",
       " \"@NickWaite7 @cnni we don't shoot in Australia\",\n",
       " '@cnni Shoot him',\n",
       " '@harryjohal1982 Yes, and it would seem the terrorists are positively counting on that.   @NickWaite7 @cnni',\n",
       " '@cnni must be shot in head through snipers.',\n",
       " '@cnni Yes, surely the Australian government has ISIS flags ready to give just for this moment.',\n",
       " \"@NickWaite7 @cnni it's crazy huh, they want to have a peaceful resolution then give him all the entitlements to make his life better 😜\",\n",
       " '“@cnni: Hostage taker in Sydney cafe demands ISIS flag and call with Australian PM, Sky News reports. http://t.co/mRghqDBf50 #sydneysiege”',\n",
       " \"@cnni he couldn't make his own eh? he needs some diapers and wet napkins as well I'd say.\",\n",
       " '@cnni 🍵☕coffee anyone??',\n",
       " '@cnni The free world burns as @BarackObama plays the flute.\\nThe weakest US Prez ever.',\n",
       " '@cnni I thought police asked media not to report demands. Why you giving these terrorists a voice?',\n",
       " '@heidicantwait @cnni @harryjohal1982 wats for breakfast in Sydney today',\n",
       " '@Pugnate @cnni One day black flag will fly on the UN Hq too.\\n@BarackObama playing the flute as world burns.',\n",
       " '@cnni Raytheon has made various #RF #weapons for decades: https://t.co/dlLu4QKngg … Similar to those used on #TargetedIndividuals',\n",
       " '@cnni Stick that ISIS flag up his ass.',\n",
       " '@cnni Strange times']"
      ]
     },
     "execution_count": 13,
     "metadata": {},
     "output_type": "execute_result"
    }
   ],
   "source": [
    "X[12]"
   ]
  },
  {
   "cell_type": "code",
   "execution_count": 14,
   "metadata": {},
   "outputs": [
    {
     "data": {
      "text/plain": [
       "'abc [ENDSENT] def'"
      ]
     },
     "execution_count": 14,
     "metadata": {},
     "output_type": "execute_result"
    }
   ],
   "source": [
    "' [ENDSENT] '.join([\"abc\", \"def\"])"
   ]
  },
  {
   "cell_type": "code",
   "execution_count": 15,
   "metadata": {},
   "outputs": [
    {
     "data": {
      "text/plain": [
       "1"
      ]
     },
     "execution_count": 15,
     "metadata": {},
     "output_type": "execute_result"
    }
   ],
   "source": [
    "Y[12]"
   ]
  },
  {
   "cell_type": "code",
   "execution_count": 16,
   "metadata": {},
   "outputs": [
    {
     "name": "stdout",
     "output_type": "stream",
     "text": [
      "rumour\n",
      "{\n",
      "  \"contributors\": null,\n",
      "  \"truncated\": false,\n",
      "  \"text\": \"BREAKING: Hostages taken in central #Sydney caf\\u00e9, jihadist flag held against window http://t.co/7hJUmKz1eY http://t.co/TeK7ZjFHm6\",\n",
      "  \"in_reply_to_status_id\": null,\n",
      "  \"id\": 544285296565948416,\n",
      "  \"favorite_count\": 123,\n",
      "  \"source\": \"<a href=\\\"https://about.twitter.com/products/tweetdeck\\\" rel=\\\"nofollow\\\">TweetDeck</a>\",\n",
      "  \"retweeted\": false,\n",
      "  \"coordinates\": null,\n",
      "  \"entities\": {\n",
      "    \"symbols\": [],\n",
      "    \"media\": [\n",
      "      {\n",
      "        \"expanded_url\": \"http://twitter.com/RT_com/status/544285296565948416/photo/1\",\n",
      "        \"display_url\": \"pic.twitter.com/TeK7ZjFHm6\",\n",
      "        \"url\": \"http://t.co/TeK7ZjFHm6\",\n",
      "        \"media_url_https\": \"https://pbs.twimg.com/media/B42uliVCIAEC_uo.jpg\",\n",
      "        \"id_str\": \"544283089875116033\",\n",
      "        \"sizes\": {\n",
      "          \"large\": {\n",
      "            \"h\": 337,\n",
      "            \"resize\": \"fit\",\n",
      "            \"w\": 600\n",
      "          },\n",
      "          \"small\": {\n",
      "            \"h\": 190,\n",
      "            \"resize\": \"fit\",\n",
      "            \"w\": 340\n",
      "          },\n",
      "          \"medium\": {\n",
      "            \"h\": 337,\n",
      "            \"resize\": \"fit\",\n",
      "            \"w\": 600\n",
      "          },\n",
      "          \"thumb\": {\n",
      "            \"h\": 150,\n",
      "            \"resize\": \"crop\",\n",
      "            \"w\": 150\n",
      "          }\n",
      "        },\n",
      "        \"indices\": [\n",
      "          107,\n",
      "          129\n",
      "        ],\n",
      "        \"type\": \"photo\",\n",
      "        \"id\": 544283089875116033,\n",
      "        \"media_url\": \"http://pbs.twimg.com/media/B42uliVCIAEC_uo.jpg\"\n",
      "      }\n",
      "    ],\n",
      "    \"hashtags\": [\n",
      "      {\n",
      "        \"indices\": [\n",
      "          36,\n",
      "          43\n",
      "        ],\n",
      "        \"text\": \"Sydney\"\n",
      "      }\n",
      "    ],\n",
      "    \"user_mentions\": [],\n",
      "    \"trends\": [],\n",
      "    \"urls\": [\n",
      "      {\n",
      "        \"url\": \"http://t.co/7hJUmKz1eY\",\n",
      "        \"indices\": [\n",
      "          84,\n",
      "          106\n",
      "        ],\n",
      "        \"expanded_url\": \"http://RT.COM\",\n",
      "        \"display_url\": \"RT.COM\"\n",
      "      }\n",
      "    ]\n",
      "  },\n",
      "  \"in_reply_to_screen_name\": null,\n",
      "  \"id_str\": \"544285296565948416\",\n",
      "  \"retweet_count\": 814,\n",
      "  \"in_reply_to_user_id\": null,\n",
      "  \"favorited\": false,\n",
      "  \"user\": {\n",
      "    \"follow_request_sent\": null,\n",
      "    \"profile_use_background_image\": true,\n",
      "    \"default_profile_image\": false,\n",
      "    \"id\": 64643056,\n",
      "    \"verified\": true,\n",
      "    \"profile_image_url_https\": \"https://pbs.twimg.com/profile_images/423103093069205504/eTXULFRS_normal.png\",\n",
      "    \"profile_sidebar_fill_color\": \"EBEBEB\",\n",
      "    \"profile_text_color\": \"000000\",\n",
      "    \"followers_count\": 824420,\n",
      "    \"profile_sidebar_border_color\": \"FFFFFF\",\n",
      "    \"id_str\": \"64643056\",\n",
      "    \"profile_background_color\": \"1D1D1D\",\n",
      "    \"listed_count\": 13368,\n",
      "    \"profile_background_image_url_https\": \"https://pbs.twimg.com/profile_background_images/448107225769193472/16jIvlg2.jpeg\",\n",
      "    \"utc_offset\": 14400,\n",
      "    \"statuses_count\": 102584,\n",
      "    \"description\": \"RT, the global news network, broadcasts from Moscow, London and Washington studios to over 100 countries.\",\n",
      "    \"friends_count\": 460,\n",
      "    \"location\": \"\",\n",
      "    \"profile_link_color\": \"3D990F\",\n",
      "    \"profile_image_url\": \"http://pbs.twimg.com/profile_images/423103093069205504/eTXULFRS_normal.png\",\n",
      "    \"following\": null,\n",
      "    \"geo_enabled\": false,\n",
      "    \"profile_banner_url\": \"https://pbs.twimg.com/profile_banners/64643056/1409741388\",\n",
      "    \"profile_background_image_url\": \"http://pbs.twimg.com/profile_background_images/448107225769193472/16jIvlg2.jpeg\",\n",
      "    \"name\": \"RT\",\n",
      "    \"lang\": \"en\",\n",
      "    \"profile_background_tile\": false,\n",
      "    \"favourites_count\": 23,\n",
      "    \"screen_name\": \"RT_com\",\n",
      "    \"notifications\": null,\n",
      "    \"url\": \"http://RT.com\",\n",
      "    \"created_at\": \"Tue Aug 11 06:12:45 +0000 2009\",\n",
      "    \"contributors_enabled\": false,\n",
      "    \"time_zone\": \"Moscow\",\n",
      "    \"protected\": false,\n",
      "    \"default_profile\": false,\n",
      "    \"is_translator\": false\n",
      "  },\n",
      "  \"geo\": null,\n",
      "  \"in_reply_to_user_id_str\": null,\n",
      "  \"possibly_sensitive\": false,\n",
      "  \"lang\": \"en\",\n",
      "  \"created_at\": \"Mon Dec 15 00:18:21 +0000 2014\",\n",
      "  \"filter_level\": \"low\",\n",
      "  \"in_reply_to_status_id_str\": null,\n",
      "  \"place\": null,\n",
      "  \"extended_entities\": {\n",
      "    \"media\": [\n",
      "      {\n",
      "        \"expanded_url\": \"http://twitter.com/RT_com/status/544285296565948416/photo/1\",\n",
      "        \"display_url\": \"pic.twitter.com/TeK7ZjFHm6\",\n",
      "        \"url\": \"http://t.co/TeK7ZjFHm6\",\n",
      "        \"media_url_https\": \"https://pbs.twimg.com/media/B42uliVCIAEC_uo.jpg\",\n",
      "        \"id_str\": \"544283089875116033\",\n",
      "        \"sizes\": {\n",
      "          \"large\": {\n",
      "            \"h\": 337,\n",
      "            \"resize\": \"fit\",\n",
      "            \"w\": 600\n",
      "          },\n",
      "          \"small\": {\n",
      "            \"h\": 190,\n",
      "            \"resize\": \"fit\",\n",
      "            \"w\": 340\n",
      "          },\n",
      "          \"medium\": {\n",
      "            \"h\": 337,\n",
      "            \"resize\": \"fit\",\n",
      "            \"w\": 600\n",
      "          },\n",
      "          \"thumb\": {\n",
      "            \"h\": 150,\n",
      "            \"resize\": \"crop\",\n",
      "            \"w\": 150\n",
      "          }\n",
      "        },\n",
      "        \"indices\": [\n",
      "          107,\n",
      "          129\n",
      "        ],\n",
      "        \"type\": \"photo\",\n",
      "        \"id\": 544283089875116033,\n",
      "        \"media_url\": \"http://pbs.twimg.com/media/B42uliVCIAEC_uo.jpg\"\n",
      "      }\n",
      "    ]\n",
      "  }\n",
      "}\n"
     ]
    }
   ],
   "source": [
    "index = 26\n",
    "\n",
    "print(json_labels_train[json_lines_train[index][0]['id_str']])\n",
    "print(json.dumps(json_lines_train[index][0], indent=2))\n",
    "\n"
   ]
  },
  {
   "cell_type": "code",
   "execution_count": 17,
   "metadata": {},
   "outputs": [
    {
     "data": {
      "text/plain": [
       "'non-rumour'"
      ]
     },
     "execution_count": 17,
     "metadata": {},
     "output_type": "execute_result"
    }
   ],
   "source": [
    "json_labels_train['525003253185277952']"
   ]
  },
  {
   "cell_type": "markdown",
   "metadata": {},
   "source": [
    "## Important factors\n",
    "* Information Density\n",
    "* Follower count\n",
    "* Verified or not - We are fully confident that this is not an artifical actor, this likely is a good spam filtering feature. \n",
    "* Is news channel or not\n",
    "* feelings or factual ? Does it make a statement or is it vague ? This is vaguely correlated with sentiment analysis. Scores on the extreme ends of sentiment analysis tend to be feeling heavy while vague statements tend to be statement heavy. We can detect users that try to assert facts through this.\n",
    "* Profanity, users that are spreading \"truths\" can be detected by the lack of profanity and spelling mistakes."
   ]
  },
  {
   "cell_type": "code",
   "execution_count": 18,
   "metadata": {},
   "outputs": [],
   "source": [
    "import seaborn as sns"
   ]
  },
  {
   "cell_type": "code",
   "execution_count": 19,
   "metadata": {},
   "outputs": [],
   "source": [
    "sentlen = list(map(lambda x: len(x), X))"
   ]
  },
  {
   "cell_type": "code",
   "execution_count": 20,
   "metadata": {},
   "outputs": [
    {
     "data": {
      "text/plain": [
       "<seaborn.axisgrid.FacetGrid at 0x22297fb9dc0>"
      ]
     },
     "execution_count": 20,
     "metadata": {},
     "output_type": "execute_result"
    },
    {
     "data": {
      "text/plain": [
       "<Figure size 1152x720 with 0 Axes>"
      ]
     },
     "metadata": {},
     "output_type": "display_data"
    },
    {
     "data": {
      "image/png": "[encoded data removed]",
      "text/plain": [
       "<Figure size 360x360 with 1 Axes>"
      ]
     },
     "metadata": {},
     "output_type": "display_data"
    }
   ],
   "source": [
    "sns.set_style('darkgrid')\n",
    "plt.figure(figsize=(16, 10))\n",
    "sns.displot(sentlen)"
   ]
  },
  {
   "cell_type": "code",
   "execution_count": 21,
   "metadata": {},
   "outputs": [],
   "source": [
    "seqlen = sum(list(map(lambda x: list(map(lambda y: len(y), x)), X)), [])"
   ]
  },
  {
   "cell_type": "code",
   "execution_count": 22,
   "metadata": {},
   "outputs": [
    {
     "data": {
      "text/plain": [
       "<seaborn.axisgrid.FacetGrid at 0x22300b7ee80>"
      ]
     },
     "execution_count": 22,
     "metadata": {},
     "output_type": "execute_result"
    },
    {
     "data": {
      "image/png": "[encoded data removed]",
      "text/plain": [
       "<Figure size 360x360 with 1 Axes>"
      ]
     },
     "metadata": {},
     "output_type": "display_data"
    }
   ],
   "source": [
    "sns.displot(seqlen)"
   ]
  },
  {
   "cell_type": "code",
   "execution_count": 35,
   "metadata": {},
   "outputs": [
    {
     "name": "stderr",
     "output_type": "stream",
     "text": [
      "Some layers from the model checkpoint at bert-base-uncased were not used when initializing TFBertModel: ['mlm___cls', 'nsp___cls']\n",
      "- This IS expected if you are initializing TFBertModel from the checkpoint of a model trained on another task or with another architecture (e.g. initializing a BertForSequenceClassification model from a BertForPreTraining model).\n",
      "- This IS NOT expected if you are initializing TFBertModel from the checkpoint of a model that you expect to be exactly identical (initializing a BertForSequenceClassification model from a BertForSequenceClassification model).\n",
      "All the layers of TFBertModel were initialized from the model checkpoint at bert-base-uncased.\n",
      "If your task is similar to the task the model of the checkpoint was trained on, you can already use TFBertModel for predictions without further training.\n"
     ]
    }
   ],
   "source": [
    "from transformers import AutoTokenizer, TFAutoModel, pipeline\n",
    "tokenizer = AutoTokenizer.from_pretrained(\"bert-base-uncased\")\n",
    "\n",
    "bert = TFAutoModel.from_pretrained(\"bert-base-uncased\")\n"
   ]
  },
  {
   "cell_type": "code",
   "execution_count": 36,
   "metadata": {},
   "outputs": [],
   "source": [
    "SEQ_LEN = 140"
   ]
  },
  {
   "cell_type": "code",
   "execution_count": 37,
   "metadata": {},
   "outputs": [],
   "source": [
    "tokens = tokenizer.encode_plus(\"hello world how are you, I am doing fine\", \n",
    "                               max_length=SEQ_LEN, \n",
    "                               truncation=True, \n",
    "                               padding='max_length', \n",
    "                               add_special_tokens=True, \n",
    "                               return_token_type_ids=False,\n",
    "                               return_attention_mask=True,\n",
    "                               return_tensors=\"tf\"\n",
    "                              )"
   ]
  },
  {
   "cell_type": "code",
   "execution_count": 38,
   "metadata": {},
   "outputs": [
    {
     "data": {
      "text/plain": [
       "{'input_ids': <tf.Tensor: shape=(1, 140), dtype=int32, numpy=\n",
       "array([[ 101, 7592, 2088, 2129, 2024, 2017, 1010, 1045, 2572, 2725, 2986,\n",
       "         102,    0,    0,    0,    0,    0,    0,    0,    0,    0,    0,\n",
       "           0,    0,    0,    0,    0,    0,    0,    0,    0,    0,    0,\n",
       "           0,    0,    0,    0,    0,    0,    0,    0,    0,    0,    0,\n",
       "           0,    0,    0,    0,    0,    0,    0,    0,    0,    0,    0,\n",
       "           0,    0,    0,    0,    0,    0,    0,    0,    0,    0,    0,\n",
       "           0,    0,    0,    0,    0,    0,    0,    0,    0,    0,    0,\n",
       "           0,    0,    0,    0,    0,    0,    0,    0,    0,    0,    0,\n",
       "           0,    0,    0,    0,    0,    0,    0,    0,    0,    0,    0,\n",
       "           0,    0,    0,    0,    0,    0,    0,    0,    0,    0,    0,\n",
       "           0,    0,    0,    0,    0,    0,    0,    0,    0,    0,    0,\n",
       "           0,    0,    0,    0,    0,    0,    0,    0,    0,    0,    0,\n",
       "           0,    0,    0,    0,    0,    0,    0,    0]])>, 'attention_mask': <tf.Tensor: shape=(1, 140), dtype=int32, numpy=\n",
       "array([[1, 1, 1, 1, 1, 1, 1, 1, 1, 1, 1, 1, 0, 0, 0, 0, 0, 0, 0, 0, 0, 0,\n",
       "        0, 0, 0, 0, 0, 0, 0, 0, 0, 0, 0, 0, 0, 0, 0, 0, 0, 0, 0, 0, 0, 0,\n",
       "        0, 0, 0, 0, 0, 0, 0, 0, 0, 0, 0, 0, 0, 0, 0, 0, 0, 0, 0, 0, 0, 0,\n",
       "        0, 0, 0, 0, 0, 0, 0, 0, 0, 0, 0, 0, 0, 0, 0, 0, 0, 0, 0, 0, 0, 0,\n",
       "        0, 0, 0, 0, 0, 0, 0, 0, 0, 0, 0, 0, 0, 0, 0, 0, 0, 0, 0, 0, 0, 0,\n",
       "        0, 0, 0, 0, 0, 0, 0, 0, 0, 0, 0, 0, 0, 0, 0, 0, 0, 0, 0, 0, 0, 0,\n",
       "        0, 0, 0, 0, 0, 0, 0, 0]])>}"
      ]
     },
     "execution_count": 38,
     "metadata": {},
     "output_type": "execute_result"
    }
   ],
   "source": [
    "tokens"
   ]
  },
  {
   "cell_type": "code",
   "execution_count": 39,
   "metadata": {},
   "outputs": [],
   "source": [
    "XConcat = [' [SEP] '.join(map(lambda x: x.replace(\".\", \"\"), x_)) for x_ in X]"
   ]
  },
  {
   "cell_type": "code",
   "execution_count": 40,
   "metadata": {},
   "outputs": [],
   "source": [
    "Xids = np.zeros((len(X), SEQ_LEN))\n",
    "Xmask = np.zeros((len(X), SEQ_LEN))"
   ]
  },
  {
   "cell_type": "code",
   "execution_count": 41,
   "metadata": {},
   "outputs": [],
   "source": [
    "for i, seq in enumerate(XConcat):\n",
    "    tokens = tokenizer.encode_plus(seq, \n",
    "                               max_length=SEQ_LEN, \n",
    "                               truncation=True, \n",
    "                               padding='max_length', \n",
    "                               add_special_tokens=True, \n",
    "                               return_token_type_ids=False,\n",
    "                               return_attention_mask=True,\n",
    "                               return_tensors=\"tf\"\n",
    "                              )\n",
    "    Xids[i, :], Xmask[i, :] = tokens['input_ids'], tokens['attention_mask']"
   ]
  },
  {
   "cell_type": "code",
   "execution_count": 42,
   "metadata": {},
   "outputs": [
    {
     "data": {
      "text/plain": [
       "(4641, 140)"
      ]
     },
     "execution_count": 42,
     "metadata": {},
     "output_type": "execute_result"
    }
   ],
   "source": [
    "Xids.shape\n"
   ]
  },
  {
   "cell_type": "code",
   "execution_count": 43,
   "metadata": {},
   "outputs": [],
   "source": [
    "Y = np.asarray(Y)\n",
    "Y = np.expand_dims(Y, axis=1)"
   ]
  },
  {
   "cell_type": "code",
   "execution_count": 44,
   "metadata": {},
   "outputs": [
    {
     "data": {
      "text/plain": [
       "[PhysicalDevice(name='/physical_device:GPU:0', device_type='GPU')]"
      ]
     },
     "execution_count": 44,
     "metadata": {},
     "output_type": "execute_result"
    }
   ],
   "source": [
    "tf.config.experimental.list_physical_devices(\"GPU\")"
   ]
  },
  {
   "cell_type": "code",
   "execution_count": 45,
   "metadata": {},
   "outputs": [],
   "source": [
    "dataset = tf.data.Dataset.from_tensor_slices((Xids, Xmask, Y))"
   ]
  },
  {
   "cell_type": "code",
   "execution_count": 46,
   "metadata": {},
   "outputs": [
    {
     "name": "stdout",
     "output_type": "stream",
     "text": [
      "(<tf.Tensor: shape=(140,), dtype=float64, numpy=\n",
      "array([  101.,  2129.,  2000.,  6869.,  2000.,  1996., 25303.,  2886.,\n",
      "        2006.,  4918.,  2002.,  2497.,  3527.,  1029.,  2296.,  3780.,\n",
      "        1999.,  1996.,  2489.,  2088.,  2323.,  6140.,  2023.,  8299.,\n",
      "        1024.,  1013.,  1013., 22975.,  2080.,  1013.,  8040.,  2475.,\n",
      "        4140.,  2575.,  2509.,  2546.,  2575.,  3501.,   102.,  1030.,\n",
      "       28354.,  1035.,  3420.,  1030.,  1047.,  7946., 21426., 12718.,\n",
      "        4135.,  9397.,  5181.,  3830.,  3087.,  2027.,  2123.,  1005.,\n",
      "        1056.,  2066.,  2004.,  3424.,  1011.,  4100.,  2618.,  1998.,\n",
      "        3049.,  2127.,  2008.,  2711.,  1013.,  2194.,  2003.,  2736.,\n",
      "         102.,  1030., 28354.,  1035.,  3420.,  1030.,  1047.,  7946.,\n",
      "       21426., 12718.,  4135.,  9397.,  2053.,  2028.,  2515.,   102.,\n",
      "        1030., 28354.,  1035.,  3420.,  1001., 10047.,  7507., 12190.,\n",
      "        2666.,  5369.,  2497.,  3527.,   102.,  1030.,  1047.,  7946.,\n",
      "       21426., 12718.,  4135.,  9397.,  4487.,  9284.,   102.,  1030.,\n",
      "       24665., 29266.,  1035., 26319.,  1030.,  3419.,  1035., 11417.,\n",
      "        2078.,  2054.,  7036.,  7486., 11276.,  2000.,  2424., 23979.,\n",
      "        2003.,  2019.,  2012., 21735.,  5462.,  1999.,  2037.,  2171.,\n",
      "        1010.,  2025.,  1037.,   102.])>, <tf.Tensor: shape=(140,), dtype=float64, numpy=\n",
      "array([1., 1., 1., 1., 1., 1., 1., 1., 1., 1., 1., 1., 1., 1., 1., 1., 1.,\n",
      "       1., 1., 1., 1., 1., 1., 1., 1., 1., 1., 1., 1., 1., 1., 1., 1., 1.,\n",
      "       1., 1., 1., 1., 1., 1., 1., 1., 1., 1., 1., 1., 1., 1., 1., 1., 1.,\n",
      "       1., 1., 1., 1., 1., 1., 1., 1., 1., 1., 1., 1., 1., 1., 1., 1., 1.,\n",
      "       1., 1., 1., 1., 1., 1., 1., 1., 1., 1., 1., 1., 1., 1., 1., 1., 1.,\n",
      "       1., 1., 1., 1., 1., 1., 1., 1., 1., 1., 1., 1., 1., 1., 1., 1., 1.,\n",
      "       1., 1., 1., 1., 1., 1., 1., 1., 1., 1., 1., 1., 1., 1., 1., 1., 1.,\n",
      "       1., 1., 1., 1., 1., 1., 1., 1., 1., 1., 1., 1., 1., 1., 1., 1., 1.,\n",
      "       1., 1., 1., 1.])>, <tf.Tensor: shape=(1, 1), dtype=int32, numpy=array([[0]])>)\n"
     ]
    }
   ],
   "source": [
    "for i in dataset.take(1):\n",
    "    print(i)"
   ]
  },
  {
   "cell_type": "code",
   "execution_count": 47,
   "metadata": {},
   "outputs": [],
   "source": [
    "def map_function(input_ids, masks, label):\n",
    "    return {'input_ids': input_ids, 'attention_mask': masks}, label"
   ]
  },
  {
   "cell_type": "code",
   "execution_count": 48,
   "metadata": {},
   "outputs": [],
   "source": [
    "dataset = dataset.map(map_function)"
   ]
  },
  {
   "cell_type": "code",
   "execution_count": 49,
   "metadata": {},
   "outputs": [
    {
     "name": "stdout",
     "output_type": "stream",
     "text": [
      "({'input_ids': <tf.Tensor: shape=(140,), dtype=float64, numpy=\n",
      "array([  101.,  2129.,  2000.,  6869.,  2000.,  1996., 25303.,  2886.,\n",
      "        2006.,  4918.,  2002.,  2497.,  3527.,  1029.,  2296.,  3780.,\n",
      "        1999.,  1996.,  2489.,  2088.,  2323.,  6140.,  2023.,  8299.,\n",
      "        1024.,  1013.,  1013., 22975.,  2080.,  1013.,  8040.,  2475.,\n",
      "        4140.,  2575.,  2509.,  2546.,  2575.,  3501.,   102.,  1030.,\n",
      "       28354.,  1035.,  3420.,  1030.,  1047.,  7946., 21426., 12718.,\n",
      "        4135.,  9397.,  5181.,  3830.,  3087.,  2027.,  2123.,  1005.,\n",
      "        1056.,  2066.,  2004.,  3424.,  1011.,  4100.,  2618.,  1998.,\n",
      "        3049.,  2127.,  2008.,  2711.,  1013.,  2194.,  2003.,  2736.,\n",
      "         102.,  1030., 28354.,  1035.,  3420.,  1030.,  1047.,  7946.,\n",
      "       21426., 12718.,  4135.,  9397.,  2053.,  2028.,  2515.,   102.,\n",
      "        1030., 28354.,  1035.,  3420.,  1001., 10047.,  7507., 12190.,\n",
      "        2666.,  5369.,  2497.,  3527.,   102.,  1030.,  1047.,  7946.,\n",
      "       21426., 12718.,  4135.,  9397.,  4487.,  9284.,   102.,  1030.,\n",
      "       24665., 29266.,  1035., 26319.,  1030.,  3419.,  1035., 11417.,\n",
      "        2078.,  2054.,  7036.,  7486., 11276.,  2000.,  2424., 23979.,\n",
      "        2003.,  2019.,  2012., 21735.,  5462.,  1999.,  2037.,  2171.,\n",
      "        1010.,  2025.,  1037.,   102.])>, 'attention_mask': <tf.Tensor: shape=(140,), dtype=float64, numpy=\n",
      "array([1., 1., 1., 1., 1., 1., 1., 1., 1., 1., 1., 1., 1., 1., 1., 1., 1.,\n",
      "       1., 1., 1., 1., 1., 1., 1., 1., 1., 1., 1., 1., 1., 1., 1., 1., 1.,\n",
      "       1., 1., 1., 1., 1., 1., 1., 1., 1., 1., 1., 1., 1., 1., 1., 1., 1.,\n",
      "       1., 1., 1., 1., 1., 1., 1., 1., 1., 1., 1., 1., 1., 1., 1., 1., 1.,\n",
      "       1., 1., 1., 1., 1., 1., 1., 1., 1., 1., 1., 1., 1., 1., 1., 1., 1.,\n",
      "       1., 1., 1., 1., 1., 1., 1., 1., 1., 1., 1., 1., 1., 1., 1., 1., 1.,\n",
      "       1., 1., 1., 1., 1., 1., 1., 1., 1., 1., 1., 1., 1., 1., 1., 1., 1.,\n",
      "       1., 1., 1., 1., 1., 1., 1., 1., 1., 1., 1., 1., 1., 1., 1., 1., 1.,\n",
      "       1., 1., 1., 1.])>}, <tf.Tensor: shape=(1, 1), dtype=int32, numpy=array([[0]])>)\n"
     ]
    }
   ],
   "source": [
    "for i in dataset.take(1):\n",
    "    print(i)"
   ]
  },
  {
   "cell_type": "code",
   "execution_count": 50,
   "metadata": {},
   "outputs": [],
   "source": [
    "batched_dataset = dataset.batch(128)"
   ]
  },
  {
   "cell_type": "code",
   "execution_count": 51,
   "metadata": {},
   "outputs": [
    {
     "name": "stdout",
     "output_type": "stream",
     "text": [
      "WARNING:tensorflow:AutoGraph could not transform <bound method Socket.send of <zmq.sugar.socket.Socket object at 0x000002228BBE4280>> and will run it as-is.\n",
      "Please report this to the TensorFlow team. When filing the bug, set the verbosity to 10 (on Linux, `export AUTOGRAPH_VERBOSITY=10`) and attach the full output.\n",
      "Cause: module, class, method, function, traceback, frame, or code object was expected, got cython_function_or_method\n",
      "To silence this warning, decorate the function with @tf.autograph.experimental.do_not_convert\n",
      "WARNING: AutoGraph could not transform <bound method Socket.send of <zmq.sugar.socket.Socket object at 0x000002228BBE4280>> and will run it as-is.\n",
      "Please report this to the TensorFlow team. When filing the bug, set the verbosity to 10 (on Linux, `export AUTOGRAPH_VERBOSITY=10`) and attach the full output.\n",
      "Cause: module, class, method, function, traceback, frame, or code object was expected, got cython_function_or_method\n",
      "To silence this warning, decorate the function with @tf.autograph.experimental.do_not_convert\n"
     ]
    },
    {
     "name": "stderr",
     "output_type": "stream",
     "text": [
      "The parameters `output_attentions`, `output_hidden_states` and `use_cache` cannot be updated when calling a model.They have to be set to True/False in the config object (i.e.: `config=XConfig.from_pretrained('name', output_attentions=True)`).\n",
      "The parameter `return_dict` cannot be set in graph mode and will always be set to `True`.\n"
     ]
    }
   ],
   "source": [
    "input_ids = tf.keras.layers.Input(shape=(SEQ_LEN), name='input_ids', dtype='int32')\n",
    "mask = tf.keras.layers.Input(shape=(SEQ_LEN), name='attention_mask', dtype='int32')\n",
    "embeddings = bert(input_ids, attention_mask=mask)[0]\n",
    "\n",
    "TFX = tf.keras.layers.GlobalMaxPool1D()(embeddings)\n",
    "TFX = tf.keras.layers.BatchNormalization()(TFX)\n",
    "TFX = tf.keras.layers.Dense(128, activation='relu')(TFX)\n",
    "TFX = tf.keras.layers.Dropout(0.1)(TFX)\n",
    "TFX = tf.keras.layers.Dense(32, activation='relu')(TFX)\n",
    "TFY = tf.keras.layers.Dense(1, activation='softmax', name='outputs')(TFX)\n",
    "\n",
    "model = tf.keras.Model(inputs=[input_ids, mask], outputs=TFY)"
   ]
  },
  {
   "cell_type": "code",
   "execution_count": 52,
   "metadata": {},
   "outputs": [
    {
     "name": "stdout",
     "output_type": "stream",
     "text": [
      "Model: \"model\"\n",
      "__________________________________________________________________________________________________\n",
      "Layer (type)                    Output Shape         Param #     Connected to                     \n",
      "==================================================================================================\n",
      "input_ids (InputLayer)          [(None, 140)]        0                                            \n",
      "__________________________________________________________________________________________________\n",
      "attention_mask (InputLayer)     [(None, 140)]        0                                            \n",
      "__________________________________________________________________________________________________\n",
      "tf_bert_model_1 (TFBertModel)   TFBaseModelOutputWit 109482240   input_ids[0][0]                  \n",
      "                                                                 attention_mask[0][0]             \n",
      "__________________________________________________________________________________________________\n",
      "global_max_pooling1d (GlobalMax (None, 768)          0           tf_bert_model_1[0][0]            \n",
      "__________________________________________________________________________________________________\n",
      "batch_normalization (BatchNorma (None, 768)          3072        global_max_pooling1d[0][0]       \n",
      "__________________________________________________________________________________________________\n",
      "dense (Dense)                   (None, 128)          98432       batch_normalization[0][0]        \n",
      "__________________________________________________________________________________________________\n",
      "dropout_74 (Dropout)            (None, 128)          0           dense[0][0]                      \n",
      "__________________________________________________________________________________________________\n",
      "dense_1 (Dense)                 (None, 32)           4128        dropout_74[0][0]                 \n",
      "__________________________________________________________________________________________________\n",
      "outputs (Dense)                 (None, 1)            33          dense_1[0][0]                    \n",
      "==================================================================================================\n",
      "Total params: 109,587,905\n",
      "Trainable params: 109,586,369\n",
      "Non-trainable params: 1,536\n",
      "__________________________________________________________________________________________________\n"
     ]
    }
   ],
   "source": [
    "model.summary()"
   ]
  },
  {
   "cell_type": "code",
   "execution_count": 53,
   "metadata": {},
   "outputs": [],
   "source": [
    "opt = tf.keras.optimizers.Adam(0.01)"
   ]
  },
  {
   "cell_type": "code",
   "execution_count": 54,
   "metadata": {},
   "outputs": [],
   "source": [
    "loss = tf.keras.losses.BinaryCrossentropy()\n",
    "acc = tf.keras.metrics.BinaryCrossentropy('accuracy')\n",
    "\n",
    "\n",
    "model.compile(optimizer=opt, loss=loss, metrics=[acc])"
   ]
  },
  {
   "cell_type": "code",
   "execution_count": 55,
   "metadata": {},
   "outputs": [],
   "source": [
    "DS_LEN = len([0 for batch in dataset])\n",
    "SPLIT = 0.9  # 90-10 split\n",
    "\n",
    "train = batched_dataset.take(round(DS_LEN*SPLIT))  # get first 90% of batches\n",
    "val = batched_dataset.skip(round(DS_LEN*SPLIT))"
   ]
  },
  {
   "cell_type": "code",
   "execution_count": null,
   "metadata": {},
   "outputs": [
    {
     "name": "stderr",
     "output_type": "stream",
     "text": [
      "The parameters `output_attentions`, `output_hidden_states` and `use_cache` cannot be updated when calling a model.They have to be set to True/False in the config object (i.e.: `config=XConfig.from_pretrained('name', output_attentions=True)`).\n",
      "The parameter `return_dict` cannot be set in graph mode and will always be set to `True`.\n"
     ]
    },
    {
     "name": "stdout",
     "output_type": "stream",
     "text": [
      "Epoch 1/40\n",
      "WARNING:tensorflow:Gradients do not exist for variables ['tf_bert_model_1/bert/pooler/dense/kernel:0', 'tf_bert_model_1/bert/pooler/dense/bias:0'] when minimizing the loss.\n"
     ]
    },
    {
     "name": "stderr",
     "output_type": "stream",
     "text": [
      "The parameters `output_attentions`, `output_hidden_states` and `use_cache` cannot be updated when calling a model.They have to be set to True/False in the config object (i.e.: `config=XConfig.from_pretrained('name', output_attentions=True)`).\n",
      "The parameter `return_dict` cannot be set in graph mode and will always be set to `True`.\n"
     ]
    },
    {
     "name": "stdout",
     "output_type": "stream",
     "text": [
      "WARNING:tensorflow:Gradients do not exist for variables ['tf_bert_model_1/bert/pooler/dense/kernel:0', 'tf_bert_model_1/bert/pooler/dense/bias:0'] when minimizing the loss.\n",
      "12/37 [========>.....................] - ETA: 15:21 - loss: 0.7047 - accuracy: 0.7047"
     ]
    }
   ],
   "source": [
    "history = model.fit(train, validation_data=val, epochs=40)"
   ]
  },
  {
   "cell_type": "code",
   "execution_count": 109,
   "metadata": {},
   "outputs": [
    {
     "name": "stdout",
     "output_type": "stream",
     "text": [
      "({'input_ids': <tf.Tensor: shape=(4480,), dtype=float64, numpy=array([ 101., 2129., 2000., ...,    0.,    0.,    0.])>, 'attention_mask': <tf.Tensor: shape=(4480,), dtype=float64, numpy=array([1., 1., 1., ..., 0., 0., 0.])>}, <tf.Tensor: shape=(1,), dtype=int32, numpy=array([0])>)\n"
     ]
    }
   ],
   "source": [
    "for i in dataset.take(1):\n",
    "    print(i)"
   ]
  },
  {
   "cell_type": "code",
   "execution_count": 122,
   "metadata": {},
   "outputs": [
    {
     "data": {
      "text/plain": [
       "(4641, 1)"
      ]
     },
     "execution_count": 122,
     "metadata": {},
     "output_type": "execute_result"
    }
   ],
   "source": [
    "Y.shape"
   ]
  },
  {
   "cell_type": "code",
   "execution_count": 94,
   "metadata": {},
   "outputs": [
    {
     "data": {
      "text/plain": [
       "(1,)"
      ]
     },
     "execution_count": 94,
     "metadata": {},
     "output_type": "execute_result"
    }
   ],
   "source": [
    "Y[0].shape"
   ]
  },
  {
   "cell_type": "code",
   "execution_count": 98,
   "metadata": {},
   "outputs": [],
   "source": [
    "def keras_model_memory_usage_in_bytes(model, *, batch_size: int):\n",
    "    \"\"\"\n",
    "    Return the estimated memory usage of a given Keras model in bytes.\n",
    "    This includes the model weights and layers, but excludes the dataset.\n",
    "\n",
    "    The model shapes are multipled by the batch size, but the weights are not.\n",
    "\n",
    "    Args:\n",
    "        model: A Keras model.\n",
    "        batch_size: The batch size you intend to run the model with. If you\n",
    "            have already specified the batch size in the model itself, then\n",
    "            pass `1` as the argument here.\n",
    "    Returns:\n",
    "        An estimate of the Keras model's memory usage in bytes.\n",
    "\n",
    "    \"\"\"\n",
    "    default_dtype = tf.keras.backend.floatx()\n",
    "    shapes_mem_count = 0\n",
    "    internal_model_mem_count = 0\n",
    "    for layer in model.layers:\n",
    "        if isinstance(layer, tf.keras.Model):\n",
    "            internal_model_mem_count += keras_model_memory_usage_in_bytes(\n",
    "                layer, batch_size=batch_size\n",
    "            )\n",
    "        single_layer_mem = tf.as_dtype(layer.dtype or default_dtype).size\n",
    "        out_shape = layer.output_shape\n",
    "        if isinstance(out_shape, list):\n",
    "            out_shape = out_shape[0]\n",
    "        for s in out_shape:\n",
    "            if s is None:\n",
    "                continue\n",
    "            single_layer_mem *= s\n",
    "        shapes_mem_count += single_layer_mem\n",
    "\n",
    "    trainable_count = sum(\n",
    "        [tf.keras.backend.count_params(p) for p in model.trainable_weights]\n",
    "    )\n",
    "    non_trainable_count = sum(\n",
    "        [tf.keras.backend.count_params(p) for p in model.non_trainable_weights]\n",
    "    )\n",
    "\n",
    "    total_memory = (\n",
    "        batch_size * shapes_mem_count\n",
    "        + internal_model_mem_count\n",
    "        + trainable_count\n",
    "        + non_trainable_count\n",
    "    )\n",
    "    return total_memory"
   ]
  },
  {
   "cell_type": "code",
   "execution_count": 99,
   "metadata": {},
   "outputs": [
    {
     "ename": "AttributeError",
     "evalue": "The layer has never been called and thus has no defined output shape.",
     "output_type": "error",
     "traceback": [
      "\u001b[1;31m---------------------------------------------------------------------------\u001b[0m",
      "\u001b[1;31mAttributeError\u001b[0m                            Traceback (most recent call last)",
      "\u001b[1;32m<ipython-input-99-6f23d3e4489b>\u001b[0m in \u001b[0;36m<module>\u001b[1;34m\u001b[0m\n\u001b[1;32m----> 1\u001b[1;33m \u001b[0mkeras_model_memory_usage_in_bytes\u001b[0m\u001b[1;33m(\u001b[0m\u001b[0mmodel\u001b[0m\u001b[1;33m,\u001b[0m \u001b[0mbatch_size\u001b[0m\u001b[1;33m=\u001b[0m\u001b[1;36m1\u001b[0m\u001b[1;33m)\u001b[0m\u001b[1;33m\u001b[0m\u001b[1;33m\u001b[0m\u001b[0m\n\u001b[0m",
      "\u001b[1;32m<ipython-input-98-9b06d9db9d4c>\u001b[0m in \u001b[0;36mkeras_model_memory_usage_in_bytes\u001b[1;34m(model, batch_size)\u001b[0m\n\u001b[0;32m     20\u001b[0m     \u001b[1;32mfor\u001b[0m \u001b[0mlayer\u001b[0m \u001b[1;32min\u001b[0m \u001b[0mmodel\u001b[0m\u001b[1;33m.\u001b[0m\u001b[0mlayers\u001b[0m\u001b[1;33m:\u001b[0m\u001b[1;33m\u001b[0m\u001b[1;33m\u001b[0m\u001b[0m\n\u001b[0;32m     21\u001b[0m         \u001b[1;32mif\u001b[0m \u001b[0misinstance\u001b[0m\u001b[1;33m(\u001b[0m\u001b[0mlayer\u001b[0m\u001b[1;33m,\u001b[0m \u001b[0mtf\u001b[0m\u001b[1;33m.\u001b[0m\u001b[0mkeras\u001b[0m\u001b[1;33m.\u001b[0m\u001b[0mModel\u001b[0m\u001b[1;33m)\u001b[0m\u001b[1;33m:\u001b[0m\u001b[1;33m\u001b[0m\u001b[1;33m\u001b[0m\u001b[0m\n\u001b[1;32m---> 22\u001b[1;33m             internal_model_mem_count += keras_model_memory_usage_in_bytes(\n\u001b[0m\u001b[0;32m     23\u001b[0m                 \u001b[0mlayer\u001b[0m\u001b[1;33m,\u001b[0m \u001b[0mbatch_size\u001b[0m\u001b[1;33m=\u001b[0m\u001b[0mbatch_size\u001b[0m\u001b[1;33m\u001b[0m\u001b[1;33m\u001b[0m\u001b[0m\n\u001b[0;32m     24\u001b[0m             )\n",
      "\u001b[1;32m<ipython-input-98-9b06d9db9d4c>\u001b[0m in \u001b[0;36mkeras_model_memory_usage_in_bytes\u001b[1;34m(model, batch_size)\u001b[0m\n\u001b[0;32m     24\u001b[0m             )\n\u001b[0;32m     25\u001b[0m         \u001b[0msingle_layer_mem\u001b[0m \u001b[1;33m=\u001b[0m \u001b[0mtf\u001b[0m\u001b[1;33m.\u001b[0m\u001b[0mas_dtype\u001b[0m\u001b[1;33m(\u001b[0m\u001b[0mlayer\u001b[0m\u001b[1;33m.\u001b[0m\u001b[0mdtype\u001b[0m \u001b[1;32mor\u001b[0m \u001b[0mdefault_dtype\u001b[0m\u001b[1;33m)\u001b[0m\u001b[1;33m.\u001b[0m\u001b[0msize\u001b[0m\u001b[1;33m\u001b[0m\u001b[1;33m\u001b[0m\u001b[0m\n\u001b[1;32m---> 26\u001b[1;33m         \u001b[0mout_shape\u001b[0m \u001b[1;33m=\u001b[0m \u001b[0mlayer\u001b[0m\u001b[1;33m.\u001b[0m\u001b[0moutput_shape\u001b[0m\u001b[1;33m\u001b[0m\u001b[1;33m\u001b[0m\u001b[0m\n\u001b[0m\u001b[0;32m     27\u001b[0m         \u001b[1;32mif\u001b[0m \u001b[0misinstance\u001b[0m\u001b[1;33m(\u001b[0m\u001b[0mout_shape\u001b[0m\u001b[1;33m,\u001b[0m \u001b[0mlist\u001b[0m\u001b[1;33m)\u001b[0m\u001b[1;33m:\u001b[0m\u001b[1;33m\u001b[0m\u001b[1;33m\u001b[0m\u001b[0m\n\u001b[0;32m     28\u001b[0m             \u001b[0mout_shape\u001b[0m \u001b[1;33m=\u001b[0m \u001b[0mout_shape\u001b[0m\u001b[1;33m[\u001b[0m\u001b[1;36m0\u001b[0m\u001b[1;33m]\u001b[0m\u001b[1;33m\u001b[0m\u001b[1;33m\u001b[0m\u001b[0m\n",
      "\u001b[1;32m~\\AppData\\Roaming\\Python\\Python38\\site-packages\\tensorflow\\python\\keras\\engine\\base_layer.py\u001b[0m in \u001b[0;36moutput_shape\u001b[1;34m(self)\u001b[0m\n\u001b[0;32m   2226\u001b[0m     \"\"\"\n\u001b[0;32m   2227\u001b[0m     \u001b[1;32mif\u001b[0m \u001b[1;32mnot\u001b[0m \u001b[0mself\u001b[0m\u001b[1;33m.\u001b[0m\u001b[0m_inbound_nodes\u001b[0m\u001b[1;33m:\u001b[0m\u001b[1;33m\u001b[0m\u001b[1;33m\u001b[0m\u001b[0m\n\u001b[1;32m-> 2228\u001b[1;33m       raise AttributeError('The layer has never been called '\n\u001b[0m\u001b[0;32m   2229\u001b[0m                            'and thus has no defined output shape.')\n\u001b[0;32m   2230\u001b[0m     all_output_shapes = set(\n",
      "\u001b[1;31mAttributeError\u001b[0m: The layer has never been called and thus has no defined output shape."
     ]
    }
   ],
   "source": []
  },
  {
   "cell_type": "code",
   "execution_count": 58,
   "metadata": {},
   "outputs": [
    {
     "name": "stdout",
     "output_type": "stream",
     "text": [
      "37\n"
     ]
    }
   ],
   "source": [
    "print(len(train))"
   ]
  },
  {
   "cell_type": "code",
   "execution_count": null,
   "metadata": {},
   "outputs": [],
   "source": []
  }
 ],
 "metadata": {
  "kernelspec": {
   "display_name": "Python 3",
   "language": "python",
   "name": "python3"
  },
  "language_info": {
   "codemirror_mode": {
    "name": "ipython",
    "version": 3
   },
   "file_extension": ".py",
   "mimetype": "text/x-python",
   "name": "python",
   "nbconvert_exporter": "python",
   "pygments_lexer": "ipython3",
   "version": "3.8.5"
  }
 },
 "nbformat": 4,
 "nbformat_minor": 4
}
