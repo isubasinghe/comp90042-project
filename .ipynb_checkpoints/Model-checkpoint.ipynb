{
 "cells": [
  {
   "cell_type": "code",
   "execution_count": 1,
   "metadata": {},
   "outputs": [],
   "source": [
    "import json\n",
    "import matplotlib as mpl\n",
    "import matplotlib.pyplot as plt\n",
    "import pandas as pd \n",
    "import numpy as np\n",
    "import tensorflow as tf\n",
    "import tensorflow.keras as keras\n",
    "from collections import defaultdict\n",
    "%matplotlib inline"
   ]
  },
  {
   "cell_type": "code",
   "execution_count": 2,
   "metadata": {},
   "outputs": [],
   "source": [
    "with open(\"./train.data.jsonl\", \"r\") as f:\n",
    "    raw_lines_train = f.readlines()\n",
    "with open(\"./train.label.json\", \"r\") as f:\n",
    "    raw_labels_train = f.readlines()\n",
    "\n",
    "with open(\"./dev.data.jsonl\", \"r\") as f:\n",
    "    raw_lines_dev = f.readlines()\n",
    "\n",
    "with open(\"./dev.label.json\", \"r\") as f:\n",
    "    raw_labels_dev = f.readlines()"
   ]
  },
  {
   "cell_type": "code",
   "execution_count": 3,
   "metadata": {},
   "outputs": [],
   "source": [
    "json_lines_train = [json.loads(line) for line in raw_lines_train]\n",
    "json_labels_train = [json.loads(line) for line in raw_labels_train][0]\n",
    "\n",
    "json_lines_dev = [json.loads(line) for line in raw_lines_dev]\n",
    "json_labels_dev = [json.loads(line) for line in raw_labels_dev][0]"
   ]
  },
  {
   "cell_type": "code",
   "execution_count": 4,
   "metadata": {},
   "outputs": [
    {
     "name": "stdout",
     "output_type": "stream",
     "text": [
      "CLEAR ME\n"
     ]
    }
   ],
   "source": [
    "print(\"CLEAR ME\")"
   ]
  },
  {
   "cell_type": "code",
   "execution_count": 5,
   "metadata": {},
   "outputs": [
    {
     "name": "stdout",
     "output_type": "stream",
     "text": [
      "4641\n",
      "580\n"
     ]
    }
   ],
   "source": [
    "print(len(raw_lines_train))\n",
    "print(len(raw_lines_dev))"
   ]
  },
  {
   "cell_type": "code",
   "execution_count": 6,
   "metadata": {},
   "outputs": [
    {
     "name": "stdout",
     "output_type": "stream",
     "text": [
      "29 38\n",
      "30 36\n",
      "16 124\n",
      "14 103\n",
      "13 129\n",
      "21 151\n",
      "5 179\n",
      "12 136\n",
      "9 169\n",
      "10 171\n",
      "19 233\n",
      "23 102\n",
      "26 45\n",
      "20 273\n",
      "18 155\n",
      "15 114\n",
      "28 36\n",
      "34 30\n",
      "11 149\n",
      "8 186\n",
      "32 30\n",
      "25 75\n",
      "4 194\n",
      "3 171\n",
      "1 276\n",
      "2 148\n",
      "36 23\n",
      "44 11\n",
      "6 181\n",
      "22 122\n",
      "50 9\n",
      "42 13\n",
      "46 11\n",
      "54 7\n",
      "17 124\n",
      "7 180\n",
      "24 79\n",
      "35 23\n",
      "43 9\n",
      "37 24\n",
      "48 9\n",
      "45 10\n",
      "59 4\n",
      "40 9\n",
      "56 5\n",
      "39 28\n",
      "27 47\n",
      "31 22\n",
      "33 22\n",
      "47 16\n",
      "53 10\n",
      "41 6\n",
      "38 17\n",
      "51 7\n",
      "55 7\n",
      "60 5\n",
      "52 8\n",
      "57 9\n",
      "58 4\n",
      "49 11\n",
      "9\n"
     ]
    },
    {
     "data": {
      "image/png": "[encoded data removed]",
      "text/plain": [
       "<Figure size 432x288 with 1 Axes>"
      ]
     },
     "metadata": {
      "needs_background": "light"
     },
     "output_type": "display_data"
    }
   ],
   "source": [
    "length_counts = defaultdict(int)\n",
    "\n",
    "for json_line in json_lines_train:\n",
    "    length_counts[len(json_line)] += 1\n",
    "\n",
    "(lx, ly) = ([], [])\n",
    "\n",
    "max_size = 0\n",
    "\n",
    "for (replies, num_replies) in length_counts.items():\n",
    "    max_size = max(max_size, replies)\n",
    "    if replies > 60:\n",
    "        continue\n",
    "    lx.append(replies)\n",
    "    ly.append(num_replies)\n",
    "    print(replies, num_replies)\n",
    "    \n",
    "plt.bar(lx, ly)\n",
    "print(length_counts[50])"
   ]
  },
  {
   "cell_type": "code",
   "execution_count": 7,
   "metadata": {},
   "outputs": [
    {
     "data": {
      "text/plain": [
       "346"
      ]
     },
     "execution_count": 7,
     "metadata": {},
     "output_type": "execute_result"
    }
   ],
   "source": [
    "max_size"
   ]
  },
  {
   "cell_type": "code",
   "execution_count": 8,
   "metadata": {},
   "outputs": [
    {
     "name": "stderr",
     "output_type": "stream",
     "text": [
      "C:\\ProgramData\\Anaconda3\\lib\\site-packages\\cupy\\_environment.py:210: UserWarning: CUDA path could not be detected. Set CUDA_PATH environment variable if CuPy fails to load.\n",
      "  warnings.warn(\n"
     ]
    }
   ],
   "source": [
    "import spacy\n",
    "\n",
    "nlp = spacy.load(\"en_core_web_trf\")"
   ]
  },
  {
   "cell_type": "code",
   "execution_count": 9,
   "metadata": {
    "tags": []
   },
   "outputs": [],
   "source": [
    "files_present = True"
   ]
  },
  {
   "cell_type": "code",
   "execution_count": 11,
   "metadata": {},
   "outputs": [],
   "source": [
    "from tqdm import tqdm\n",
    "\n",
    "MAX_FEATURES = 40\n",
    "\n",
    "def process_lines(lines):\n",
    "    myX = []\n",
    "    i = 0\n",
    "    shape = None\n",
    "\n",
    "    for doc in nlp.pipe(map(lambda x: x['text'], lines[:MAX_FEATURES])):\n",
    "        shape = doc._.trf_data.tensors[-1].shape[1]\n",
    "        myX.append(doc._.trf_data.tensors[-1].reshape(shape))\n",
    "        i += 1\n",
    "\n",
    "        # Add zero matrices to the remaining\n",
    "    for _ in range(i, MAX_FEATURES):\n",
    "        myX.append(np.zeros(shape))\n",
    "    \n",
    "    return myX\n",
    "\n",
    "def getXY():\n",
    "    X = []\n",
    "    Y = []\n",
    "    MAX_FEATURES = 40\n",
    "    for lines in tqdm(json_lines_train):\n",
    "        Y.append(0 if json_labels_train[lines[0]['id_str']] == 'non-rumour' else 1) \n",
    "        X.append(process_lines(lines))\n",
    "    return X, Y\n",
    "\n",
    "if files_present:\n",
    "    X = np.load(\"./train_matrix.npy\")\n",
    "    Y = np.load(\"./train_labels.npy\")\n",
    "else:\n",
    "    X, Y = getXY()\n"
   ]
  },
  {
   "cell_type": "code",
   "execution_count": 13,
   "metadata": {},
   "outputs": [],
   "source": [
    "myX = np.expand_dims(X, axis=3)"
   ]
  },
  {
   "cell_type": "code",
   "execution_count": 14,
   "metadata": {},
   "outputs": [
    {
     "data": {
      "text/plain": [
       "(4641, 40, 768, 1)"
      ]
     },
     "execution_count": 14,
     "metadata": {},
     "output_type": "execute_result"
    }
   ],
   "source": [
    "myX.shape"
   ]
  },
  {
   "cell_type": "code",
   "execution_count": 11,
   "metadata": {},
   "outputs": [],
   "source": [
    "from transformers import AutoTokenizer, AutoModelForSequenceClassification, pipeline\n",
    "        "
   ]
  },
  {
   "cell_type": "code",
   "execution_count": 12,
   "metadata": {},
   "outputs": [],
   "source": [
    "tokenizer = AutoTokenizer.from_pretrained(\"distilbert-base-uncased-finetuned-sst-2-english\")\n",
    "\n",
    "model = AutoModelForSequenceClassification.from_pretrained(\"distilbert-base-uncased-finetuned-sst-2-english\")"
   ]
  },
  {
   "cell_type": "code",
   "execution_count": 18,
   "metadata": {},
   "outputs": [
    {
     "data": {
      "text/plain": [
       "['hello', '!', 'world', '<', '3', 'i', \"'\", 'm', 'kinda', 'keen']"
      ]
     },
     "execution_count": 18,
     "metadata": {},
     "output_type": "execute_result"
    }
   ],
   "source": [
    "tokenizer.tokenize(\"hello! World <3 I'm kinda keen\", return_tensors=\"pt\")"
   ]
  },
  {
   "cell_type": "code",
   "execution_count": 14,
   "metadata": {},
   "outputs": [],
   "source": [
    "def getText(json_lines, json_labels):\n",
    "    X = []\n",
    "    Y = []\n",
    "    \n",
    "    for lines in json_lines:\n",
    "        X.append(list(map(lambda x: x['text'], lines)))\n",
    "        Y.append(0 if json_labels[lines[0]['id_str']] == 'non-rumour' else 1)\n",
    "    return X, Y\n",
    "    "
   ]
  },
  {
   "cell_type": "code",
   "execution_count": 15,
   "metadata": {},
   "outputs": [],
   "source": [
    "X, Y = getText(json_lines_train, json_labels_train)"
   ]
  },
  {
   "cell_type": "code",
   "execution_count": 42,
   "metadata": {},
   "outputs": [
    {
     "data": {
      "text/plain": [
       "['Hostage taker in Sydney cafe demands ISIS flag and call with Australian PM, Sky News reports. http://t.co/a2vgrn30Xh #sydneysiege',\n",
       " \"@cnni So they noticed they had the wrong flag and decided to ask for the right one... Wow, these 'terrorists' sound supremely incompetent.\",\n",
       " '@harryjohal1982 @cnni bouyt time u didd',\n",
       " 'MT “@cnni: Hostage taker in Sydney cafe demands ISIS flag and call with Australian PM, Sky News reports. #sydneysiege”',\n",
       " '@rupayanb @SohamDeGuevara @cnni How to Create an \"Islamic Enemy\" - http://t.co/mzxzVWDkH1',\n",
       " '@cnni avnt they shot him yet',\n",
       " '@cnni just send em a Bart Simson flag w/the👉middle finger and a bullet',\n",
       " \"@NickWaite7 @cnni we don't shoot in Australia\",\n",
       " '@cnni Shoot him',\n",
       " '@harryjohal1982 Yes, and it would seem the terrorists are positively counting on that.   @NickWaite7 @cnni',\n",
       " '@cnni must be shot in head through snipers.',\n",
       " '@cnni Yes, surely the Australian government has ISIS flags ready to give just for this moment.',\n",
       " \"@NickWaite7 @cnni it's crazy huh, they want to have a peaceful resolution then give him all the entitlements to make his life better 😜\",\n",
       " '“@cnni: Hostage taker in Sydney cafe demands ISIS flag and call with Australian PM, Sky News reports. http://t.co/mRghqDBf50 #sydneysiege”',\n",
       " \"@cnni he couldn't make his own eh? he needs some diapers and wet napkins as well I'd say.\",\n",
       " '@cnni 🍵☕coffee anyone??',\n",
       " '@cnni The free world burns as @BarackObama plays the flute.\\nThe weakest US Prez ever.',\n",
       " '@cnni I thought police asked media not to report demands. Why you giving these terrorists a voice?',\n",
       " '@heidicantwait @cnni @harryjohal1982 wats for breakfast in Sydney today',\n",
       " '@Pugnate @cnni One day black flag will fly on the UN Hq too.\\n@BarackObama playing the flute as world burns.',\n",
       " '@cnni Raytheon has made various #RF #weapons for decades: https://t.co/dlLu4QKngg … Similar to those used on #TargetedIndividuals',\n",
       " '@cnni Stick that ISIS flag up his ass.',\n",
       " '@cnni Strange times']"
      ]
     },
     "execution_count": 42,
     "metadata": {},
     "output_type": "execute_result"
    }
   ],
   "source": [
    "X[12]"
   ]
  },
  {
   "cell_type": "code",
   "execution_count": 13,
   "metadata": {},
   "outputs": [
    {
     "data": {
      "text/plain": [
       "'abc [ENDSENT] def'"
      ]
     },
     "execution_count": 13,
     "metadata": {},
     "output_type": "execute_result"
    }
   ],
   "source": [
    "' [ENDSENT] '.join([\"abc\", \"def\"])"
   ]
  },
  {
   "cell_type": "code",
   "execution_count": 41,
   "metadata": {},
   "outputs": [
    {
     "data": {
      "text/plain": [
       "1"
      ]
     },
     "execution_count": 41,
     "metadata": {},
     "output_type": "execute_result"
    }
   ],
   "source": [
    "Y[12]"
   ]
  },
  {
   "cell_type": "code",
   "execution_count": 55,
   "metadata": {},
   "outputs": [
    {
     "name": "stdout",
     "output_type": "stream",
     "text": [
      "non-rumour\n",
      "{\n",
      "  \"contributors\": null,\n",
      "  \"truncated\": false,\n",
      "  \"text\": \"Hello fellow white people. Lets try to show as much outrage for #Ferguson as we did for Facebook messenger.\",\n",
      "  \"in_reply_to_status_id\": null,\n",
      "  \"id\": 498500813845966848,\n",
      "  \"favorite_count\": 104,\n",
      "  \"source\": \"<a href=\\\"http://www.echofon.com/\\\" rel=\\\"nofollow\\\">Echofon</a>\",\n",
      "  \"retweeted\": false,\n",
      "  \"coordinates\": null,\n",
      "  \"entities\": {\n",
      "    \"symbols\": [],\n",
      "    \"user_mentions\": [],\n",
      "    \"hashtags\": [\n",
      "      {\n",
      "        \"indices\": [\n",
      "          64,\n",
      "          73\n",
      "        ],\n",
      "        \"text\": \"Ferguson\"\n",
      "      }\n",
      "    ],\n",
      "    \"urls\": []\n",
      "  },\n",
      "  \"in_reply_to_screen_name\": null,\n",
      "  \"id_str\": \"498500813845966848\",\n",
      "  \"retweet_count\": 118,\n",
      "  \"in_reply_to_user_id\": null,\n",
      "  \"favorited\": false,\n",
      "  \"user\": {\n",
      "    \"follow_request_sent\": false,\n",
      "    \"profile_use_background_image\": true,\n",
      "    \"default_profile_image\": false,\n",
      "    \"id\": 16960279,\n",
      "    \"profile_background_image_url_https\": \"https://pbs.twimg.com/profile_background_images/322228331/Twitter.jpg\",\n",
      "    \"verified\": false,\n",
      "    \"profile_text_color\": \"333333\",\n",
      "    \"profile_image_url_https\": \"https://pbs.twimg.com/profile_images/589205006651248641/PW4tvFBd_normal.jpg\",\n",
      "    \"profile_sidebar_fill_color\": \"DDFFCC\",\n",
      "    \"entities\": {\n",
      "      \"url\": {\n",
      "        \"urls\": [\n",
      "          {\n",
      "            \"url\": \"http://t.co/GUi262F2ux\",\n",
      "            \"indices\": [\n",
      "              0,\n",
      "              22\n",
      "            ],\n",
      "            \"expanded_url\": \"http://jamiekilstein.com\",\n",
      "            \"display_url\": \"jamiekilstein.com\"\n",
      "          }\n",
      "        ]\n",
      "      },\n",
      "      \"description\": {\n",
      "        \"urls\": [\n",
      "          {\n",
      "            \"url\": \"http://t.co/NytPQaxrGI\",\n",
      "            \"indices\": [\n",
      "              103,\n",
      "              125\n",
      "            ],\n",
      "            \"expanded_url\": \"http://bit.ly/1rTnJPt\",\n",
      "            \"display_url\": \"bit.ly/1rTnJPt\"\n",
      "          },\n",
      "          {\n",
      "            \"url\": \"http://t.co/Unq3BN63XW\",\n",
      "            \"indices\": [\n",
      "              128,\n",
      "              150\n",
      "            ],\n",
      "            \"expanded_url\": \"http://wearecitizenradio.com\",\n",
      "            \"display_url\": \"wearecitizenradio.com\"\n",
      "          }\n",
      "        ]\n",
      "      }\n",
      "    },\n",
      "    \"followers_count\": 31543,\n",
      "    \"profile_sidebar_border_color\": \"BDDCAD\",\n",
      "    \"id_str\": \"16960279\",\n",
      "    \"profile_background_color\": \"9AE4E8\",\n",
      "    \"listed_count\": 1519,\n",
      "    \"is_translation_enabled\": false,\n",
      "    \"utc_offset\": -18000,\n",
      "    \"statuses_count\": 87039,\n",
      "    \"description\": \"Tells jokes, Brazilian Jiu-Jitsu obsessed, isn't a dick. Cohost of @Citizenradio. \\r\\nMy book #NEWSFAIL: http://t.co/NytPQaxrGI \\r\\nhttp://t.co/Unq3BN63XW\",\n",
      "    \"friends_count\": 870,\n",
      "    \"location\": \"Brooklyn, NY\",\n",
      "    \"profile_link_color\": \"0084B4\",\n",
      "    \"profile_image_url\": \"http://pbs.twimg.com/profile_images/589205006651248641/PW4tvFBd_normal.jpg\",\n",
      "    \"following\": false,\n",
      "    \"geo_enabled\": false,\n",
      "    \"profile_banner_url\": \"https://pbs.twimg.com/profile_banners/16960279/1404938225\",\n",
      "    \"profile_background_image_url\": \"http://pbs.twimg.com/profile_background_images/322228331/Twitter.jpg\",\n",
      "    \"screen_name\": \"jamiekilstein\",\n",
      "    \"lang\": \"en\",\n",
      "    \"profile_background_tile\": false,\n",
      "    \"favourites_count\": 269,\n",
      "    \"name\": \"Jamie Kilstein\",\n",
      "    \"notifications\": false,\n",
      "    \"url\": \"http://t.co/GUi262F2ux\",\n",
      "    \"created_at\": \"Sat Oct 25 01:22:31 +0000 2008\",\n",
      "    \"contributors_enabled\": false,\n",
      "    \"time_zone\": \"Quito\",\n",
      "    \"protected\": false,\n",
      "    \"default_profile\": false,\n",
      "    \"is_translator\": false\n",
      "  },\n",
      "  \"geo\": null,\n",
      "  \"in_reply_to_user_id_str\": null,\n",
      "  \"lang\": \"en\",\n",
      "  \"created_at\": \"Sun Aug 10 16:07:10 +0000 2014\",\n",
      "  \"in_reply_to_status_id_str\": null,\n",
      "  \"place\": null\n",
      "}\n"
     ]
    }
   ],
   "source": [
    "index = 25\n",
    "\n",
    "print(json_labels_train[json_lines_train[index][0]['id_str']])\n",
    "print(json.dumps(json_lines_train[index][0], indent=2))\n",
    "\n"
   ]
  },
  {
   "cell_type": "code",
   "execution_count": 40,
   "metadata": {},
   "outputs": [
    {
     "data": {
      "text/plain": [
       "'non-rumour'"
      ]
     },
     "execution_count": 40,
     "metadata": {},
     "output_type": "execute_result"
    }
   ],
   "source": [
    "json_labels_train['525003253185277952']"
   ]
  },
  {
   "cell_type": "markdown",
   "metadata": {},
   "source": [
    "## Important factors\n",
    "* Information Density\n",
    "* Follower count\n",
    "* Verified or not - We are fully confident that this is not an artifical actor, this likely is a good spam filtering feature. \n",
    "* Is news channel or not\n",
    "* feelings or factual ? Does it make a statement or is it vague ? This is vaguely correlated with sentiment analysis. Scores on the extreme ends of sentiment analysis tend to be feeling heavy while vague statements tend to be statement heavy. We can detect users that try to assert facts through this.\n",
    "* Profanity, users that are spreading \"truths\" can be detected by the lack of profanity and spelling mistakes."
   ]
  },
  {
   "cell_type": "code",
   "execution_count": null,
   "metadata": {},
   "outputs": [],
   "source": []
  },
  {
   "cell_type": "code",
   "execution_count": null,
   "metadata": {},
   "outputs": [],
   "source": []
  },
  {
   "cell_type": "code",
   "execution_count": null,
   "metadata": {},
   "outputs": [],
   "source": []
  },
  {
   "cell_type": "code",
   "execution_count": null,
   "metadata": {},
   "outputs": [],
   "source": []
  },
  {
   "cell_type": "code",
   "execution_count": null,
   "metadata": {},
   "outputs": [],
   "source": []
  },
  {
   "cell_type": "code",
   "execution_count": null,
   "metadata": {},
   "outputs": [],
   "source": []
  },
  {
   "cell_type": "code",
   "execution_count": null,
   "metadata": {},
   "outputs": [],
   "source": []
  },
  {
   "cell_type": "code",
   "execution_count": null,
   "metadata": {},
   "outputs": [],
   "source": []
  },
  {
   "cell_type": "code",
   "execution_count": null,
   "metadata": {},
   "outputs": [],
   "source": []
  },
  {
   "cell_type": "code",
   "execution_count": null,
   "metadata": {},
   "outputs": [],
   "source": []
  },
  {
   "cell_type": "code",
   "execution_count": null,
   "metadata": {},
   "outputs": [],
   "source": []
  }
 ],
 "metadata": {
  "kernelspec": {
   "display_name": "Python 3",
   "language": "python",
   "name": "python3"
  },
  "language_info": {
   "codemirror_mode": {
    "name": "ipython",
    "version": 3
   },
   "file_extension": ".py",
   "mimetype": "text/x-python",
   "name": "python",
   "nbconvert_exporter": "python",
   "pygments_lexer": "ipython3",
   "version": "3.8.5"
  }
 },
 "nbformat": 4,
 "nbformat_minor": 4
}
